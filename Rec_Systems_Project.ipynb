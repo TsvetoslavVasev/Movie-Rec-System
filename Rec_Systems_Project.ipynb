{
  "cells": [
    {
      "cell_type": "markdown",
      "metadata": {
        "id": "view-in-github",
        "colab_type": "text"
      },
      "source": [
        "<a href=\"https://colab.research.google.com/github/TsvetoslavVasev/Movie-Rec-System/blob/main/Rec_Systems_Project.ipynb\" target=\"_parent\"><img src=\"https://colab.research.google.com/assets/colab-badge.svg\" alt=\"Open In Colab\"/></a>"
      ]
    },
    {
      "cell_type": "markdown",
      "metadata": {
        "id": "DHbPOpDXLZXf"
      },
      "source": [
        "# Проект на тема:\n",
        "## Експерименти с content based, различни collaborative filtering подходи и  хибриден подход върху MovieLens и TBDB-5000\n",
        "### Николай Станчев ф.н. 8MI3400153, Цветослав Васев ф.н. 4MI3400015 "
      ]
    },
    {
      "cell_type": "code",
      "execution_count": null,
      "metadata": {
        "colab": {
          "base_uri": "https://localhost:8080/"
        },
        "id": "cJbpl6swLZXh",
        "outputId": "1d6a3d5f-879a-4444-b2e3-826f3cf360ec"
      },
      "outputs": [
        {
          "output_type": "stream",
          "name": "stdout",
          "text": [
            "Looking in indexes: https://pypi.org/simple, https://us-python.pkg.dev/colab-wheels/public/simple/\n",
            "Requirement already satisfied: surprise in /usr/local/lib/python3.7/dist-packages (0.1)\n",
            "Requirement already satisfied: scikit-surprise in /usr/local/lib/python3.7/dist-packages (from surprise) (1.1.1)\n",
            "Requirement already satisfied: six>=1.10.0 in /usr/local/lib/python3.7/dist-packages (from scikit-surprise->surprise) (1.15.0)\n",
            "Requirement already satisfied: numpy>=1.11.2 in /usr/local/lib/python3.7/dist-packages (from scikit-surprise->surprise) (1.21.6)\n",
            "Requirement already satisfied: joblib>=0.11 in /usr/local/lib/python3.7/dist-packages (from scikit-surprise->surprise) (1.1.0)\n",
            "Requirement already satisfied: scipy>=1.0.0 in /usr/local/lib/python3.7/dist-packages (from scikit-surprise->surprise) (1.4.1)\n",
            "Drive already mounted at /content/drive; to attempt to forcibly remount, call drive.mount(\"/content/drive\", force_remount=True).\n",
            "Looking in indexes: https://pypi.org/simple, https://us-python.pkg.dev/colab-wheels/public/simple/\n",
            "Requirement already satisfied: annoy in /usr/local/lib/python3.7/dist-packages (1.17.0)\n"
          ]
        }
      ],
      "source": [
        "import numpy as np\n",
        "import pandas as pd\n",
        "import os\n",
        "import ast\n",
        "import sklearn\n",
        "import datetime\n",
        "from sklearn.feature_extraction.text import TfidfVectorizer\n",
        "from sklearn.metrics.pairwise import linear_kernel\n",
        "from sklearn.metrics import pairwise_distances\n",
        "from sklearn.feature_extraction.text import CountVectorizer\n",
        "from sklearn.model_selection import train_test_split\n",
        "%pip install surprise\n",
        "from scipy.spatial.distance import cosine, correlation\n",
        "from surprise import Reader, Dataset, SVD, NormalPredictor, BaselineOnly, KNNBasic, NMF\n",
        "from surprise.model_selection import cross_validate, KFold ,GridSearchCV , RandomizedSearchCV\n",
        "from keras.models import Sequential, Model\n",
        "from keras.callbacks import ReduceLROnPlateau, EarlyStopping\n",
        "from keras.layers import  Input, dot, concatenate, Embedding, Flatten, merge, Dropout, Dense, BatchNormalization, dot\n",
        "from keras.models import Model\n",
        "from IPython.display import SVG\n",
        "from keras.utils.vis_utils import model_to_dot\n",
        "from keras.layers import Activation, Dense, Dropout, Embedding, Flatten, Conv1D, MaxPooling1D, LSTM\n",
        "import tensorflow as tf\n",
        "from tensorflow import keras\n",
        "from tensorflow.keras import layers\n",
        "from tensorflow.keras.optimizers import Adam \n",
        "from tensorflow.keras.utils import plot_model, model_to_dot\n",
        "from tensorflow.keras.constraints import non_neg\n",
        "from IPython.display import SVG\n",
        "from sklearn.metrics import mean_squared_error\n",
        "import os\n",
        "import gc\n",
        "import matplotlib.pyplot as plt\n",
        "import seaborn as sns\n",
        "from datetime import datetime\n",
        "pd.set_option('display.max_rows',50)\n",
        "pd.set_option('display.max_columns', 50)\n",
        "from google.colab import drive\n",
        "drive.mount('/content/drive')\n",
        "from scipy.sparse import csr_matrix\n",
        "from sklearn.neighbors import NearestNeighbors\n",
        "import surprise\n",
        "import sklearn\n",
        "import datetime\n",
        "import seaborn as sns\n",
        "from sklearn.decomposition import NMF\n",
        "%pip install annoy\n",
        "from annoy import AnnoyIndex\n",
        "import pickle\n",
        "from surprise import NMF as surprise_nmf\n",
        "from surprise.accuracy import rmse\n",
        "from surprise import accuracy\n",
        "from surprise import Reader\n",
        "from surprise import Dataset\n",
        "from surprise.model_selection import train_test_split as surprise_train_test_split\n",
        "from keras.models import load_model"
      ]
    },
    {
      "cell_type": "markdown",
      "metadata": {
        "id": "WH5TteqzLZXk"
      },
      "source": [
        "# TBDB-5000 TF-IDF Content Based Recommandation \n",
        "Ще използваме tbdb-5000 дейтасета, съдържащ подробна информация за филми.\n",
        "Препоръките ще ги генерираме, използвайка TF-IDF методологията от NLP."
      ]
    },
    {
      "cell_type": "code",
      "execution_count": null,
      "metadata": {
        "id": "fIIxxYZXLZXk"
      },
      "outputs": [],
      "source": [
        "credits = pd.read_csv(\"drive/MyDrive/RecSys-Datasets/tmdb-5000/tmdb_5000_credits.csv\")\n",
        "movies = pd.read_csv(\"drive/MyDrive/RecSys-Datasets/tmdb-5000/tmdb_5000_movies.csv\")"
      ]
    },
    {
      "cell_type": "markdown",
      "source": [
        "Нека разгледаме данните от дейтасета."
      ],
      "metadata": {
        "id": "ioSeC6hNqMf5"
      }
    },
    {
      "cell_type": "code",
      "execution_count": null,
      "metadata": {
        "colab": {
          "base_uri": "https://localhost:8080/",
          "height": 870
        },
        "id": "FBxIOLDgLZXk",
        "outputId": "fc6a0330-c587-45bb-e841-accef820cf93"
      },
      "outputs": [
        {
          "output_type": "display_data",
          "data": {
            "text/plain": [
              "   movie_id                                     title  \\\n",
              "0     19995                                    Avatar   \n",
              "1       285  Pirates of the Caribbean: At World's End   \n",
              "2    206647                                   Spectre   \n",
              "3     49026                     The Dark Knight Rises   \n",
              "4     49529                               John Carter   \n",
              "\n",
              "                                                cast  \\\n",
              "0  [{\"cast_id\": 242, \"character\": \"Jake Sully\", \"...   \n",
              "1  [{\"cast_id\": 4, \"character\": \"Captain Jack Spa...   \n",
              "2  [{\"cast_id\": 1, \"character\": \"James Bond\", \"cr...   \n",
              "3  [{\"cast_id\": 2, \"character\": \"Bruce Wayne / Ba...   \n",
              "4  [{\"cast_id\": 5, \"character\": \"John Carter\", \"c...   \n",
              "\n",
              "                                                crew  \n",
              "0  [{\"credit_id\": \"52fe48009251416c750aca23\", \"de...  \n",
              "1  [{\"credit_id\": \"52fe4232c3a36847f800b579\", \"de...  \n",
              "2  [{\"credit_id\": \"54805967c3a36829b5002c41\", \"de...  \n",
              "3  [{\"credit_id\": \"52fe4781c3a36847f81398c3\", \"de...  \n",
              "4  [{\"credit_id\": \"52fe479ac3a36847f813eaa3\", \"de...  "
            ],
            "text/html": [
              "\n",
              "  <div id=\"df-82857301-396c-4281-88a9-c69cee6c3d82\">\n",
              "    <div class=\"colab-df-container\">\n",
              "      <div>\n",
              "<style scoped>\n",
              "    .dataframe tbody tr th:only-of-type {\n",
              "        vertical-align: middle;\n",
              "    }\n",
              "\n",
              "    .dataframe tbody tr th {\n",
              "        vertical-align: top;\n",
              "    }\n",
              "\n",
              "    .dataframe thead th {\n",
              "        text-align: right;\n",
              "    }\n",
              "</style>\n",
              "<table border=\"1\" class=\"dataframe\">\n",
              "  <thead>\n",
              "    <tr style=\"text-align: right;\">\n",
              "      <th></th>\n",
              "      <th>movie_id</th>\n",
              "      <th>title</th>\n",
              "      <th>cast</th>\n",
              "      <th>crew</th>\n",
              "    </tr>\n",
              "  </thead>\n",
              "  <tbody>\n",
              "    <tr>\n",
              "      <th>0</th>\n",
              "      <td>19995</td>\n",
              "      <td>Avatar</td>\n",
              "      <td>[{\"cast_id\": 242, \"character\": \"Jake Sully\", \"...</td>\n",
              "      <td>[{\"credit_id\": \"52fe48009251416c750aca23\", \"de...</td>\n",
              "    </tr>\n",
              "    <tr>\n",
              "      <th>1</th>\n",
              "      <td>285</td>\n",
              "      <td>Pirates of the Caribbean: At World's End</td>\n",
              "      <td>[{\"cast_id\": 4, \"character\": \"Captain Jack Spa...</td>\n",
              "      <td>[{\"credit_id\": \"52fe4232c3a36847f800b579\", \"de...</td>\n",
              "    </tr>\n",
              "    <tr>\n",
              "      <th>2</th>\n",
              "      <td>206647</td>\n",
              "      <td>Spectre</td>\n",
              "      <td>[{\"cast_id\": 1, \"character\": \"James Bond\", \"cr...</td>\n",
              "      <td>[{\"credit_id\": \"54805967c3a36829b5002c41\", \"de...</td>\n",
              "    </tr>\n",
              "    <tr>\n",
              "      <th>3</th>\n",
              "      <td>49026</td>\n",
              "      <td>The Dark Knight Rises</td>\n",
              "      <td>[{\"cast_id\": 2, \"character\": \"Bruce Wayne / Ba...</td>\n",
              "      <td>[{\"credit_id\": \"52fe4781c3a36847f81398c3\", \"de...</td>\n",
              "    </tr>\n",
              "    <tr>\n",
              "      <th>4</th>\n",
              "      <td>49529</td>\n",
              "      <td>John Carter</td>\n",
              "      <td>[{\"cast_id\": 5, \"character\": \"John Carter\", \"c...</td>\n",
              "      <td>[{\"credit_id\": \"52fe479ac3a36847f813eaa3\", \"de...</td>\n",
              "    </tr>\n",
              "  </tbody>\n",
              "</table>\n",
              "</div>\n",
              "      <button class=\"colab-df-convert\" onclick=\"convertToInteractive('df-82857301-396c-4281-88a9-c69cee6c3d82')\"\n",
              "              title=\"Convert this dataframe to an interactive table.\"\n",
              "              style=\"display:none;\">\n",
              "        \n",
              "  <svg xmlns=\"http://www.w3.org/2000/svg\" height=\"24px\"viewBox=\"0 0 24 24\"\n",
              "       width=\"24px\">\n",
              "    <path d=\"M0 0h24v24H0V0z\" fill=\"none\"/>\n",
              "    <path d=\"M18.56 5.44l.94 2.06.94-2.06 2.06-.94-2.06-.94-.94-2.06-.94 2.06-2.06.94zm-11 1L8.5 8.5l.94-2.06 2.06-.94-2.06-.94L8.5 2.5l-.94 2.06-2.06.94zm10 10l.94 2.06.94-2.06 2.06-.94-2.06-.94-.94-2.06-.94 2.06-2.06.94z\"/><path d=\"M17.41 7.96l-1.37-1.37c-.4-.4-.92-.59-1.43-.59-.52 0-1.04.2-1.43.59L10.3 9.45l-7.72 7.72c-.78.78-.78 2.05 0 2.83L4 21.41c.39.39.9.59 1.41.59.51 0 1.02-.2 1.41-.59l7.78-7.78 2.81-2.81c.8-.78.8-2.07 0-2.86zM5.41 20L4 18.59l7.72-7.72 1.47 1.35L5.41 20z\"/>\n",
              "  </svg>\n",
              "      </button>\n",
              "      \n",
              "  <style>\n",
              "    .colab-df-container {\n",
              "      display:flex;\n",
              "      flex-wrap:wrap;\n",
              "      gap: 12px;\n",
              "    }\n",
              "\n",
              "    .colab-df-convert {\n",
              "      background-color: #E8F0FE;\n",
              "      border: none;\n",
              "      border-radius: 50%;\n",
              "      cursor: pointer;\n",
              "      display: none;\n",
              "      fill: #1967D2;\n",
              "      height: 32px;\n",
              "      padding: 0 0 0 0;\n",
              "      width: 32px;\n",
              "    }\n",
              "\n",
              "    .colab-df-convert:hover {\n",
              "      background-color: #E2EBFA;\n",
              "      box-shadow: 0px 1px 2px rgba(60, 64, 67, 0.3), 0px 1px 3px 1px rgba(60, 64, 67, 0.15);\n",
              "      fill: #174EA6;\n",
              "    }\n",
              "\n",
              "    [theme=dark] .colab-df-convert {\n",
              "      background-color: #3B4455;\n",
              "      fill: #D2E3FC;\n",
              "    }\n",
              "\n",
              "    [theme=dark] .colab-df-convert:hover {\n",
              "      background-color: #434B5C;\n",
              "      box-shadow: 0px 1px 3px 1px rgba(0, 0, 0, 0.15);\n",
              "      filter: drop-shadow(0px 1px 2px rgba(0, 0, 0, 0.3));\n",
              "      fill: #FFFFFF;\n",
              "    }\n",
              "  </style>\n",
              "\n",
              "      <script>\n",
              "        const buttonEl =\n",
              "          document.querySelector('#df-82857301-396c-4281-88a9-c69cee6c3d82 button.colab-df-convert');\n",
              "        buttonEl.style.display =\n",
              "          google.colab.kernel.accessAllowed ? 'block' : 'none';\n",
              "\n",
              "        async function convertToInteractive(key) {\n",
              "          const element = document.querySelector('#df-82857301-396c-4281-88a9-c69cee6c3d82');\n",
              "          const dataTable =\n",
              "            await google.colab.kernel.invokeFunction('convertToInteractive',\n",
              "                                                     [key], {});\n",
              "          if (!dataTable) return;\n",
              "\n",
              "          const docLinkHtml = 'Like what you see? Visit the ' +\n",
              "            '<a target=\"_blank\" href=https://colab.research.google.com/notebooks/data_table.ipynb>data table notebook</a>'\n",
              "            + ' to learn more about interactive tables.';\n",
              "          element.innerHTML = '';\n",
              "          dataTable['output_type'] = 'display_data';\n",
              "          await google.colab.output.renderOutput(dataTable, element);\n",
              "          const docLink = document.createElement('div');\n",
              "          docLink.innerHTML = docLinkHtml;\n",
              "          element.appendChild(docLink);\n",
              "        }\n",
              "      </script>\n",
              "    </div>\n",
              "  </div>\n",
              "  "
            ]
          },
          "metadata": {}
        },
        {
          "output_type": "display_data",
          "data": {
            "text/plain": [
              "      budget                                             genres  \\\n",
              "0  237000000  [{\"id\": 28, \"name\": \"Action\"}, {\"id\": 12, \"nam...   \n",
              "1  300000000  [{\"id\": 12, \"name\": \"Adventure\"}, {\"id\": 14, \"...   \n",
              "2  245000000  [{\"id\": 28, \"name\": \"Action\"}, {\"id\": 12, \"nam...   \n",
              "3  250000000  [{\"id\": 28, \"name\": \"Action\"}, {\"id\": 80, \"nam...   \n",
              "4  260000000  [{\"id\": 28, \"name\": \"Action\"}, {\"id\": 12, \"nam...   \n",
              "\n",
              "                                       homepage      id  \\\n",
              "0                   http://www.avatarmovie.com/   19995   \n",
              "1  http://disney.go.com/disneypictures/pirates/     285   \n",
              "2   http://www.sonypictures.com/movies/spectre/  206647   \n",
              "3            http://www.thedarkknightrises.com/   49026   \n",
              "4          http://movies.disney.com/john-carter   49529   \n",
              "\n",
              "                                            keywords original_language  \\\n",
              "0  [{\"id\": 1463, \"name\": \"culture clash\"}, {\"id\":...                en   \n",
              "1  [{\"id\": 270, \"name\": \"ocean\"}, {\"id\": 726, \"na...                en   \n",
              "2  [{\"id\": 470, \"name\": \"spy\"}, {\"id\": 818, \"name...                en   \n",
              "3  [{\"id\": 849, \"name\": \"dc comics\"}, {\"id\": 853,...                en   \n",
              "4  [{\"id\": 818, \"name\": \"based on novel\"}, {\"id\":...                en   \n",
              "\n",
              "                             original_title  \\\n",
              "0                                    Avatar   \n",
              "1  Pirates of the Caribbean: At World's End   \n",
              "2                                   Spectre   \n",
              "3                     The Dark Knight Rises   \n",
              "4                               John Carter   \n",
              "\n",
              "                                            overview  popularity  \\\n",
              "0  In the 22nd century, a paraplegic Marine is di...  150.437577   \n",
              "1  Captain Barbossa, long believed to be dead, ha...  139.082615   \n",
              "2  A cryptic message from Bond’s past sends him o...  107.376788   \n",
              "3  Following the death of District Attorney Harve...  112.312950   \n",
              "4  John Carter is a war-weary, former military ca...   43.926995   \n",
              "\n",
              "                                production_companies  \\\n",
              "0  [{\"name\": \"Ingenious Film Partners\", \"id\": 289...   \n",
              "1  [{\"name\": \"Walt Disney Pictures\", \"id\": 2}, {\"...   \n",
              "2  [{\"name\": \"Columbia Pictures\", \"id\": 5}, {\"nam...   \n",
              "3  [{\"name\": \"Legendary Pictures\", \"id\": 923}, {\"...   \n",
              "4        [{\"name\": \"Walt Disney Pictures\", \"id\": 2}]   \n",
              "\n",
              "                                production_countries release_date     revenue  \\\n",
              "0  [{\"iso_3166_1\": \"US\", \"name\": \"United States o...   2009-12-10  2787965087   \n",
              "1  [{\"iso_3166_1\": \"US\", \"name\": \"United States o...   2007-05-19   961000000   \n",
              "2  [{\"iso_3166_1\": \"GB\", \"name\": \"United Kingdom\"...   2015-10-26   880674609   \n",
              "3  [{\"iso_3166_1\": \"US\", \"name\": \"United States o...   2012-07-16  1084939099   \n",
              "4  [{\"iso_3166_1\": \"US\", \"name\": \"United States o...   2012-03-07   284139100   \n",
              "\n",
              "   runtime                                   spoken_languages    status  \\\n",
              "0    162.0  [{\"iso_639_1\": \"en\", \"name\": \"English\"}, {\"iso...  Released   \n",
              "1    169.0           [{\"iso_639_1\": \"en\", \"name\": \"English\"}]  Released   \n",
              "2    148.0  [{\"iso_639_1\": \"fr\", \"name\": \"Fran\\u00e7ais\"},...  Released   \n",
              "3    165.0           [{\"iso_639_1\": \"en\", \"name\": \"English\"}]  Released   \n",
              "4    132.0           [{\"iso_639_1\": \"en\", \"name\": \"English\"}]  Released   \n",
              "\n",
              "                                          tagline  \\\n",
              "0                     Enter the World of Pandora.   \n",
              "1  At the end of the world, the adventure begins.   \n",
              "2                           A Plan No One Escapes   \n",
              "3                                 The Legend Ends   \n",
              "4            Lost in our world, found in another.   \n",
              "\n",
              "                                      title  vote_average  vote_count  \n",
              "0                                    Avatar           7.2       11800  \n",
              "1  Pirates of the Caribbean: At World's End           6.9        4500  \n",
              "2                                   Spectre           6.3        4466  \n",
              "3                     The Dark Knight Rises           7.6        9106  \n",
              "4                               John Carter           6.1        2124  "
            ],
            "text/html": [
              "\n",
              "  <div id=\"df-f57a2545-c41d-426a-bcb1-35462942a1e2\">\n",
              "    <div class=\"colab-df-container\">\n",
              "      <div>\n",
              "<style scoped>\n",
              "    .dataframe tbody tr th:only-of-type {\n",
              "        vertical-align: middle;\n",
              "    }\n",
              "\n",
              "    .dataframe tbody tr th {\n",
              "        vertical-align: top;\n",
              "    }\n",
              "\n",
              "    .dataframe thead th {\n",
              "        text-align: right;\n",
              "    }\n",
              "</style>\n",
              "<table border=\"1\" class=\"dataframe\">\n",
              "  <thead>\n",
              "    <tr style=\"text-align: right;\">\n",
              "      <th></th>\n",
              "      <th>budget</th>\n",
              "      <th>genres</th>\n",
              "      <th>homepage</th>\n",
              "      <th>id</th>\n",
              "      <th>keywords</th>\n",
              "      <th>original_language</th>\n",
              "      <th>original_title</th>\n",
              "      <th>overview</th>\n",
              "      <th>popularity</th>\n",
              "      <th>production_companies</th>\n",
              "      <th>production_countries</th>\n",
              "      <th>release_date</th>\n",
              "      <th>revenue</th>\n",
              "      <th>runtime</th>\n",
              "      <th>spoken_languages</th>\n",
              "      <th>status</th>\n",
              "      <th>tagline</th>\n",
              "      <th>title</th>\n",
              "      <th>vote_average</th>\n",
              "      <th>vote_count</th>\n",
              "    </tr>\n",
              "  </thead>\n",
              "  <tbody>\n",
              "    <tr>\n",
              "      <th>0</th>\n",
              "      <td>237000000</td>\n",
              "      <td>[{\"id\": 28, \"name\": \"Action\"}, {\"id\": 12, \"nam...</td>\n",
              "      <td>http://www.avatarmovie.com/</td>\n",
              "      <td>19995</td>\n",
              "      <td>[{\"id\": 1463, \"name\": \"culture clash\"}, {\"id\":...</td>\n",
              "      <td>en</td>\n",
              "      <td>Avatar</td>\n",
              "      <td>In the 22nd century, a paraplegic Marine is di...</td>\n",
              "      <td>150.437577</td>\n",
              "      <td>[{\"name\": \"Ingenious Film Partners\", \"id\": 289...</td>\n",
              "      <td>[{\"iso_3166_1\": \"US\", \"name\": \"United States o...</td>\n",
              "      <td>2009-12-10</td>\n",
              "      <td>2787965087</td>\n",
              "      <td>162.0</td>\n",
              "      <td>[{\"iso_639_1\": \"en\", \"name\": \"English\"}, {\"iso...</td>\n",
              "      <td>Released</td>\n",
              "      <td>Enter the World of Pandora.</td>\n",
              "      <td>Avatar</td>\n",
              "      <td>7.2</td>\n",
              "      <td>11800</td>\n",
              "    </tr>\n",
              "    <tr>\n",
              "      <th>1</th>\n",
              "      <td>300000000</td>\n",
              "      <td>[{\"id\": 12, \"name\": \"Adventure\"}, {\"id\": 14, \"...</td>\n",
              "      <td>http://disney.go.com/disneypictures/pirates/</td>\n",
              "      <td>285</td>\n",
              "      <td>[{\"id\": 270, \"name\": \"ocean\"}, {\"id\": 726, \"na...</td>\n",
              "      <td>en</td>\n",
              "      <td>Pirates of the Caribbean: At World's End</td>\n",
              "      <td>Captain Barbossa, long believed to be dead, ha...</td>\n",
              "      <td>139.082615</td>\n",
              "      <td>[{\"name\": \"Walt Disney Pictures\", \"id\": 2}, {\"...</td>\n",
              "      <td>[{\"iso_3166_1\": \"US\", \"name\": \"United States o...</td>\n",
              "      <td>2007-05-19</td>\n",
              "      <td>961000000</td>\n",
              "      <td>169.0</td>\n",
              "      <td>[{\"iso_639_1\": \"en\", \"name\": \"English\"}]</td>\n",
              "      <td>Released</td>\n",
              "      <td>At the end of the world, the adventure begins.</td>\n",
              "      <td>Pirates of the Caribbean: At World's End</td>\n",
              "      <td>6.9</td>\n",
              "      <td>4500</td>\n",
              "    </tr>\n",
              "    <tr>\n",
              "      <th>2</th>\n",
              "      <td>245000000</td>\n",
              "      <td>[{\"id\": 28, \"name\": \"Action\"}, {\"id\": 12, \"nam...</td>\n",
              "      <td>http://www.sonypictures.com/movies/spectre/</td>\n",
              "      <td>206647</td>\n",
              "      <td>[{\"id\": 470, \"name\": \"spy\"}, {\"id\": 818, \"name...</td>\n",
              "      <td>en</td>\n",
              "      <td>Spectre</td>\n",
              "      <td>A cryptic message from Bond’s past sends him o...</td>\n",
              "      <td>107.376788</td>\n",
              "      <td>[{\"name\": \"Columbia Pictures\", \"id\": 5}, {\"nam...</td>\n",
              "      <td>[{\"iso_3166_1\": \"GB\", \"name\": \"United Kingdom\"...</td>\n",
              "      <td>2015-10-26</td>\n",
              "      <td>880674609</td>\n",
              "      <td>148.0</td>\n",
              "      <td>[{\"iso_639_1\": \"fr\", \"name\": \"Fran\\u00e7ais\"},...</td>\n",
              "      <td>Released</td>\n",
              "      <td>A Plan No One Escapes</td>\n",
              "      <td>Spectre</td>\n",
              "      <td>6.3</td>\n",
              "      <td>4466</td>\n",
              "    </tr>\n",
              "    <tr>\n",
              "      <th>3</th>\n",
              "      <td>250000000</td>\n",
              "      <td>[{\"id\": 28, \"name\": \"Action\"}, {\"id\": 80, \"nam...</td>\n",
              "      <td>http://www.thedarkknightrises.com/</td>\n",
              "      <td>49026</td>\n",
              "      <td>[{\"id\": 849, \"name\": \"dc comics\"}, {\"id\": 853,...</td>\n",
              "      <td>en</td>\n",
              "      <td>The Dark Knight Rises</td>\n",
              "      <td>Following the death of District Attorney Harve...</td>\n",
              "      <td>112.312950</td>\n",
              "      <td>[{\"name\": \"Legendary Pictures\", \"id\": 923}, {\"...</td>\n",
              "      <td>[{\"iso_3166_1\": \"US\", \"name\": \"United States o...</td>\n",
              "      <td>2012-07-16</td>\n",
              "      <td>1084939099</td>\n",
              "      <td>165.0</td>\n",
              "      <td>[{\"iso_639_1\": \"en\", \"name\": \"English\"}]</td>\n",
              "      <td>Released</td>\n",
              "      <td>The Legend Ends</td>\n",
              "      <td>The Dark Knight Rises</td>\n",
              "      <td>7.6</td>\n",
              "      <td>9106</td>\n",
              "    </tr>\n",
              "    <tr>\n",
              "      <th>4</th>\n",
              "      <td>260000000</td>\n",
              "      <td>[{\"id\": 28, \"name\": \"Action\"}, {\"id\": 12, \"nam...</td>\n",
              "      <td>http://movies.disney.com/john-carter</td>\n",
              "      <td>49529</td>\n",
              "      <td>[{\"id\": 818, \"name\": \"based on novel\"}, {\"id\":...</td>\n",
              "      <td>en</td>\n",
              "      <td>John Carter</td>\n",
              "      <td>John Carter is a war-weary, former military ca...</td>\n",
              "      <td>43.926995</td>\n",
              "      <td>[{\"name\": \"Walt Disney Pictures\", \"id\": 2}]</td>\n",
              "      <td>[{\"iso_3166_1\": \"US\", \"name\": \"United States o...</td>\n",
              "      <td>2012-03-07</td>\n",
              "      <td>284139100</td>\n",
              "      <td>132.0</td>\n",
              "      <td>[{\"iso_639_1\": \"en\", \"name\": \"English\"}]</td>\n",
              "      <td>Released</td>\n",
              "      <td>Lost in our world, found in another.</td>\n",
              "      <td>John Carter</td>\n",
              "      <td>6.1</td>\n",
              "      <td>2124</td>\n",
              "    </tr>\n",
              "  </tbody>\n",
              "</table>\n",
              "</div>\n",
              "      <button class=\"colab-df-convert\" onclick=\"convertToInteractive('df-f57a2545-c41d-426a-bcb1-35462942a1e2')\"\n",
              "              title=\"Convert this dataframe to an interactive table.\"\n",
              "              style=\"display:none;\">\n",
              "        \n",
              "  <svg xmlns=\"http://www.w3.org/2000/svg\" height=\"24px\"viewBox=\"0 0 24 24\"\n",
              "       width=\"24px\">\n",
              "    <path d=\"M0 0h24v24H0V0z\" fill=\"none\"/>\n",
              "    <path d=\"M18.56 5.44l.94 2.06.94-2.06 2.06-.94-2.06-.94-.94-2.06-.94 2.06-2.06.94zm-11 1L8.5 8.5l.94-2.06 2.06-.94-2.06-.94L8.5 2.5l-.94 2.06-2.06.94zm10 10l.94 2.06.94-2.06 2.06-.94-2.06-.94-.94-2.06-.94 2.06-2.06.94z\"/><path d=\"M17.41 7.96l-1.37-1.37c-.4-.4-.92-.59-1.43-.59-.52 0-1.04.2-1.43.59L10.3 9.45l-7.72 7.72c-.78.78-.78 2.05 0 2.83L4 21.41c.39.39.9.59 1.41.59.51 0 1.02-.2 1.41-.59l7.78-7.78 2.81-2.81c.8-.78.8-2.07 0-2.86zM5.41 20L4 18.59l7.72-7.72 1.47 1.35L5.41 20z\"/>\n",
              "  </svg>\n",
              "      </button>\n",
              "      \n",
              "  <style>\n",
              "    .colab-df-container {\n",
              "      display:flex;\n",
              "      flex-wrap:wrap;\n",
              "      gap: 12px;\n",
              "    }\n",
              "\n",
              "    .colab-df-convert {\n",
              "      background-color: #E8F0FE;\n",
              "      border: none;\n",
              "      border-radius: 50%;\n",
              "      cursor: pointer;\n",
              "      display: none;\n",
              "      fill: #1967D2;\n",
              "      height: 32px;\n",
              "      padding: 0 0 0 0;\n",
              "      width: 32px;\n",
              "    }\n",
              "\n",
              "    .colab-df-convert:hover {\n",
              "      background-color: #E2EBFA;\n",
              "      box-shadow: 0px 1px 2px rgba(60, 64, 67, 0.3), 0px 1px 3px 1px rgba(60, 64, 67, 0.15);\n",
              "      fill: #174EA6;\n",
              "    }\n",
              "\n",
              "    [theme=dark] .colab-df-convert {\n",
              "      background-color: #3B4455;\n",
              "      fill: #D2E3FC;\n",
              "    }\n",
              "\n",
              "    [theme=dark] .colab-df-convert:hover {\n",
              "      background-color: #434B5C;\n",
              "      box-shadow: 0px 1px 3px 1px rgba(0, 0, 0, 0.15);\n",
              "      filter: drop-shadow(0px 1px 2px rgba(0, 0, 0, 0.3));\n",
              "      fill: #FFFFFF;\n",
              "    }\n",
              "  </style>\n",
              "\n",
              "      <script>\n",
              "        const buttonEl =\n",
              "          document.querySelector('#df-f57a2545-c41d-426a-bcb1-35462942a1e2 button.colab-df-convert');\n",
              "        buttonEl.style.display =\n",
              "          google.colab.kernel.accessAllowed ? 'block' : 'none';\n",
              "\n",
              "        async function convertToInteractive(key) {\n",
              "          const element = document.querySelector('#df-f57a2545-c41d-426a-bcb1-35462942a1e2');\n",
              "          const dataTable =\n",
              "            await google.colab.kernel.invokeFunction('convertToInteractive',\n",
              "                                                     [key], {});\n",
              "          if (!dataTable) return;\n",
              "\n",
              "          const docLinkHtml = 'Like what you see? Visit the ' +\n",
              "            '<a target=\"_blank\" href=https://colab.research.google.com/notebooks/data_table.ipynb>data table notebook</a>'\n",
              "            + ' to learn more about interactive tables.';\n",
              "          element.innerHTML = '';\n",
              "          dataTable['output_type'] = 'display_data';\n",
              "          await google.colab.output.renderOutput(dataTable, element);\n",
              "          const docLink = document.createElement('div');\n",
              "          docLink.innerHTML = docLinkHtml;\n",
              "          element.appendChild(docLink);\n",
              "        }\n",
              "      </script>\n",
              "    </div>\n",
              "  </div>\n",
              "  "
            ]
          },
          "metadata": {}
        }
      ],
      "source": [
        "display(credits.head(5))\n",
        "display(movies.head(5))"
      ]
    },
    {
      "cell_type": "code",
      "execution_count": null,
      "metadata": {
        "id": "7v6QL-AZLZXl"
      },
      "outputs": [],
      "source": [
        "credits.columns = ['id','tittle','cast','crew']\n",
        "movies= movies.merge(credits,on='id')\n",
        "plots = movies['overview']\n",
        "tfidf = TfidfVectorizer(stop_words = 'english' , max_df = 4 , min_df= 1)\n",
        "plots = plots.fillna('')\n",
        "tfidf_matrix = tfidf.fit_transform(plots)\n"
      ]
    },
    {
      "cell_type": "code",
      "execution_count": null,
      "metadata": {
        "colab": {
          "base_uri": "https://localhost:8080/"
        },
        "id": "gmV2R4KPLZXm",
        "outputId": "183b4ea0-3b72-4d65-d141-fa8670bacfd0"
      },
      "outputs": [
        {
          "output_type": "execute_result",
          "data": {
            "text/plain": [
              "(4803, 4803)"
            ]
          },
          "metadata": {},
          "execution_count": 111
        }
      ],
      "source": [
        "cos_similar = linear_kernel(tfidf_matrix , tfidf_matrix)\n",
        "cos_similar.shape"
      ]
    },
    {
      "cell_type": "code",
      "execution_count": null,
      "metadata": {
        "id": "qKwLYB4LLZXm"
      },
      "outputs": [],
      "source": [
        "indices = pd.Series(movies.index , index = movies['title']).drop_duplicates()"
      ]
    },
    {
      "cell_type": "code",
      "execution_count": null,
      "metadata": {
        "id": "cy9wkT1SLZXn"
      },
      "outputs": [],
      "source": [
        "def get_similar_movies(title):\n",
        "    idx = indices[title]\n",
        "    similar = list(enumerate(cos_similar[idx]))\n",
        "    similar = sorted(similar , key = lambda x: x[1] , reverse = True)\n",
        "    similar = similar[:11]\n",
        "    indic = []\n",
        "    for i in similar:\n",
        "        indic.append(i[0])\n",
        "    return movies['title'].iloc[indic]\n"
      ]
    },
    {
      "cell_type": "code",
      "execution_count": null,
      "metadata": {
        "colab": {
          "base_uri": "https://localhost:8080/"
        },
        "id": "kva8SFsrLZXn",
        "outputId": "909ece0c-771e-43f2-8a04-066e689eabf7"
      },
      "outputs": [
        {
          "output_type": "execute_result",
          "data": {
            "text/plain": [
              "0                                         Avatar\n",
              "634                                   The Matrix\n",
              "775                                    Supernova\n",
              "1341                        The Inhabited Island\n",
              "1       Pirates of the Caribbean: At World's End\n",
              "2                                        Spectre\n",
              "3                          The Dark Knight Rises\n",
              "4                                    John Carter\n",
              "5                                   Spider-Man 3\n",
              "6                                        Tangled\n",
              "7                        Avengers: Age of Ultron\n",
              "Name: title, dtype: object"
            ]
          },
          "metadata": {},
          "execution_count": 114
        }
      ],
      "source": [
        "get_similar_movies('Avatar')"
      ]
    },
    {
      "cell_type": "code",
      "execution_count": null,
      "metadata": {
        "colab": {
          "base_uri": "https://localhost:8080/"
        },
        "id": "MU3q8fs2LZXo",
        "outputId": "52f7cd72-d71b-4ddc-9ffc-ca445fec0070"
      },
      "outputs": [
        {
          "output_type": "execute_result",
          "data": {
            "text/plain": [
              "3                  The Dark Knight Rises\n",
              "4466                              Vessel\n",
              "136                            Bee Movie\n",
              "428                       Batman Returns\n",
              "1698                   The Rugrats Movie\n",
              "672     Perfume: The Story of a Murderer\n",
              "4566                        Diamond Ruff\n",
              "979                  Free State of Jones\n",
              "1433                   The Four Feathers\n",
              "1124                            The Heat\n",
              "2033      Deuce Bigalow: European Gigolo\n",
              "Name: title, dtype: object"
            ]
          },
          "metadata": {},
          "execution_count": 115
        }
      ],
      "source": [
        "get_similar_movies('The Dark Knight Rises')"
      ]
    },
    {
      "cell_type": "code",
      "source": [
        "get_similar_movies('American Psycho')"
      ],
      "metadata": {
        "colab": {
          "base_uri": "https://localhost:8080/"
        },
        "id": "0hHPe1KnokGl",
        "outputId": "ad1c8707-6190-4c9a-8ee0-40244b1387c6"
      },
      "execution_count": null,
      "outputs": [
        {
          "output_type": "execute_result",
          "data": {
            "text/plain": [
              "3257                             American Psycho\n",
              "4142                             Supercapitalist\n",
              "298                      The Wolf of Wall Street\n",
              "1109                               Heaven's Gate\n",
              "999                    What Planet Are You From?\n",
              "4394                          The Last Big Thing\n",
              "0                                         Avatar\n",
              "1       Pirates of the Caribbean: At World's End\n",
              "2                                        Spectre\n",
              "3                          The Dark Knight Rises\n",
              "4                                    John Carter\n",
              "Name: title, dtype: object"
            ]
          },
          "metadata": {},
          "execution_count": 116
        }
      ]
    },
    {
      "cell_type": "markdown",
      "metadata": {
        "id": "RBUl8JHdLZXo"
      },
      "source": [
        "# MovieLens Dataset EDA"
      ]
    },
    {
      "cell_type": "markdown",
      "source": [
        "За проекта ще обърнем особено внимание на MovieLens дейтасета. Нека изборим кои са файловете включени в него."
      ],
      "metadata": {
        "id": "vpf-M6pLgA3c"
      }
    },
    {
      "cell_type": "code",
      "execution_count": null,
      "metadata": {
        "colab": {
          "base_uri": "https://localhost:8080/"
        },
        "id": "73Z2QRPNLZXo",
        "outputId": "44138602-3c59-40ec-e5de-03b250e56c92"
      },
      "outputs": [
        {
          "output_type": "stream",
          "name": "stdout",
          "text": [
            "['mku.sh', 'allbut.pl', 'u.user', 'u.genre', 'u.info', 'u.occupation', 'u.data', 'u.item', 'u1.test', 'u1.base', 'u2.test', 'u2.base', 'u3.test', 'u3.base', 'u4.test', 'u4.base', 'u5.test', 'u5.base', 'ua.test', 'ua.base', 'ub.base', 'ub.test', 'README']\n"
          ]
        }
      ],
      "source": [
        "print(os.listdir('drive/MyDrive/RecSys-Datasets/ml-100k'))\n",
        "#print(os.listdir('drive/MyDrive/ml-latest'))"
      ]
    },
    {
      "cell_type": "markdown",
      "source": [
        "Дейтасета съдържа и README.md файл, който представлява подробно описание на съдържанието на различните файлове."
      ],
      "metadata": {
        "id": "qwGnvbGxgY6x"
      }
    },
    {
      "cell_type": "code",
      "execution_count": null,
      "metadata": {
        "colab": {
          "base_uri": "https://localhost:8080/"
        },
        "id": "f4HSgbJBPS8s",
        "outputId": "7d07fb9a-cd8f-4b02-f275-4ce3ef7dc831"
      },
      "outputs": [
        {
          "name": "stdout",
          "output_type": "stream",
          "text": [
            "Summary\n",
            "=======\n",
            "\n",
            "This dataset (ml-latest) describes 5-star rating and free-text tagging activity from [MovieLens](http://movielens.org), a movie recommendation service. It contains 27753444 ratings and 1108997 tag applications across 58098 movies. These data were created by 283228 users between January 09, 1995 and September 26, 2018. This dataset was generated on September 26, 2018.\n",
            "\n",
            "Users were selected at random for inclusion. All selected users had rated at least 1 movies. No demographic information is included. Each user is represented by an id, and no other information is provided.\n",
            "\n",
            "The data are contained in the files `genome-scores.csv`, `genome-tags.csv`, `links.csv`, `movies.csv`, `ratings.csv` and `tags.csv`. More details about the contents and use of all these files follows.\n",
            "\n",
            "This is a *development* dataset. As such, it may change over time and is not an appropriate dataset for shared research results. See available *benchmark* datasets if that is your intent.\n",
            "\n",
            "This and other GroupLens data sets are publicly available for download at <http://grouplens.org/datasets/>.\n",
            "\n",
            "\n",
            "Usage License\n",
            "=============\n",
            "\n",
            "Neither the University of Minnesota nor any of the researchers involved can guarantee the correctness of the data, its suitability for any particular purpose, or the validity of results based on the use of the data set. The data set may be used for any research purposes under the following conditions:\n",
            "\n",
            "* The user may not state or imply any endorsement from the University of Minnesota or the GroupLens Research Group.\n",
            "* The user must acknowledge the use of the data set in publications resulting from the use of the data set (see below for citation information).\n",
            "* The user may not redistribute the data without separate permission.\n",
            "* The user may not use this information for any commercial or revenue-bearing purposes without first obtaining permission from a faculty member of the GroupLens Research Project at the University of Minnesota.\n",
            "* The executable software scripts are provided \"as is\" without warranty of any kind, either expressed or implied, including, but not limited to, the implied warranties of merchantability and fitness for a particular purpose. The entire risk as to the quality and performance of them is with you. Should the program prove defective, you assume the cost of all necessary servicing, repair or correction.\n",
            "\n",
            "In no event shall the University of Minnesota, its affiliates or employees be liable to you for any damages arising out of the use or inability to use these programs (including but not limited to loss of data or data being rendered inaccurate).\n",
            "\n",
            "If you have any further questions or comments, please email <grouplens-info@umn.edu>\n",
            "\n",
            "\n",
            "Citation\n",
            "========\n",
            "\n",
            "To acknowledge use of the dataset in publications, please cite the following paper:\n",
            "\n",
            "> F. Maxwell Harper and Joseph A. Konstan. 2015. The MovieLens Datasets: History and Context. ACM Transactions on Interactive Intelligent Systems (TiiS) 5, 4: 19:1–19:19. <https://doi.org/10.1145/2827872>\n",
            "\n",
            "\n",
            "Further Information About GroupLens\n",
            "===================================\n",
            "\n",
            "GroupLens is a research group in the Department of Computer Science and Engineering at the University of Minnesota. Since its inception in 1992, GroupLens's research projects have explored a variety of fields including:\n",
            "\n",
            "* recommender systems\n",
            "* online communities\n",
            "* mobile and ubiquitious technologies\n",
            "* digital libraries\n",
            "* local geographic information systems\n",
            "\n",
            "GroupLens Research operates a movie recommender based on collaborative filtering, MovieLens, which is the source of these data. We encourage you to visit <http://movielens.org> to try it out! If you have exciting ideas for experimental work to conduct on MovieLens, send us an email at <grouplens-info@cs.umn.edu> - we are always interested in working with external collaborators.\n",
            "\n",
            "\n",
            "Content and Use of Files\n",
            "========================\n",
            "\n",
            "Formatting and Encoding\n",
            "-----------------------\n",
            "\n",
            "The dataset files are written as [comma-separated values](http://en.wikipedia.org/wiki/Comma-separated_values) files with a single header row. Columns that contain commas (`,`) are escaped using double-quotes (`\"`). These files are encoded as UTF-8. If accented characters in movie titles or tag values (e.g. Misérables, Les (1995)) display incorrectly, make sure that any program reading the data, such as a text editor, terminal, or script, is configured for UTF-8.\n",
            "\n",
            "\n",
            "User Ids\n",
            "--------\n",
            "\n",
            "MovieLens users were selected at random for inclusion. Their ids have been anonymized. User ids are consistent between `ratings.csv` and `tags.csv` (i.e., the same id refers to the same user across the two files).\n",
            "\n",
            "\n",
            "Movie Ids\n",
            "---------\n",
            "\n",
            "Only movies with at least one rating or tag are included in the dataset. These movie ids are consistent with those used on the MovieLens web site (e.g., id `1` corresponds to the URL <https://movielens.org/movies/1>). Movie ids are consistent between `ratings.csv`, `tags.csv`, `movies.csv`, and `links.csv` (i.e., the same id refers to the same movie across these four data files).\n",
            "\n",
            "\n",
            "Ratings Data File Structure (ratings.csv)\n",
            "-----------------------------------------\n",
            "\n",
            "All ratings are contained in the file `ratings.csv`. Each line of this file after the header row represents one rating of one movie by one user, and has the following format:\n",
            "\n",
            "    userId,movieId,rating,timestamp\n",
            "\n",
            "The lines within this file are ordered first by userId, then, within user, by movieId.\n",
            "\n",
            "Ratings are made on a 5-star scale, with half-star increments (0.5 stars - 5.0 stars).\n",
            "\n",
            "Timestamps represent seconds since midnight Coordinated Universal Time (UTC) of January 1, 1970.\n",
            "\n",
            "\n",
            "Tags Data File Structure (tags.csv)\n",
            "-----------------------------------\n",
            "\n",
            "All tags are contained in the file `tags.csv`. Each line of this file after the header row represents one tag applied to one movie by one user, and has the following format:\n",
            "\n",
            "    userId,movieId,tag,timestamp\n",
            "\n",
            "The lines within this file are ordered first by userId, then, within user, by movieId.\n",
            "\n",
            "Tags are user-generated metadata about movies. Each tag is typically a single word or short phrase. The meaning, value, and purpose of a particular tag is determined by each user.\n",
            "\n",
            "Timestamps represent seconds since midnight Coordinated Universal Time (UTC) of January 1, 1970.\n",
            "\n",
            "\n",
            "Movies Data File Structure (movies.csv)\n",
            "---------------------------------------\n",
            "\n",
            "Movie information is contained in the file `movies.csv`. Each line of this file after the header row represents one movie, and has the following format:\n",
            "\n",
            "    movieId,title,genres\n",
            "\n",
            "Movie titles are entered manually or imported from <https://www.themoviedb.org/>, and include the year of release in parentheses. Errors and inconsistencies may exist in these titles.\n",
            "\n",
            "Genres are a pipe-separated list, and are selected from the following:\n",
            "\n",
            "* Action\n",
            "* Adventure\n",
            "* Animation\n",
            "* Children's\n",
            "* Comedy\n",
            "* Crime\n",
            "* Documentary\n",
            "* Drama\n",
            "* Fantasy\n",
            "* Film-Noir\n",
            "* Horror\n",
            "* Musical\n",
            "* Mystery\n",
            "* Romance\n",
            "* Sci-Fi\n",
            "* Thriller\n",
            "* War\n",
            "* Western\n",
            "* (no genres listed)\n",
            "\n",
            "\n",
            "Links Data File Structure (links.csv)\n",
            "---------------------------------------\n",
            "\n",
            "Identifiers that can be used to link to other sources of movie data are contained in the file `links.csv`. Each line of this file after the header row represents one movie, and has the following format:\n",
            "\n",
            "    movieId,imdbId,tmdbId\n",
            "\n",
            "movieId is an identifier for movies used by <https://movielens.org>. E.g., the movie Toy Story has the link <https://movielens.org/movies/1>.\n",
            "\n",
            "imdbId is an identifier for movies used by <http://www.imdb.com>. E.g., the movie Toy Story has the link <http://www.imdb.com/title/tt0114709/>.\n",
            "\n",
            "tmdbId is an identifier for movies used by <https://www.themoviedb.org>. E.g., the movie Toy Story has the link <https://www.themoviedb.org/movie/862>.\n",
            "\n",
            "Use of the resources listed above is subject to the terms of each provider.\n",
            "\n",
            "\n",
            "Tag Genome (genome-scores.csv and genome-tags.csv)\n",
            "-------------------------------------------------\n",
            "\n",
            "This data set includes a current copy of the Tag Genome.\n",
            "\n",
            "[genome-paper]: http://files.grouplens.org/papers/tag_genome.pdf\n",
            "\n",
            "The tag genome is a data structure that contains tag relevance scores for movies.  The structure is a dense matrix: each movie in the genome has a value for *every* tag in the genome.\n",
            "\n",
            "As described in [this article][genome-paper], the tag genome encodes how strongly movies exhibit particular properties represented by tags (atmospheric, thought-provoking, realistic, etc.). The tag genome was computed using a machine learning algorithm on user-contributed content including tags, ratings, and textual reviews.\n",
            "\n",
            "The genome is split into two files.  The file `genome-scores.csv` contains movie-tag relevance data in the following format:\n",
            "\n",
            "    movieId,tagId,relevance\n",
            "\n",
            "The second file, `genome-tags.csv`, provides the tag descriptions for the tag IDs in the genome file, in the following format:\n",
            "\n",
            "    tagId,tag\n",
            "\n",
            "The `tagId` values are generated when the data set is exported, so they may vary from version to version of the MovieLens data sets.\n",
            "\n",
            "Please include the following citation if referencing tag genome data:\n",
            "\n",
            "> Jesse Vig, Shilad Sen, and John Riedl. 2012. The Tag Genome: Encoding Community Knowledge to Support Novel Interaction. ACM Trans. Interact. Intell. Syst. 2, 3: 13:1–13:44. <https://doi.org/10.1145/2362394.2362395>\n",
            "\n",
            "\n",
            "Cross-Validation\n",
            "----------------\n",
            "\n",
            "Prior versions of the MovieLens dataset included either pre-computed cross-folds or scripts to perform this computation. We no longer bundle either of these features with the dataset, since most modern toolkits provide this as a built-in feature. If you wish to learn about standard approaches to cross-fold computation in the context of recommender systems evaluation, see [LensKit](http://lenskit.org) for tools, documentation, and open-source code examples.\n",
            "\n"
          ]
        }
      ],
      "source": [
        "readme = open('drive/MyDrive/ml-latest/README.txt','r') \n",
        "print(readme.read())"
      ]
    },
    {
      "cell_type": "markdown",
      "source": [
        "Нека разгледама данните за рейтинги на юзъри."
      ],
      "metadata": {
        "id": "FwHiF0FVgk5f"
      }
    },
    {
      "cell_type": "code",
      "execution_count": null,
      "metadata": {
        "id": "Y3f90nacLZXp"
      },
      "outputs": [],
      "source": [
        "rating_dt = pd.read_csv('drive/MyDrive/RecSys-Datasets/ml-latest-27mil-ratings/ratings.csv')"
      ]
    },
    {
      "cell_type": "code",
      "execution_count": null,
      "metadata": {
        "id": "Q1g_6vXMNv1D"
      },
      "outputs": [],
      "source": [
        "movies_dt = pd.read_csv('drive/MyDrive/RecSys-Datasets/ml-latest-27mil-ratings/movies.csv')"
      ]
    },
    {
      "cell_type": "code",
      "execution_count": null,
      "metadata": {
        "colab": {
          "base_uri": "https://localhost:8080/"
        },
        "id": "emsvtNmqNp_r",
        "outputId": "52fff7b3-a7f2-441d-8fc3-b91da1dd7191"
      },
      "outputs": [
        {
          "data": {
            "text/plain": [
              "(27753444, 4)"
            ]
          },
          "execution_count": 8,
          "metadata": {},
          "output_type": "execute_result"
        }
      ],
      "source": [
        "rating_dt.shape"
      ]
    },
    {
      "cell_type": "code",
      "execution_count": null,
      "metadata": {
        "colab": {
          "base_uri": "https://localhost:8080/",
          "height": 363
        },
        "id": "I8r__gtkNjIu",
        "outputId": "c2a124c6-f1f8-4c98-a549-d47509ee6785"
      },
      "outputs": [
        {
          "data": {
            "text/html": [
              "\n",
              "  <div id=\"df-11b3545d-b73b-4450-a23e-16167cb059ba\">\n",
              "    <div class=\"colab-df-container\">\n",
              "      <div>\n",
              "<style scoped>\n",
              "    .dataframe tbody tr th:only-of-type {\n",
              "        vertical-align: middle;\n",
              "    }\n",
              "\n",
              "    .dataframe tbody tr th {\n",
              "        vertical-align: top;\n",
              "    }\n",
              "\n",
              "    .dataframe thead th {\n",
              "        text-align: right;\n",
              "    }\n",
              "</style>\n",
              "<table border=\"1\" class=\"dataframe\">\n",
              "  <thead>\n",
              "    <tr style=\"text-align: right;\">\n",
              "      <th></th>\n",
              "      <th>userId</th>\n",
              "      <th>movieId</th>\n",
              "      <th>rating</th>\n",
              "      <th>timestamp</th>\n",
              "    </tr>\n",
              "  </thead>\n",
              "  <tbody>\n",
              "    <tr>\n",
              "      <th>0</th>\n",
              "      <td>1</td>\n",
              "      <td>307</td>\n",
              "      <td>3.5</td>\n",
              "      <td>1256677221</td>\n",
              "    </tr>\n",
              "    <tr>\n",
              "      <th>1</th>\n",
              "      <td>1</td>\n",
              "      <td>481</td>\n",
              "      <td>3.5</td>\n",
              "      <td>1256677456</td>\n",
              "    </tr>\n",
              "    <tr>\n",
              "      <th>2</th>\n",
              "      <td>1</td>\n",
              "      <td>1091</td>\n",
              "      <td>1.5</td>\n",
              "      <td>1256677471</td>\n",
              "    </tr>\n",
              "    <tr>\n",
              "      <th>3</th>\n",
              "      <td>1</td>\n",
              "      <td>1257</td>\n",
              "      <td>4.5</td>\n",
              "      <td>1256677460</td>\n",
              "    </tr>\n",
              "    <tr>\n",
              "      <th>4</th>\n",
              "      <td>1</td>\n",
              "      <td>1449</td>\n",
              "      <td>4.5</td>\n",
              "      <td>1256677264</td>\n",
              "    </tr>\n",
              "    <tr>\n",
              "      <th>5</th>\n",
              "      <td>1</td>\n",
              "      <td>1590</td>\n",
              "      <td>2.5</td>\n",
              "      <td>1256677236</td>\n",
              "    </tr>\n",
              "    <tr>\n",
              "      <th>6</th>\n",
              "      <td>1</td>\n",
              "      <td>1591</td>\n",
              "      <td>1.5</td>\n",
              "      <td>1256677475</td>\n",
              "    </tr>\n",
              "    <tr>\n",
              "      <th>7</th>\n",
              "      <td>1</td>\n",
              "      <td>2134</td>\n",
              "      <td>4.5</td>\n",
              "      <td>1256677464</td>\n",
              "    </tr>\n",
              "    <tr>\n",
              "      <th>8</th>\n",
              "      <td>1</td>\n",
              "      <td>2478</td>\n",
              "      <td>4.0</td>\n",
              "      <td>1256677239</td>\n",
              "    </tr>\n",
              "    <tr>\n",
              "      <th>9</th>\n",
              "      <td>1</td>\n",
              "      <td>2840</td>\n",
              "      <td>3.0</td>\n",
              "      <td>1256677500</td>\n",
              "    </tr>\n",
              "  </tbody>\n",
              "</table>\n",
              "</div>\n",
              "      <button class=\"colab-df-convert\" onclick=\"convertToInteractive('df-11b3545d-b73b-4450-a23e-16167cb059ba')\"\n",
              "              title=\"Convert this dataframe to an interactive table.\"\n",
              "              style=\"display:none;\">\n",
              "        \n",
              "  <svg xmlns=\"http://www.w3.org/2000/svg\" height=\"24px\"viewBox=\"0 0 24 24\"\n",
              "       width=\"24px\">\n",
              "    <path d=\"M0 0h24v24H0V0z\" fill=\"none\"/>\n",
              "    <path d=\"M18.56 5.44l.94 2.06.94-2.06 2.06-.94-2.06-.94-.94-2.06-.94 2.06-2.06.94zm-11 1L8.5 8.5l.94-2.06 2.06-.94-2.06-.94L8.5 2.5l-.94 2.06-2.06.94zm10 10l.94 2.06.94-2.06 2.06-.94-2.06-.94-.94-2.06-.94 2.06-2.06.94z\"/><path d=\"M17.41 7.96l-1.37-1.37c-.4-.4-.92-.59-1.43-.59-.52 0-1.04.2-1.43.59L10.3 9.45l-7.72 7.72c-.78.78-.78 2.05 0 2.83L4 21.41c.39.39.9.59 1.41.59.51 0 1.02-.2 1.41-.59l7.78-7.78 2.81-2.81c.8-.78.8-2.07 0-2.86zM5.41 20L4 18.59l7.72-7.72 1.47 1.35L5.41 20z\"/>\n",
              "  </svg>\n",
              "      </button>\n",
              "      \n",
              "  <style>\n",
              "    .colab-df-container {\n",
              "      display:flex;\n",
              "      flex-wrap:wrap;\n",
              "      gap: 12px;\n",
              "    }\n",
              "\n",
              "    .colab-df-convert {\n",
              "      background-color: #E8F0FE;\n",
              "      border: none;\n",
              "      border-radius: 50%;\n",
              "      cursor: pointer;\n",
              "      display: none;\n",
              "      fill: #1967D2;\n",
              "      height: 32px;\n",
              "      padding: 0 0 0 0;\n",
              "      width: 32px;\n",
              "    }\n",
              "\n",
              "    .colab-df-convert:hover {\n",
              "      background-color: #E2EBFA;\n",
              "      box-shadow: 0px 1px 2px rgba(60, 64, 67, 0.3), 0px 1px 3px 1px rgba(60, 64, 67, 0.15);\n",
              "      fill: #174EA6;\n",
              "    }\n",
              "\n",
              "    [theme=dark] .colab-df-convert {\n",
              "      background-color: #3B4455;\n",
              "      fill: #D2E3FC;\n",
              "    }\n",
              "\n",
              "    [theme=dark] .colab-df-convert:hover {\n",
              "      background-color: #434B5C;\n",
              "      box-shadow: 0px 1px 3px 1px rgba(0, 0, 0, 0.15);\n",
              "      filter: drop-shadow(0px 1px 2px rgba(0, 0, 0, 0.3));\n",
              "      fill: #FFFFFF;\n",
              "    }\n",
              "  </style>\n",
              "\n",
              "      <script>\n",
              "        const buttonEl =\n",
              "          document.querySelector('#df-11b3545d-b73b-4450-a23e-16167cb059ba button.colab-df-convert');\n",
              "        buttonEl.style.display =\n",
              "          google.colab.kernel.accessAllowed ? 'block' : 'none';\n",
              "\n",
              "        async function convertToInteractive(key) {\n",
              "          const element = document.querySelector('#df-11b3545d-b73b-4450-a23e-16167cb059ba');\n",
              "          const dataTable =\n",
              "            await google.colab.kernel.invokeFunction('convertToInteractive',\n",
              "                                                     [key], {});\n",
              "          if (!dataTable) return;\n",
              "\n",
              "          const docLinkHtml = 'Like what you see? Visit the ' +\n",
              "            '<a target=\"_blank\" href=https://colab.research.google.com/notebooks/data_table.ipynb>data table notebook</a>'\n",
              "            + ' to learn more about interactive tables.';\n",
              "          element.innerHTML = '';\n",
              "          dataTable['output_type'] = 'display_data';\n",
              "          await google.colab.output.renderOutput(dataTable, element);\n",
              "          const docLink = document.createElement('div');\n",
              "          docLink.innerHTML = docLinkHtml;\n",
              "          element.appendChild(docLink);\n",
              "        }\n",
              "      </script>\n",
              "    </div>\n",
              "  </div>\n",
              "  "
            ],
            "text/plain": [
              "   userId  movieId  rating   timestamp\n",
              "0       1      307     3.5  1256677221\n",
              "1       1      481     3.5  1256677456\n",
              "2       1     1091     1.5  1256677471\n",
              "3       1     1257     4.5  1256677460\n",
              "4       1     1449     4.5  1256677264\n",
              "5       1     1590     2.5  1256677236\n",
              "6       1     1591     1.5  1256677475\n",
              "7       1     2134     4.5  1256677464\n",
              "8       1     2478     4.0  1256677239\n",
              "9       1     2840     3.0  1256677500"
            ]
          },
          "execution_count": 7,
          "metadata": {},
          "output_type": "execute_result"
        }
      ],
      "source": [
        "rating_dt.head(10)"
      ]
    },
    {
      "cell_type": "markdown",
      "source": [
        "Ще проверим за записи записи с нулеви стойности."
      ],
      "metadata": {
        "id": "SOriUaZ0hXAi"
      }
    },
    {
      "cell_type": "code",
      "source": [
        "rating_dt.isnull().sum()"
      ],
      "metadata": {
        "colab": {
          "base_uri": "https://localhost:8080/"
        },
        "id": "zn4GRXL7QZLm",
        "outputId": "6d7e0c40-9687-4089-ce41-de4cc781766b"
      },
      "execution_count": null,
      "outputs": [
        {
          "output_type": "execute_result",
          "data": {
            "text/plain": [
              "userId       0\n",
              "movieId      0\n",
              "rating       0\n",
              "timestamp    0\n",
              "dtype: int64"
            ]
          },
          "metadata": {},
          "execution_count": 25
        }
      ]
    },
    {
      "cell_type": "code",
      "source": [
        "rating_dt['rating'].describe()"
      ],
      "metadata": {
        "colab": {
          "base_uri": "https://localhost:8080/"
        },
        "id": "G_lVygzig757",
        "outputId": "b4c358bd-1be2-480a-f655-14db52ddef0a"
      },
      "execution_count": null,
      "outputs": [
        {
          "output_type": "execute_result",
          "data": {
            "text/plain": [
              "count    2.775344e+07\n",
              "mean     3.530445e+00\n",
              "std      1.066353e+00\n",
              "min      5.000000e-01\n",
              "25%      3.000000e+00\n",
              "50%      3.500000e+00\n",
              "75%      4.000000e+00\n",
              "max      5.000000e+00\n",
              "Name: rating, dtype: float64"
            ]
          },
          "metadata": {},
          "execution_count": 86
        }
      ]
    },
    {
      "cell_type": "markdown",
      "source": [
        "Ставя ясно, че средната оценка на филми е около 3.5"
      ],
      "metadata": {
        "id": "6eLFokfpi5sk"
      }
    },
    {
      "cell_type": "code",
      "source": [
        "rating_dt['rating'].hist(bins=10)"
      ],
      "metadata": {
        "colab": {
          "base_uri": "https://localhost:8080/",
          "height": 293
        },
        "id": "zb5wNdThQg7y",
        "outputId": "061ebc64-7bc8-4d60-c210-abedce7eeab1"
      },
      "execution_count": null,
      "outputs": [
        {
          "output_type": "execute_result",
          "data": {
            "text/plain": [
              "<matplotlib.axes._subplots.AxesSubplot at 0x7f521143d1d0>"
            ]
          },
          "metadata": {},
          "execution_count": 43
        },
        {
          "output_type": "display_data",
          "data": {
            "text/plain": [
              "<Figure size 432x288 with 1 Axes>"
            ],
            "image/png": "[encoded data removed]"
          },
          "metadata": {
            "needs_background": "light"
          }
        }
      ]
    },
    {
      "cell_type": "markdown",
      "source": [
        "От графиката забелязваме, че потребителите поставят оценки по-високи или около 3, отколкото много ниски оценки."
      ],
      "metadata": {
        "id": "_as4SJrVhoMT"
      }
    },
    {
      "cell_type": "markdown",
      "source": [
        "Нека видим кога е оставена първата и последна оценка на филм."
      ],
      "metadata": {
        "id": "0gBmpga5io6A"
      }
    },
    {
      "cell_type": "code",
      "source": [
        "from datetime import datetime\n",
        "print(datetime.utcfromtimestamp(rating_dt['timestamp'].min()).strftime('%Y-%m-%d %H:%M:%S'))"
      ],
      "metadata": {
        "colab": {
          "base_uri": "https://localhost:8080/"
        },
        "id": "eMCy0AC3T4BL",
        "outputId": "83cfa4b7-ed94-47d1-ba7d-a31b939c53f8"
      },
      "execution_count": null,
      "outputs": [
        {
          "output_type": "stream",
          "name": "stdout",
          "text": [
            "1995-01-09 11:46:44\n"
          ]
        }
      ]
    },
    {
      "cell_type": "code",
      "source": [
        "from datetime import datetime\n",
        "print(datetime.utcfromtimestamp(rating_dt['timestamp'].max()).strftime('%Y-%m-%d %H:%M:%S'))"
      ],
      "metadata": {
        "colab": {
          "base_uri": "https://localhost:8080/"
        },
        "id": "AwGZ97QeVzL4",
        "outputId": "ef245465-2a43-48ec-9699-134096ff3669"
      },
      "execution_count": null,
      "outputs": [
        {
          "output_type": "stream",
          "name": "stdout",
          "text": [
            "2018-09-26 06:59:09\n"
          ]
        }
      ]
    },
    {
      "cell_type": "markdown",
      "source": [
        "Нека видим и за кои филми са тези оценки."
      ],
      "metadata": {
        "id": "GNc2J1_klWXw"
      }
    },
    {
      "cell_type": "code",
      "source": [
        "oldest_rated_movie = rating_dt.loc[rating_dt['timestamp'] == rating_dt['timestamp'].min(), 'movieId'].item()\n",
        "movies_dt.loc[movies_dt['movieId'] == oldest_rated_movie]"
      ],
      "metadata": {
        "colab": {
          "base_uri": "https://localhost:8080/",
          "height": 80
        },
        "id": "43F_MOlIjUnM",
        "outputId": "a31a3516-7829-4749-b09a-9e84fc2ff27e"
      },
      "execution_count": null,
      "outputs": [
        {
          "output_type": "execute_result",
          "data": {
            "text/plain": [
              "      movieId                                              title  \\\n",
              "1153     1176  Double Life of Veronique, The (Double Vie de V...   \n",
              "\n",
              "                     genres  \n",
              "1153  Drama|Fantasy|Romance  "
            ],
            "text/html": [
              "\n",
              "  <div id=\"df-5efb9744-80b8-41dc-966b-d379d155c891\">\n",
              "    <div class=\"colab-df-container\">\n",
              "      <div>\n",
              "<style scoped>\n",
              "    .dataframe tbody tr th:only-of-type {\n",
              "        vertical-align: middle;\n",
              "    }\n",
              "\n",
              "    .dataframe tbody tr th {\n",
              "        vertical-align: top;\n",
              "    }\n",
              "\n",
              "    .dataframe thead th {\n",
              "        text-align: right;\n",
              "    }\n",
              "</style>\n",
              "<table border=\"1\" class=\"dataframe\">\n",
              "  <thead>\n",
              "    <tr style=\"text-align: right;\">\n",
              "      <th></th>\n",
              "      <th>movieId</th>\n",
              "      <th>title</th>\n",
              "      <th>genres</th>\n",
              "    </tr>\n",
              "  </thead>\n",
              "  <tbody>\n",
              "    <tr>\n",
              "      <th>1153</th>\n",
              "      <td>1176</td>\n",
              "      <td>Double Life of Veronique, The (Double Vie de V...</td>\n",
              "      <td>Drama|Fantasy|Romance</td>\n",
              "    </tr>\n",
              "  </tbody>\n",
              "</table>\n",
              "</div>\n",
              "      <button class=\"colab-df-convert\" onclick=\"convertToInteractive('df-5efb9744-80b8-41dc-966b-d379d155c891')\"\n",
              "              title=\"Convert this dataframe to an interactive table.\"\n",
              "              style=\"display:none;\">\n",
              "        \n",
              "  <svg xmlns=\"http://www.w3.org/2000/svg\" height=\"24px\"viewBox=\"0 0 24 24\"\n",
              "       width=\"24px\">\n",
              "    <path d=\"M0 0h24v24H0V0z\" fill=\"none\"/>\n",
              "    <path d=\"M18.56 5.44l.94 2.06.94-2.06 2.06-.94-2.06-.94-.94-2.06-.94 2.06-2.06.94zm-11 1L8.5 8.5l.94-2.06 2.06-.94-2.06-.94L8.5 2.5l-.94 2.06-2.06.94zm10 10l.94 2.06.94-2.06 2.06-.94-2.06-.94-.94-2.06-.94 2.06-2.06.94z\"/><path d=\"M17.41 7.96l-1.37-1.37c-.4-.4-.92-.59-1.43-.59-.52 0-1.04.2-1.43.59L10.3 9.45l-7.72 7.72c-.78.78-.78 2.05 0 2.83L4 21.41c.39.39.9.59 1.41.59.51 0 1.02-.2 1.41-.59l7.78-7.78 2.81-2.81c.8-.78.8-2.07 0-2.86zM5.41 20L4 18.59l7.72-7.72 1.47 1.35L5.41 20z\"/>\n",
              "  </svg>\n",
              "      </button>\n",
              "      \n",
              "  <style>\n",
              "    .colab-df-container {\n",
              "      display:flex;\n",
              "      flex-wrap:wrap;\n",
              "      gap: 12px;\n",
              "    }\n",
              "\n",
              "    .colab-df-convert {\n",
              "      background-color: #E8F0FE;\n",
              "      border: none;\n",
              "      border-radius: 50%;\n",
              "      cursor: pointer;\n",
              "      display: none;\n",
              "      fill: #1967D2;\n",
              "      height: 32px;\n",
              "      padding: 0 0 0 0;\n",
              "      width: 32px;\n",
              "    }\n",
              "\n",
              "    .colab-df-convert:hover {\n",
              "      background-color: #E2EBFA;\n",
              "      box-shadow: 0px 1px 2px rgba(60, 64, 67, 0.3), 0px 1px 3px 1px rgba(60, 64, 67, 0.15);\n",
              "      fill: #174EA6;\n",
              "    }\n",
              "\n",
              "    [theme=dark] .colab-df-convert {\n",
              "      background-color: #3B4455;\n",
              "      fill: #D2E3FC;\n",
              "    }\n",
              "\n",
              "    [theme=dark] .colab-df-convert:hover {\n",
              "      background-color: #434B5C;\n",
              "      box-shadow: 0px 1px 3px 1px rgba(0, 0, 0, 0.15);\n",
              "      filter: drop-shadow(0px 1px 2px rgba(0, 0, 0, 0.3));\n",
              "      fill: #FFFFFF;\n",
              "    }\n",
              "  </style>\n",
              "\n",
              "      <script>\n",
              "        const buttonEl =\n",
              "          document.querySelector('#df-5efb9744-80b8-41dc-966b-d379d155c891 button.colab-df-convert');\n",
              "        buttonEl.style.display =\n",
              "          google.colab.kernel.accessAllowed ? 'block' : 'none';\n",
              "\n",
              "        async function convertToInteractive(key) {\n",
              "          const element = document.querySelector('#df-5efb9744-80b8-41dc-966b-d379d155c891');\n",
              "          const dataTable =\n",
              "            await google.colab.kernel.invokeFunction('convertToInteractive',\n",
              "                                                     [key], {});\n",
              "          if (!dataTable) return;\n",
              "\n",
              "          const docLinkHtml = 'Like what you see? Visit the ' +\n",
              "            '<a target=\"_blank\" href=https://colab.research.google.com/notebooks/data_table.ipynb>data table notebook</a>'\n",
              "            + ' to learn more about interactive tables.';\n",
              "          element.innerHTML = '';\n",
              "          dataTable['output_type'] = 'display_data';\n",
              "          await google.colab.output.renderOutput(dataTable, element);\n",
              "          const docLink = document.createElement('div');\n",
              "          docLink.innerHTML = docLinkHtml;\n",
              "          element.appendChild(docLink);\n",
              "        }\n",
              "      </script>\n",
              "    </div>\n",
              "  </div>\n",
              "  "
            ]
          },
          "metadata": {},
          "execution_count": 101
        }
      ]
    },
    {
      "cell_type": "code",
      "source": [
        "latest_rated_movie = rating_dt.loc[rating_dt['timestamp'] == rating_dt['timestamp'].max(), 'movieId'].item()\n",
        "movies_dt.loc[movies_dt['movieId'] == latest_rated_movie]"
      ],
      "metadata": {
        "colab": {
          "base_uri": "https://localhost:8080/",
          "height": 80
        },
        "id": "dVHooY7DlkFA",
        "outputId": "3ce05a22-289d-4279-970e-0b0c2aeccf10"
      },
      "execution_count": null,
      "outputs": [
        {
          "output_type": "execute_result",
          "data": {
            "text/plain": [
              "       movieId                                              title  \\\n",
              "46444   167780  Superman/Shazam!: The Return of Black Adam (2010)   \n",
              "\n",
              "                 genres  \n",
              "46444  Action|Animation  "
            ],
            "text/html": [
              "\n",
              "  <div id=\"df-12487eb4-729d-4dca-8204-c7849f3891bc\">\n",
              "    <div class=\"colab-df-container\">\n",
              "      <div>\n",
              "<style scoped>\n",
              "    .dataframe tbody tr th:only-of-type {\n",
              "        vertical-align: middle;\n",
              "    }\n",
              "\n",
              "    .dataframe tbody tr th {\n",
              "        vertical-align: top;\n",
              "    }\n",
              "\n",
              "    .dataframe thead th {\n",
              "        text-align: right;\n",
              "    }\n",
              "</style>\n",
              "<table border=\"1\" class=\"dataframe\">\n",
              "  <thead>\n",
              "    <tr style=\"text-align: right;\">\n",
              "      <th></th>\n",
              "      <th>movieId</th>\n",
              "      <th>title</th>\n",
              "      <th>genres</th>\n",
              "    </tr>\n",
              "  </thead>\n",
              "  <tbody>\n",
              "    <tr>\n",
              "      <th>46444</th>\n",
              "      <td>167780</td>\n",
              "      <td>Superman/Shazam!: The Return of Black Adam (2010)</td>\n",
              "      <td>Action|Animation</td>\n",
              "    </tr>\n",
              "  </tbody>\n",
              "</table>\n",
              "</div>\n",
              "      <button class=\"colab-df-convert\" onclick=\"convertToInteractive('df-12487eb4-729d-4dca-8204-c7849f3891bc')\"\n",
              "              title=\"Convert this dataframe to an interactive table.\"\n",
              "              style=\"display:none;\">\n",
              "        \n",
              "  <svg xmlns=\"http://www.w3.org/2000/svg\" height=\"24px\"viewBox=\"0 0 24 24\"\n",
              "       width=\"24px\">\n",
              "    <path d=\"M0 0h24v24H0V0z\" fill=\"none\"/>\n",
              "    <path d=\"M18.56 5.44l.94 2.06.94-2.06 2.06-.94-2.06-.94-.94-2.06-.94 2.06-2.06.94zm-11 1L8.5 8.5l.94-2.06 2.06-.94-2.06-.94L8.5 2.5l-.94 2.06-2.06.94zm10 10l.94 2.06.94-2.06 2.06-.94-2.06-.94-.94-2.06-.94 2.06-2.06.94z\"/><path d=\"M17.41 7.96l-1.37-1.37c-.4-.4-.92-.59-1.43-.59-.52 0-1.04.2-1.43.59L10.3 9.45l-7.72 7.72c-.78.78-.78 2.05 0 2.83L4 21.41c.39.39.9.59 1.41.59.51 0 1.02-.2 1.41-.59l7.78-7.78 2.81-2.81c.8-.78.8-2.07 0-2.86zM5.41 20L4 18.59l7.72-7.72 1.47 1.35L5.41 20z\"/>\n",
              "  </svg>\n",
              "      </button>\n",
              "      \n",
              "  <style>\n",
              "    .colab-df-container {\n",
              "      display:flex;\n",
              "      flex-wrap:wrap;\n",
              "      gap: 12px;\n",
              "    }\n",
              "\n",
              "    .colab-df-convert {\n",
              "      background-color: #E8F0FE;\n",
              "      border: none;\n",
              "      border-radius: 50%;\n",
              "      cursor: pointer;\n",
              "      display: none;\n",
              "      fill: #1967D2;\n",
              "      height: 32px;\n",
              "      padding: 0 0 0 0;\n",
              "      width: 32px;\n",
              "    }\n",
              "\n",
              "    .colab-df-convert:hover {\n",
              "      background-color: #E2EBFA;\n",
              "      box-shadow: 0px 1px 2px rgba(60, 64, 67, 0.3), 0px 1px 3px 1px rgba(60, 64, 67, 0.15);\n",
              "      fill: #174EA6;\n",
              "    }\n",
              "\n",
              "    [theme=dark] .colab-df-convert {\n",
              "      background-color: #3B4455;\n",
              "      fill: #D2E3FC;\n",
              "    }\n",
              "\n",
              "    [theme=dark] .colab-df-convert:hover {\n",
              "      background-color: #434B5C;\n",
              "      box-shadow: 0px 1px 3px 1px rgba(0, 0, 0, 0.15);\n",
              "      filter: drop-shadow(0px 1px 2px rgba(0, 0, 0, 0.3));\n",
              "      fill: #FFFFFF;\n",
              "    }\n",
              "  </style>\n",
              "\n",
              "      <script>\n",
              "        const buttonEl =\n",
              "          document.querySelector('#df-12487eb4-729d-4dca-8204-c7849f3891bc button.colab-df-convert');\n",
              "        buttonEl.style.display =\n",
              "          google.colab.kernel.accessAllowed ? 'block' : 'none';\n",
              "\n",
              "        async function convertToInteractive(key) {\n",
              "          const element = document.querySelector('#df-12487eb4-729d-4dca-8204-c7849f3891bc');\n",
              "          const dataTable =\n",
              "            await google.colab.kernel.invokeFunction('convertToInteractive',\n",
              "                                                     [key], {});\n",
              "          if (!dataTable) return;\n",
              "\n",
              "          const docLinkHtml = 'Like what you see? Visit the ' +\n",
              "            '<a target=\"_blank\" href=https://colab.research.google.com/notebooks/data_table.ipynb>data table notebook</a>'\n",
              "            + ' to learn more about interactive tables.';\n",
              "          element.innerHTML = '';\n",
              "          dataTable['output_type'] = 'display_data';\n",
              "          await google.colab.output.renderOutput(dataTable, element);\n",
              "          const docLink = document.createElement('div');\n",
              "          docLink.innerHTML = docLinkHtml;\n",
              "          element.appendChild(docLink);\n",
              "        }\n",
              "      </script>\n",
              "    </div>\n",
              "  </div>\n",
              "  "
            ]
          },
          "metadata": {},
          "execution_count": 102
        }
      ]
    },
    {
      "cell_type": "markdown",
      "source": [
        "Нека разгледаме данните за филми."
      ],
      "metadata": {
        "id": "U-Z-OJBNlu9N"
      }
    },
    {
      "cell_type": "code",
      "execution_count": null,
      "metadata": {
        "colab": {
          "base_uri": "https://localhost:8080/"
        },
        "id": "P-cL68olOJyg",
        "outputId": "5d678738-8387-49af-8fd2-f18ab5f22faf"
      },
      "outputs": [
        {
          "data": {
            "text/plain": [
              "(58098, 3)"
            ]
          },
          "execution_count": 12,
          "metadata": {},
          "output_type": "execute_result"
        }
      ],
      "source": [
        "movies_dt.shape"
      ]
    },
    {
      "cell_type": "code",
      "execution_count": null,
      "metadata": {
        "colab": {
          "base_uri": "https://localhost:8080/",
          "height": 363
        },
        "id": "DKi_AxJMOMGi",
        "outputId": "c327d90f-421e-47f3-baec-8be08fec488e"
      },
      "outputs": [
        {
          "data": {
            "text/html": [
              "\n",
              "  <div id=\"df-f0fd479e-1a0e-4904-ae49-85d5d0704acf\">\n",
              "    <div class=\"colab-df-container\">\n",
              "      <div>\n",
              "<style scoped>\n",
              "    .dataframe tbody tr th:only-of-type {\n",
              "        vertical-align: middle;\n",
              "    }\n",
              "\n",
              "    .dataframe tbody tr th {\n",
              "        vertical-align: top;\n",
              "    }\n",
              "\n",
              "    .dataframe thead th {\n",
              "        text-align: right;\n",
              "    }\n",
              "</style>\n",
              "<table border=\"1\" class=\"dataframe\">\n",
              "  <thead>\n",
              "    <tr style=\"text-align: right;\">\n",
              "      <th></th>\n",
              "      <th>movieId</th>\n",
              "      <th>title</th>\n",
              "      <th>genres</th>\n",
              "    </tr>\n",
              "  </thead>\n",
              "  <tbody>\n",
              "    <tr>\n",
              "      <th>0</th>\n",
              "      <td>1</td>\n",
              "      <td>Toy Story (1995)</td>\n",
              "      <td>Adventure|Animation|Children|Comedy|Fantasy</td>\n",
              "    </tr>\n",
              "    <tr>\n",
              "      <th>1</th>\n",
              "      <td>2</td>\n",
              "      <td>Jumanji (1995)</td>\n",
              "      <td>Adventure|Children|Fantasy</td>\n",
              "    </tr>\n",
              "    <tr>\n",
              "      <th>2</th>\n",
              "      <td>3</td>\n",
              "      <td>Grumpier Old Men (1995)</td>\n",
              "      <td>Comedy|Romance</td>\n",
              "    </tr>\n",
              "    <tr>\n",
              "      <th>3</th>\n",
              "      <td>4</td>\n",
              "      <td>Waiting to Exhale (1995)</td>\n",
              "      <td>Comedy|Drama|Romance</td>\n",
              "    </tr>\n",
              "    <tr>\n",
              "      <th>4</th>\n",
              "      <td>5</td>\n",
              "      <td>Father of the Bride Part II (1995)</td>\n",
              "      <td>Comedy</td>\n",
              "    </tr>\n",
              "    <tr>\n",
              "      <th>5</th>\n",
              "      <td>6</td>\n",
              "      <td>Heat (1995)</td>\n",
              "      <td>Action|Crime|Thriller</td>\n",
              "    </tr>\n",
              "    <tr>\n",
              "      <th>6</th>\n",
              "      <td>7</td>\n",
              "      <td>Sabrina (1995)</td>\n",
              "      <td>Comedy|Romance</td>\n",
              "    </tr>\n",
              "    <tr>\n",
              "      <th>7</th>\n",
              "      <td>8</td>\n",
              "      <td>Tom and Huck (1995)</td>\n",
              "      <td>Adventure|Children</td>\n",
              "    </tr>\n",
              "    <tr>\n",
              "      <th>8</th>\n",
              "      <td>9</td>\n",
              "      <td>Sudden Death (1995)</td>\n",
              "      <td>Action</td>\n",
              "    </tr>\n",
              "    <tr>\n",
              "      <th>9</th>\n",
              "      <td>10</td>\n",
              "      <td>GoldenEye (1995)</td>\n",
              "      <td>Action|Adventure|Thriller</td>\n",
              "    </tr>\n",
              "  </tbody>\n",
              "</table>\n",
              "</div>\n",
              "      <button class=\"colab-df-convert\" onclick=\"convertToInteractive('df-f0fd479e-1a0e-4904-ae49-85d5d0704acf')\"\n",
              "              title=\"Convert this dataframe to an interactive table.\"\n",
              "              style=\"display:none;\">\n",
              "        \n",
              "  <svg xmlns=\"http://www.w3.org/2000/svg\" height=\"24px\"viewBox=\"0 0 24 24\"\n",
              "       width=\"24px\">\n",
              "    <path d=\"M0 0h24v24H0V0z\" fill=\"none\"/>\n",
              "    <path d=\"M18.56 5.44l.94 2.06.94-2.06 2.06-.94-2.06-.94-.94-2.06-.94 2.06-2.06.94zm-11 1L8.5 8.5l.94-2.06 2.06-.94-2.06-.94L8.5 2.5l-.94 2.06-2.06.94zm10 10l.94 2.06.94-2.06 2.06-.94-2.06-.94-.94-2.06-.94 2.06-2.06.94z\"/><path d=\"M17.41 7.96l-1.37-1.37c-.4-.4-.92-.59-1.43-.59-.52 0-1.04.2-1.43.59L10.3 9.45l-7.72 7.72c-.78.78-.78 2.05 0 2.83L4 21.41c.39.39.9.59 1.41.59.51 0 1.02-.2 1.41-.59l7.78-7.78 2.81-2.81c.8-.78.8-2.07 0-2.86zM5.41 20L4 18.59l7.72-7.72 1.47 1.35L5.41 20z\"/>\n",
              "  </svg>\n",
              "      </button>\n",
              "      \n",
              "  <style>\n",
              "    .colab-df-container {\n",
              "      display:flex;\n",
              "      flex-wrap:wrap;\n",
              "      gap: 12px;\n",
              "    }\n",
              "\n",
              "    .colab-df-convert {\n",
              "      background-color: #E8F0FE;\n",
              "      border: none;\n",
              "      border-radius: 50%;\n",
              "      cursor: pointer;\n",
              "      display: none;\n",
              "      fill: #1967D2;\n",
              "      height: 32px;\n",
              "      padding: 0 0 0 0;\n",
              "      width: 32px;\n",
              "    }\n",
              "\n",
              "    .colab-df-convert:hover {\n",
              "      background-color: #E2EBFA;\n",
              "      box-shadow: 0px 1px 2px rgba(60, 64, 67, 0.3), 0px 1px 3px 1px rgba(60, 64, 67, 0.15);\n",
              "      fill: #174EA6;\n",
              "    }\n",
              "\n",
              "    [theme=dark] .colab-df-convert {\n",
              "      background-color: #3B4455;\n",
              "      fill: #D2E3FC;\n",
              "    }\n",
              "\n",
              "    [theme=dark] .colab-df-convert:hover {\n",
              "      background-color: #434B5C;\n",
              "      box-shadow: 0px 1px 3px 1px rgba(0, 0, 0, 0.15);\n",
              "      filter: drop-shadow(0px 1px 2px rgba(0, 0, 0, 0.3));\n",
              "      fill: #FFFFFF;\n",
              "    }\n",
              "  </style>\n",
              "\n",
              "      <script>\n",
              "        const buttonEl =\n",
              "          document.querySelector('#df-f0fd479e-1a0e-4904-ae49-85d5d0704acf button.colab-df-convert');\n",
              "        buttonEl.style.display =\n",
              "          google.colab.kernel.accessAllowed ? 'block' : 'none';\n",
              "\n",
              "        async function convertToInteractive(key) {\n",
              "          const element = document.querySelector('#df-f0fd479e-1a0e-4904-ae49-85d5d0704acf');\n",
              "          const dataTable =\n",
              "            await google.colab.kernel.invokeFunction('convertToInteractive',\n",
              "                                                     [key], {});\n",
              "          if (!dataTable) return;\n",
              "\n",
              "          const docLinkHtml = 'Like what you see? Visit the ' +\n",
              "            '<a target=\"_blank\" href=https://colab.research.google.com/notebooks/data_table.ipynb>data table notebook</a>'\n",
              "            + ' to learn more about interactive tables.';\n",
              "          element.innerHTML = '';\n",
              "          dataTable['output_type'] = 'display_data';\n",
              "          await google.colab.output.renderOutput(dataTable, element);\n",
              "          const docLink = document.createElement('div');\n",
              "          docLink.innerHTML = docLinkHtml;\n",
              "          element.appendChild(docLink);\n",
              "        }\n",
              "      </script>\n",
              "    </div>\n",
              "  </div>\n",
              "  "
            ],
            "text/plain": [
              "   movieId                               title  \\\n",
              "0        1                    Toy Story (1995)   \n",
              "1        2                      Jumanji (1995)   \n",
              "2        3             Grumpier Old Men (1995)   \n",
              "3        4            Waiting to Exhale (1995)   \n",
              "4        5  Father of the Bride Part II (1995)   \n",
              "5        6                         Heat (1995)   \n",
              "6        7                      Sabrina (1995)   \n",
              "7        8                 Tom and Huck (1995)   \n",
              "8        9                 Sudden Death (1995)   \n",
              "9       10                    GoldenEye (1995)   \n",
              "\n",
              "                                        genres  \n",
              "0  Adventure|Animation|Children|Comedy|Fantasy  \n",
              "1                   Adventure|Children|Fantasy  \n",
              "2                               Comedy|Romance  \n",
              "3                         Comedy|Drama|Romance  \n",
              "4                                       Comedy  \n",
              "5                        Action|Crime|Thriller  \n",
              "6                               Comedy|Romance  \n",
              "7                           Adventure|Children  \n",
              "8                                       Action  \n",
              "9                    Action|Adventure|Thriller  "
            ]
          },
          "execution_count": 13,
          "metadata": {},
          "output_type": "execute_result"
        }
      ],
      "source": [
        "movies_dt.head(10)"
      ]
    },
    {
      "cell_type": "markdown",
      "source": [
        "Отново проверяваме за записи с нулеви стойности."
      ],
      "metadata": {
        "id": "TlZu8GqWlzK6"
      }
    },
    {
      "cell_type": "code",
      "source": [
        "movies_dt.isnull().sum()"
      ],
      "metadata": {
        "colab": {
          "base_uri": "https://localhost:8080/"
        },
        "id": "OwQQxfztV9Xy",
        "outputId": "98832bd9-4cb4-4f07-835e-4282ebdf0df4"
      },
      "execution_count": null,
      "outputs": [
        {
          "output_type": "execute_result",
          "data": {
            "text/plain": [
              "movieId    0\n",
              "title      0\n",
              "genres     0\n",
              "dtype: int64"
            ]
          },
          "metadata": {},
          "execution_count": 50
        }
      ]
    },
    {
      "cell_type": "markdown",
      "source": [
        "В дейтасета се съдържат и файлове с данни за links, tags, genome-tags, genome-scores."
      ],
      "metadata": {
        "id": "XND3Blt-nPoa"
      }
    },
    {
      "cell_type": "code",
      "execution_count": null,
      "metadata": {
        "id": "7dpoMTfJOOZf"
      },
      "outputs": [],
      "source": [
        "links_dt = pd.read_csv('drive/MyDrive/ml-latest/links.csv')"
      ]
    },
    {
      "cell_type": "code",
      "execution_count": null,
      "metadata": {
        "colab": {
          "base_uri": "https://localhost:8080/",
          "height": 363
        },
        "id": "QU8vHqqmOWk_",
        "outputId": "10919aca-562f-4a84-ee26-fad5d95c6ae9"
      },
      "outputs": [
        {
          "data": {
            "text/html": [
              "\n",
              "  <div id=\"df-d716a1bf-eb54-471f-8d80-4ddb9ef9e977\">\n",
              "    <div class=\"colab-df-container\">\n",
              "      <div>\n",
              "<style scoped>\n",
              "    .dataframe tbody tr th:only-of-type {\n",
              "        vertical-align: middle;\n",
              "    }\n",
              "\n",
              "    .dataframe tbody tr th {\n",
              "        vertical-align: top;\n",
              "    }\n",
              "\n",
              "    .dataframe thead th {\n",
              "        text-align: right;\n",
              "    }\n",
              "</style>\n",
              "<table border=\"1\" class=\"dataframe\">\n",
              "  <thead>\n",
              "    <tr style=\"text-align: right;\">\n",
              "      <th></th>\n",
              "      <th>movieId</th>\n",
              "      <th>imdbId</th>\n",
              "      <th>tmdbId</th>\n",
              "    </tr>\n",
              "  </thead>\n",
              "  <tbody>\n",
              "    <tr>\n",
              "      <th>0</th>\n",
              "      <td>1</td>\n",
              "      <td>114709</td>\n",
              "      <td>862.0</td>\n",
              "    </tr>\n",
              "    <tr>\n",
              "      <th>1</th>\n",
              "      <td>2</td>\n",
              "      <td>113497</td>\n",
              "      <td>8844.0</td>\n",
              "    </tr>\n",
              "    <tr>\n",
              "      <th>2</th>\n",
              "      <td>3</td>\n",
              "      <td>113228</td>\n",
              "      <td>15602.0</td>\n",
              "    </tr>\n",
              "    <tr>\n",
              "      <th>3</th>\n",
              "      <td>4</td>\n",
              "      <td>114885</td>\n",
              "      <td>31357.0</td>\n",
              "    </tr>\n",
              "    <tr>\n",
              "      <th>4</th>\n",
              "      <td>5</td>\n",
              "      <td>113041</td>\n",
              "      <td>11862.0</td>\n",
              "    </tr>\n",
              "    <tr>\n",
              "      <th>5</th>\n",
              "      <td>6</td>\n",
              "      <td>113277</td>\n",
              "      <td>949.0</td>\n",
              "    </tr>\n",
              "    <tr>\n",
              "      <th>6</th>\n",
              "      <td>7</td>\n",
              "      <td>114319</td>\n",
              "      <td>11860.0</td>\n",
              "    </tr>\n",
              "    <tr>\n",
              "      <th>7</th>\n",
              "      <td>8</td>\n",
              "      <td>112302</td>\n",
              "      <td>45325.0</td>\n",
              "    </tr>\n",
              "    <tr>\n",
              "      <th>8</th>\n",
              "      <td>9</td>\n",
              "      <td>114576</td>\n",
              "      <td>9091.0</td>\n",
              "    </tr>\n",
              "    <tr>\n",
              "      <th>9</th>\n",
              "      <td>10</td>\n",
              "      <td>113189</td>\n",
              "      <td>710.0</td>\n",
              "    </tr>\n",
              "  </tbody>\n",
              "</table>\n",
              "</div>\n",
              "      <button class=\"colab-df-convert\" onclick=\"convertToInteractive('df-d716a1bf-eb54-471f-8d80-4ddb9ef9e977')\"\n",
              "              title=\"Convert this dataframe to an interactive table.\"\n",
              "              style=\"display:none;\">\n",
              "        \n",
              "  <svg xmlns=\"http://www.w3.org/2000/svg\" height=\"24px\"viewBox=\"0 0 24 24\"\n",
              "       width=\"24px\">\n",
              "    <path d=\"M0 0h24v24H0V0z\" fill=\"none\"/>\n",
              "    <path d=\"M18.56 5.44l.94 2.06.94-2.06 2.06-.94-2.06-.94-.94-2.06-.94 2.06-2.06.94zm-11 1L8.5 8.5l.94-2.06 2.06-.94-2.06-.94L8.5 2.5l-.94 2.06-2.06.94zm10 10l.94 2.06.94-2.06 2.06-.94-2.06-.94-.94-2.06-.94 2.06-2.06.94z\"/><path d=\"M17.41 7.96l-1.37-1.37c-.4-.4-.92-.59-1.43-.59-.52 0-1.04.2-1.43.59L10.3 9.45l-7.72 7.72c-.78.78-.78 2.05 0 2.83L4 21.41c.39.39.9.59 1.41.59.51 0 1.02-.2 1.41-.59l7.78-7.78 2.81-2.81c.8-.78.8-2.07 0-2.86zM5.41 20L4 18.59l7.72-7.72 1.47 1.35L5.41 20z\"/>\n",
              "  </svg>\n",
              "      </button>\n",
              "      \n",
              "  <style>\n",
              "    .colab-df-container {\n",
              "      display:flex;\n",
              "      flex-wrap:wrap;\n",
              "      gap: 12px;\n",
              "    }\n",
              "\n",
              "    .colab-df-convert {\n",
              "      background-color: #E8F0FE;\n",
              "      border: none;\n",
              "      border-radius: 50%;\n",
              "      cursor: pointer;\n",
              "      display: none;\n",
              "      fill: #1967D2;\n",
              "      height: 32px;\n",
              "      padding: 0 0 0 0;\n",
              "      width: 32px;\n",
              "    }\n",
              "\n",
              "    .colab-df-convert:hover {\n",
              "      background-color: #E2EBFA;\n",
              "      box-shadow: 0px 1px 2px rgba(60, 64, 67, 0.3), 0px 1px 3px 1px rgba(60, 64, 67, 0.15);\n",
              "      fill: #174EA6;\n",
              "    }\n",
              "\n",
              "    [theme=dark] .colab-df-convert {\n",
              "      background-color: #3B4455;\n",
              "      fill: #D2E3FC;\n",
              "    }\n",
              "\n",
              "    [theme=dark] .colab-df-convert:hover {\n",
              "      background-color: #434B5C;\n",
              "      box-shadow: 0px 1px 3px 1px rgba(0, 0, 0, 0.15);\n",
              "      filter: drop-shadow(0px 1px 2px rgba(0, 0, 0, 0.3));\n",
              "      fill: #FFFFFF;\n",
              "    }\n",
              "  </style>\n",
              "\n",
              "      <script>\n",
              "        const buttonEl =\n",
              "          document.querySelector('#df-d716a1bf-eb54-471f-8d80-4ddb9ef9e977 button.colab-df-convert');\n",
              "        buttonEl.style.display =\n",
              "          google.colab.kernel.accessAllowed ? 'block' : 'none';\n",
              "\n",
              "        async function convertToInteractive(key) {\n",
              "          const element = document.querySelector('#df-d716a1bf-eb54-471f-8d80-4ddb9ef9e977');\n",
              "          const dataTable =\n",
              "            await google.colab.kernel.invokeFunction('convertToInteractive',\n",
              "                                                     [key], {});\n",
              "          if (!dataTable) return;\n",
              "\n",
              "          const docLinkHtml = 'Like what you see? Visit the ' +\n",
              "            '<a target=\"_blank\" href=https://colab.research.google.com/notebooks/data_table.ipynb>data table notebook</a>'\n",
              "            + ' to learn more about interactive tables.';\n",
              "          element.innerHTML = '';\n",
              "          dataTable['output_type'] = 'display_data';\n",
              "          await google.colab.output.renderOutput(dataTable, element);\n",
              "          const docLink = document.createElement('div');\n",
              "          docLink.innerHTML = docLinkHtml;\n",
              "          element.appendChild(docLink);\n",
              "        }\n",
              "      </script>\n",
              "    </div>\n",
              "  </div>\n",
              "  "
            ],
            "text/plain": [
              "   movieId  imdbId   tmdbId\n",
              "0        1  114709    862.0\n",
              "1        2  113497   8844.0\n",
              "2        3  113228  15602.0\n",
              "3        4  114885  31357.0\n",
              "4        5  113041  11862.0\n",
              "5        6  113277    949.0\n",
              "6        7  114319  11860.0\n",
              "7        8  112302  45325.0\n",
              "8        9  114576   9091.0\n",
              "9       10  113189    710.0"
            ]
          },
          "execution_count": 15,
          "metadata": {},
          "output_type": "execute_result"
        }
      ],
      "source": [
        "links_dt.head(10)"
      ]
    },
    {
      "cell_type": "code",
      "execution_count": null,
      "metadata": {
        "id": "G0Mxxyx9OagC"
      },
      "outputs": [],
      "source": [
        "tags_dt = pd.read_csv('drive/MyDrive/RecSys-Datasets/ml-latest-27mil-ratings/tags.csv')"
      ]
    },
    {
      "cell_type": "code",
      "execution_count": null,
      "metadata": {
        "colab": {
          "base_uri": "https://localhost:8080/",
          "height": 363
        },
        "id": "75fYqUDfOjPr",
        "outputId": "8d8df499-f653-4b3b-9891-f1eabcd95659"
      },
      "outputs": [
        {
          "data": {
            "text/html": [
              "\n",
              "  <div id=\"df-4075b574-2400-4ed0-b66b-df013d24ff4b\">\n",
              "    <div class=\"colab-df-container\">\n",
              "      <div>\n",
              "<style scoped>\n",
              "    .dataframe tbody tr th:only-of-type {\n",
              "        vertical-align: middle;\n",
              "    }\n",
              "\n",
              "    .dataframe tbody tr th {\n",
              "        vertical-align: top;\n",
              "    }\n",
              "\n",
              "    .dataframe thead th {\n",
              "        text-align: right;\n",
              "    }\n",
              "</style>\n",
              "<table border=\"1\" class=\"dataframe\">\n",
              "  <thead>\n",
              "    <tr style=\"text-align: right;\">\n",
              "      <th></th>\n",
              "      <th>userId</th>\n",
              "      <th>movieId</th>\n",
              "      <th>tag</th>\n",
              "      <th>timestamp</th>\n",
              "    </tr>\n",
              "  </thead>\n",
              "  <tbody>\n",
              "    <tr>\n",
              "      <th>0</th>\n",
              "      <td>14</td>\n",
              "      <td>110</td>\n",
              "      <td>epic</td>\n",
              "      <td>1443148538</td>\n",
              "    </tr>\n",
              "    <tr>\n",
              "      <th>1</th>\n",
              "      <td>14</td>\n",
              "      <td>110</td>\n",
              "      <td>Medieval</td>\n",
              "      <td>1443148532</td>\n",
              "    </tr>\n",
              "    <tr>\n",
              "      <th>2</th>\n",
              "      <td>14</td>\n",
              "      <td>260</td>\n",
              "      <td>sci-fi</td>\n",
              "      <td>1442169410</td>\n",
              "    </tr>\n",
              "    <tr>\n",
              "      <th>3</th>\n",
              "      <td>14</td>\n",
              "      <td>260</td>\n",
              "      <td>space action</td>\n",
              "      <td>1442169421</td>\n",
              "    </tr>\n",
              "    <tr>\n",
              "      <th>4</th>\n",
              "      <td>14</td>\n",
              "      <td>318</td>\n",
              "      <td>imdb top 250</td>\n",
              "      <td>1442615195</td>\n",
              "    </tr>\n",
              "    <tr>\n",
              "      <th>5</th>\n",
              "      <td>14</td>\n",
              "      <td>318</td>\n",
              "      <td>justice</td>\n",
              "      <td>1442615192</td>\n",
              "    </tr>\n",
              "    <tr>\n",
              "      <th>6</th>\n",
              "      <td>14</td>\n",
              "      <td>480</td>\n",
              "      <td>Dinosaurs</td>\n",
              "      <td>1443148563</td>\n",
              "    </tr>\n",
              "    <tr>\n",
              "      <th>7</th>\n",
              "      <td>14</td>\n",
              "      <td>593</td>\n",
              "      <td>psychothriller</td>\n",
              "      <td>1444014286</td>\n",
              "    </tr>\n",
              "    <tr>\n",
              "      <th>8</th>\n",
              "      <td>14</td>\n",
              "      <td>1682</td>\n",
              "      <td>philosophy</td>\n",
              "      <td>1442615158</td>\n",
              "    </tr>\n",
              "    <tr>\n",
              "      <th>9</th>\n",
              "      <td>14</td>\n",
              "      <td>1682</td>\n",
              "      <td>surveillance</td>\n",
              "      <td>1442615167</td>\n",
              "    </tr>\n",
              "  </tbody>\n",
              "</table>\n",
              "</div>\n",
              "      <button class=\"colab-df-convert\" onclick=\"convertToInteractive('df-4075b574-2400-4ed0-b66b-df013d24ff4b')\"\n",
              "              title=\"Convert this dataframe to an interactive table.\"\n",
              "              style=\"display:none;\">\n",
              "        \n",
              "  <svg xmlns=\"http://www.w3.org/2000/svg\" height=\"24px\"viewBox=\"0 0 24 24\"\n",
              "       width=\"24px\">\n",
              "    <path d=\"M0 0h24v24H0V0z\" fill=\"none\"/>\n",
              "    <path d=\"M18.56 5.44l.94 2.06.94-2.06 2.06-.94-2.06-.94-.94-2.06-.94 2.06-2.06.94zm-11 1L8.5 8.5l.94-2.06 2.06-.94-2.06-.94L8.5 2.5l-.94 2.06-2.06.94zm10 10l.94 2.06.94-2.06 2.06-.94-2.06-.94-.94-2.06-.94 2.06-2.06.94z\"/><path d=\"M17.41 7.96l-1.37-1.37c-.4-.4-.92-.59-1.43-.59-.52 0-1.04.2-1.43.59L10.3 9.45l-7.72 7.72c-.78.78-.78 2.05 0 2.83L4 21.41c.39.39.9.59 1.41.59.51 0 1.02-.2 1.41-.59l7.78-7.78 2.81-2.81c.8-.78.8-2.07 0-2.86zM5.41 20L4 18.59l7.72-7.72 1.47 1.35L5.41 20z\"/>\n",
              "  </svg>\n",
              "      </button>\n",
              "      \n",
              "  <style>\n",
              "    .colab-df-container {\n",
              "      display:flex;\n",
              "      flex-wrap:wrap;\n",
              "      gap: 12px;\n",
              "    }\n",
              "\n",
              "    .colab-df-convert {\n",
              "      background-color: #E8F0FE;\n",
              "      border: none;\n",
              "      border-radius: 50%;\n",
              "      cursor: pointer;\n",
              "      display: none;\n",
              "      fill: #1967D2;\n",
              "      height: 32px;\n",
              "      padding: 0 0 0 0;\n",
              "      width: 32px;\n",
              "    }\n",
              "\n",
              "    .colab-df-convert:hover {\n",
              "      background-color: #E2EBFA;\n",
              "      box-shadow: 0px 1px 2px rgba(60, 64, 67, 0.3), 0px 1px 3px 1px rgba(60, 64, 67, 0.15);\n",
              "      fill: #174EA6;\n",
              "    }\n",
              "\n",
              "    [theme=dark] .colab-df-convert {\n",
              "      background-color: #3B4455;\n",
              "      fill: #D2E3FC;\n",
              "    }\n",
              "\n",
              "    [theme=dark] .colab-df-convert:hover {\n",
              "      background-color: #434B5C;\n",
              "      box-shadow: 0px 1px 3px 1px rgba(0, 0, 0, 0.15);\n",
              "      filter: drop-shadow(0px 1px 2px rgba(0, 0, 0, 0.3));\n",
              "      fill: #FFFFFF;\n",
              "    }\n",
              "  </style>\n",
              "\n",
              "      <script>\n",
              "        const buttonEl =\n",
              "          document.querySelector('#df-4075b574-2400-4ed0-b66b-df013d24ff4b button.colab-df-convert');\n",
              "        buttonEl.style.display =\n",
              "          google.colab.kernel.accessAllowed ? 'block' : 'none';\n",
              "\n",
              "        async function convertToInteractive(key) {\n",
              "          const element = document.querySelector('#df-4075b574-2400-4ed0-b66b-df013d24ff4b');\n",
              "          const dataTable =\n",
              "            await google.colab.kernel.invokeFunction('convertToInteractive',\n",
              "                                                     [key], {});\n",
              "          if (!dataTable) return;\n",
              "\n",
              "          const docLinkHtml = 'Like what you see? Visit the ' +\n",
              "            '<a target=\"_blank\" href=https://colab.research.google.com/notebooks/data_table.ipynb>data table notebook</a>'\n",
              "            + ' to learn more about interactive tables.';\n",
              "          element.innerHTML = '';\n",
              "          dataTable['output_type'] = 'display_data';\n",
              "          await google.colab.output.renderOutput(dataTable, element);\n",
              "          const docLink = document.createElement('div');\n",
              "          docLink.innerHTML = docLinkHtml;\n",
              "          element.appendChild(docLink);\n",
              "        }\n",
              "      </script>\n",
              "    </div>\n",
              "  </div>\n",
              "  "
            ],
            "text/plain": [
              "   userId  movieId             tag   timestamp\n",
              "0      14      110            epic  1443148538\n",
              "1      14      110        Medieval  1443148532\n",
              "2      14      260          sci-fi  1442169410\n",
              "3      14      260    space action  1442169421\n",
              "4      14      318    imdb top 250  1442615195\n",
              "5      14      318         justice  1442615192\n",
              "6      14      480       Dinosaurs  1443148563\n",
              "7      14      593  psychothriller  1444014286\n",
              "8      14     1682      philosophy  1442615158\n",
              "9      14     1682    surveillance  1442615167"
            ]
          },
          "execution_count": 17,
          "metadata": {},
          "output_type": "execute_result"
        }
      ],
      "source": [
        "tags_dt.head(10)"
      ]
    },
    {
      "cell_type": "code",
      "execution_count": null,
      "metadata": {
        "id": "HsWQRcc9Oqij"
      },
      "outputs": [],
      "source": [
        "genome_tags_dt = pd.read_csv('drive/MyDrive/ml-latest/genome-tags.csv')"
      ]
    },
    {
      "cell_type": "code",
      "execution_count": null,
      "metadata": {
        "colab": {
          "base_uri": "https://localhost:8080/",
          "height": 363
        },
        "id": "6zpprZ1lOvCG",
        "outputId": "d7ef78f8-c960-4dff-a131-02eb27a2a0f6"
      },
      "outputs": [
        {
          "data": {
            "text/html": [
              "\n",
              "  <div id=\"df-c672273c-ca25-4749-b800-8903bb025803\">\n",
              "    <div class=\"colab-df-container\">\n",
              "      <div>\n",
              "<style scoped>\n",
              "    .dataframe tbody tr th:only-of-type {\n",
              "        vertical-align: middle;\n",
              "    }\n",
              "\n",
              "    .dataframe tbody tr th {\n",
              "        vertical-align: top;\n",
              "    }\n",
              "\n",
              "    .dataframe thead th {\n",
              "        text-align: right;\n",
              "    }\n",
              "</style>\n",
              "<table border=\"1\" class=\"dataframe\">\n",
              "  <thead>\n",
              "    <tr style=\"text-align: right;\">\n",
              "      <th></th>\n",
              "      <th>tagId</th>\n",
              "      <th>tag</th>\n",
              "    </tr>\n",
              "  </thead>\n",
              "  <tbody>\n",
              "    <tr>\n",
              "      <th>0</th>\n",
              "      <td>1</td>\n",
              "      <td>007</td>\n",
              "    </tr>\n",
              "    <tr>\n",
              "      <th>1</th>\n",
              "      <td>2</td>\n",
              "      <td>007 (series)</td>\n",
              "    </tr>\n",
              "    <tr>\n",
              "      <th>2</th>\n",
              "      <td>3</td>\n",
              "      <td>18th century</td>\n",
              "    </tr>\n",
              "    <tr>\n",
              "      <th>3</th>\n",
              "      <td>4</td>\n",
              "      <td>1920s</td>\n",
              "    </tr>\n",
              "    <tr>\n",
              "      <th>4</th>\n",
              "      <td>5</td>\n",
              "      <td>1930s</td>\n",
              "    </tr>\n",
              "    <tr>\n",
              "      <th>5</th>\n",
              "      <td>6</td>\n",
              "      <td>1950s</td>\n",
              "    </tr>\n",
              "    <tr>\n",
              "      <th>6</th>\n",
              "      <td>7</td>\n",
              "      <td>1960s</td>\n",
              "    </tr>\n",
              "    <tr>\n",
              "      <th>7</th>\n",
              "      <td>8</td>\n",
              "      <td>1970s</td>\n",
              "    </tr>\n",
              "    <tr>\n",
              "      <th>8</th>\n",
              "      <td>9</td>\n",
              "      <td>1980s</td>\n",
              "    </tr>\n",
              "    <tr>\n",
              "      <th>9</th>\n",
              "      <td>10</td>\n",
              "      <td>19th century</td>\n",
              "    </tr>\n",
              "  </tbody>\n",
              "</table>\n",
              "</div>\n",
              "      <button class=\"colab-df-convert\" onclick=\"convertToInteractive('df-c672273c-ca25-4749-b800-8903bb025803')\"\n",
              "              title=\"Convert this dataframe to an interactive table.\"\n",
              "              style=\"display:none;\">\n",
              "        \n",
              "  <svg xmlns=\"http://www.w3.org/2000/svg\" height=\"24px\"viewBox=\"0 0 24 24\"\n",
              "       width=\"24px\">\n",
              "    <path d=\"M0 0h24v24H0V0z\" fill=\"none\"/>\n",
              "    <path d=\"M18.56 5.44l.94 2.06.94-2.06 2.06-.94-2.06-.94-.94-2.06-.94 2.06-2.06.94zm-11 1L8.5 8.5l.94-2.06 2.06-.94-2.06-.94L8.5 2.5l-.94 2.06-2.06.94zm10 10l.94 2.06.94-2.06 2.06-.94-2.06-.94-.94-2.06-.94 2.06-2.06.94z\"/><path d=\"M17.41 7.96l-1.37-1.37c-.4-.4-.92-.59-1.43-.59-.52 0-1.04.2-1.43.59L10.3 9.45l-7.72 7.72c-.78.78-.78 2.05 0 2.83L4 21.41c.39.39.9.59 1.41.59.51 0 1.02-.2 1.41-.59l7.78-7.78 2.81-2.81c.8-.78.8-2.07 0-2.86zM5.41 20L4 18.59l7.72-7.72 1.47 1.35L5.41 20z\"/>\n",
              "  </svg>\n",
              "      </button>\n",
              "      \n",
              "  <style>\n",
              "    .colab-df-container {\n",
              "      display:flex;\n",
              "      flex-wrap:wrap;\n",
              "      gap: 12px;\n",
              "    }\n",
              "\n",
              "    .colab-df-convert {\n",
              "      background-color: #E8F0FE;\n",
              "      border: none;\n",
              "      border-radius: 50%;\n",
              "      cursor: pointer;\n",
              "      display: none;\n",
              "      fill: #1967D2;\n",
              "      height: 32px;\n",
              "      padding: 0 0 0 0;\n",
              "      width: 32px;\n",
              "    }\n",
              "\n",
              "    .colab-df-convert:hover {\n",
              "      background-color: #E2EBFA;\n",
              "      box-shadow: 0px 1px 2px rgba(60, 64, 67, 0.3), 0px 1px 3px 1px rgba(60, 64, 67, 0.15);\n",
              "      fill: #174EA6;\n",
              "    }\n",
              "\n",
              "    [theme=dark] .colab-df-convert {\n",
              "      background-color: #3B4455;\n",
              "      fill: #D2E3FC;\n",
              "    }\n",
              "\n",
              "    [theme=dark] .colab-df-convert:hover {\n",
              "      background-color: #434B5C;\n",
              "      box-shadow: 0px 1px 3px 1px rgba(0, 0, 0, 0.15);\n",
              "      filter: drop-shadow(0px 1px 2px rgba(0, 0, 0, 0.3));\n",
              "      fill: #FFFFFF;\n",
              "    }\n",
              "  </style>\n",
              "\n",
              "      <script>\n",
              "        const buttonEl =\n",
              "          document.querySelector('#df-c672273c-ca25-4749-b800-8903bb025803 button.colab-df-convert');\n",
              "        buttonEl.style.display =\n",
              "          google.colab.kernel.accessAllowed ? 'block' : 'none';\n",
              "\n",
              "        async function convertToInteractive(key) {\n",
              "          const element = document.querySelector('#df-c672273c-ca25-4749-b800-8903bb025803');\n",
              "          const dataTable =\n",
              "            await google.colab.kernel.invokeFunction('convertToInteractive',\n",
              "                                                     [key], {});\n",
              "          if (!dataTable) return;\n",
              "\n",
              "          const docLinkHtml = 'Like what you see? Visit the ' +\n",
              "            '<a target=\"_blank\" href=https://colab.research.google.com/notebooks/data_table.ipynb>data table notebook</a>'\n",
              "            + ' to learn more about interactive tables.';\n",
              "          element.innerHTML = '';\n",
              "          dataTable['output_type'] = 'display_data';\n",
              "          await google.colab.output.renderOutput(dataTable, element);\n",
              "          const docLink = document.createElement('div');\n",
              "          docLink.innerHTML = docLinkHtml;\n",
              "          element.appendChild(docLink);\n",
              "        }\n",
              "      </script>\n",
              "    </div>\n",
              "  </div>\n",
              "  "
            ],
            "text/plain": [
              "   tagId           tag\n",
              "0      1           007\n",
              "1      2  007 (series)\n",
              "2      3  18th century\n",
              "3      4         1920s\n",
              "4      5         1930s\n",
              "5      6         1950s\n",
              "6      7         1960s\n",
              "7      8         1970s\n",
              "8      9         1980s\n",
              "9     10  19th century"
            ]
          },
          "execution_count": 20,
          "metadata": {},
          "output_type": "execute_result"
        }
      ],
      "source": [
        "genome_tags_dt.head(10)"
      ]
    },
    {
      "cell_type": "code",
      "execution_count": null,
      "metadata": {
        "id": "X5WT51gkO2dT"
      },
      "outputs": [],
      "source": [
        "genome_scores_dt = pd.read_csv('drive/MyDrive/ml-latest/genome-scores.csv')"
      ]
    },
    {
      "cell_type": "code",
      "execution_count": null,
      "metadata": {
        "colab": {
          "base_uri": "https://localhost:8080/",
          "height": 363
        },
        "id": "JM5zCluJO6Ja",
        "outputId": "eb6d383a-4ce7-4e4a-e2fe-b149609d4eac"
      },
      "outputs": [
        {
          "data": {
            "text/html": [
              "\n",
              "  <div id=\"df-091a25ce-9d54-49ed-8d6f-b88c7c621163\">\n",
              "    <div class=\"colab-df-container\">\n",
              "      <div>\n",
              "<style scoped>\n",
              "    .dataframe tbody tr th:only-of-type {\n",
              "        vertical-align: middle;\n",
              "    }\n",
              "\n",
              "    .dataframe tbody tr th {\n",
              "        vertical-align: top;\n",
              "    }\n",
              "\n",
              "    .dataframe thead th {\n",
              "        text-align: right;\n",
              "    }\n",
              "</style>\n",
              "<table border=\"1\" class=\"dataframe\">\n",
              "  <thead>\n",
              "    <tr style=\"text-align: right;\">\n",
              "      <th></th>\n",
              "      <th>movieId</th>\n",
              "      <th>tagId</th>\n",
              "      <th>relevance</th>\n",
              "    </tr>\n",
              "  </thead>\n",
              "  <tbody>\n",
              "    <tr>\n",
              "      <th>0</th>\n",
              "      <td>1</td>\n",
              "      <td>1</td>\n",
              "      <td>0.02900</td>\n",
              "    </tr>\n",
              "    <tr>\n",
              "      <th>1</th>\n",
              "      <td>1</td>\n",
              "      <td>2</td>\n",
              "      <td>0.02375</td>\n",
              "    </tr>\n",
              "    <tr>\n",
              "      <th>2</th>\n",
              "      <td>1</td>\n",
              "      <td>3</td>\n",
              "      <td>0.05425</td>\n",
              "    </tr>\n",
              "    <tr>\n",
              "      <th>3</th>\n",
              "      <td>1</td>\n",
              "      <td>4</td>\n",
              "      <td>0.06875</td>\n",
              "    </tr>\n",
              "    <tr>\n",
              "      <th>4</th>\n",
              "      <td>1</td>\n",
              "      <td>5</td>\n",
              "      <td>0.16000</td>\n",
              "    </tr>\n",
              "    <tr>\n",
              "      <th>5</th>\n",
              "      <td>1</td>\n",
              "      <td>6</td>\n",
              "      <td>0.19525</td>\n",
              "    </tr>\n",
              "    <tr>\n",
              "      <th>6</th>\n",
              "      <td>1</td>\n",
              "      <td>7</td>\n",
              "      <td>0.07600</td>\n",
              "    </tr>\n",
              "    <tr>\n",
              "      <th>7</th>\n",
              "      <td>1</td>\n",
              "      <td>8</td>\n",
              "      <td>0.25200</td>\n",
              "    </tr>\n",
              "    <tr>\n",
              "      <th>8</th>\n",
              "      <td>1</td>\n",
              "      <td>9</td>\n",
              "      <td>0.22750</td>\n",
              "    </tr>\n",
              "    <tr>\n",
              "      <th>9</th>\n",
              "      <td>1</td>\n",
              "      <td>10</td>\n",
              "      <td>0.02400</td>\n",
              "    </tr>\n",
              "  </tbody>\n",
              "</table>\n",
              "</div>\n",
              "      <button class=\"colab-df-convert\" onclick=\"convertToInteractive('df-091a25ce-9d54-49ed-8d6f-b88c7c621163')\"\n",
              "              title=\"Convert this dataframe to an interactive table.\"\n",
              "              style=\"display:none;\">\n",
              "        \n",
              "  <svg xmlns=\"http://www.w3.org/2000/svg\" height=\"24px\"viewBox=\"0 0 24 24\"\n",
              "       width=\"24px\">\n",
              "    <path d=\"M0 0h24v24H0V0z\" fill=\"none\"/>\n",
              "    <path d=\"M18.56 5.44l.94 2.06.94-2.06 2.06-.94-2.06-.94-.94-2.06-.94 2.06-2.06.94zm-11 1L8.5 8.5l.94-2.06 2.06-.94-2.06-.94L8.5 2.5l-.94 2.06-2.06.94zm10 10l.94 2.06.94-2.06 2.06-.94-2.06-.94-.94-2.06-.94 2.06-2.06.94z\"/><path d=\"M17.41 7.96l-1.37-1.37c-.4-.4-.92-.59-1.43-.59-.52 0-1.04.2-1.43.59L10.3 9.45l-7.72 7.72c-.78.78-.78 2.05 0 2.83L4 21.41c.39.39.9.59 1.41.59.51 0 1.02-.2 1.41-.59l7.78-7.78 2.81-2.81c.8-.78.8-2.07 0-2.86zM5.41 20L4 18.59l7.72-7.72 1.47 1.35L5.41 20z\"/>\n",
              "  </svg>\n",
              "      </button>\n",
              "      \n",
              "  <style>\n",
              "    .colab-df-container {\n",
              "      display:flex;\n",
              "      flex-wrap:wrap;\n",
              "      gap: 12px;\n",
              "    }\n",
              "\n",
              "    .colab-df-convert {\n",
              "      background-color: #E8F0FE;\n",
              "      border: none;\n",
              "      border-radius: 50%;\n",
              "      cursor: pointer;\n",
              "      display: none;\n",
              "      fill: #1967D2;\n",
              "      height: 32px;\n",
              "      padding: 0 0 0 0;\n",
              "      width: 32px;\n",
              "    }\n",
              "\n",
              "    .colab-df-convert:hover {\n",
              "      background-color: #E2EBFA;\n",
              "      box-shadow: 0px 1px 2px rgba(60, 64, 67, 0.3), 0px 1px 3px 1px rgba(60, 64, 67, 0.15);\n",
              "      fill: #174EA6;\n",
              "    }\n",
              "\n",
              "    [theme=dark] .colab-df-convert {\n",
              "      background-color: #3B4455;\n",
              "      fill: #D2E3FC;\n",
              "    }\n",
              "\n",
              "    [theme=dark] .colab-df-convert:hover {\n",
              "      background-color: #434B5C;\n",
              "      box-shadow: 0px 1px 3px 1px rgba(0, 0, 0, 0.15);\n",
              "      filter: drop-shadow(0px 1px 2px rgba(0, 0, 0, 0.3));\n",
              "      fill: #FFFFFF;\n",
              "    }\n",
              "  </style>\n",
              "\n",
              "      <script>\n",
              "        const buttonEl =\n",
              "          document.querySelector('#df-091a25ce-9d54-49ed-8d6f-b88c7c621163 button.colab-df-convert');\n",
              "        buttonEl.style.display =\n",
              "          google.colab.kernel.accessAllowed ? 'block' : 'none';\n",
              "\n",
              "        async function convertToInteractive(key) {\n",
              "          const element = document.querySelector('#df-091a25ce-9d54-49ed-8d6f-b88c7c621163');\n",
              "          const dataTable =\n",
              "            await google.colab.kernel.invokeFunction('convertToInteractive',\n",
              "                                                     [key], {});\n",
              "          if (!dataTable) return;\n",
              "\n",
              "          const docLinkHtml = 'Like what you see? Visit the ' +\n",
              "            '<a target=\"_blank\" href=https://colab.research.google.com/notebooks/data_table.ipynb>data table notebook</a>'\n",
              "            + ' to learn more about interactive tables.';\n",
              "          element.innerHTML = '';\n",
              "          dataTable['output_type'] = 'display_data';\n",
              "          await google.colab.output.renderOutput(dataTable, element);\n",
              "          const docLink = document.createElement('div');\n",
              "          docLink.innerHTML = docLinkHtml;\n",
              "          element.appendChild(docLink);\n",
              "        }\n",
              "      </script>\n",
              "    </div>\n",
              "  </div>\n",
              "  "
            ],
            "text/plain": [
              "   movieId  tagId  relevance\n",
              "0        1      1    0.02900\n",
              "1        1      2    0.02375\n",
              "2        1      3    0.05425\n",
              "3        1      4    0.06875\n",
              "4        1      5    0.16000\n",
              "5        1      6    0.19525\n",
              "6        1      7    0.07600\n",
              "7        1      8    0.25200\n",
              "8        1      9    0.22750\n",
              "9        1     10    0.02400"
            ]
          },
          "execution_count": 22,
          "metadata": {},
          "output_type": "execute_result"
        }
      ],
      "source": [
        "genome_scores_dt.head(10)"
      ]
    },
    {
      "cell_type": "markdown",
      "metadata": {
        "id": "oDZ_VGi8tDQU"
      },
      "source": [
        "#Collaborative - item-based"
      ]
    },
    {
      "cell_type": "markdown",
      "source": [
        "Зареждаме дейтасета и ще работим с негова частична представителна извадка с големина 10% от оригиналния."
      ],
      "metadata": {
        "id": "51RQzPNCWdda"
      }
    },
    {
      "cell_type": "code",
      "execution_count": null,
      "metadata": {
        "id": "Wgo_a1-ktCb0"
      },
      "outputs": [],
      "source": [
        "rating_dt = pd.read_csv('drive/MyDrive/RecSys-Datasets/ml-latest-27mil-ratings/ratings.csv')"
      ]
    },
    {
      "cell_type": "code",
      "execution_count": null,
      "metadata": {
        "id": "6_Get7SEuO3y"
      },
      "outputs": [],
      "source": [
        "user_ids = rating_dt[\"userId\"].unique().tolist() \n",
        "num_all_user = len(user_ids)\n",
        "\n",
        "# randomly select 10% users from rating dataset \n",
        "np.random.seed(123)\n",
        "rand_userid = np.random.choice(user_ids, size = int(num_all_user * 0.1), replace=False)\n",
        "sample_df = rating_dt.loc[rating_dt['userId'].isin(rand_userid)]\n",
        "sample_df = sample_df[['userId','movieId','rating']]"
      ]
    },
    {
      "cell_type": "code",
      "source": [
        "len(rand_userid)"
      ],
      "metadata": {
        "colab": {
          "base_uri": "https://localhost:8080/"
        },
        "id": "u4bPUEoqtTJo",
        "outputId": "5109c8fe-946f-46db-e16d-720e8c265ade"
      },
      "execution_count": null,
      "outputs": [
        {
          "output_type": "execute_result",
          "data": {
            "text/plain": [
              "28322"
            ]
          },
          "metadata": {},
          "execution_count": 5
        }
      ]
    },
    {
      "cell_type": "code",
      "execution_count": null,
      "metadata": {
        "colab": {
          "base_uri": "https://localhost:8080/"
        },
        "id": "UT6t2lI-v4Vq",
        "outputId": "6ee14bd7-cd1d-4b0d-ce55-66c5cbbc6608"
      },
      "outputs": [
        {
          "output_type": "execute_result",
          "data": {
            "text/plain": [
              "(2720982, 3)"
            ]
          },
          "metadata": {},
          "execution_count": 6
        }
      ],
      "source": [
        "sample_df.shape"
      ]
    },
    {
      "cell_type": "markdown",
      "source": [
        "Ще използваме KNNwithMeans алгоритъма от библиотеката Suprise, който е разширание на KNN като в допълнение използва средното от рейтингите на всеки потребител."
      ],
      "metadata": {
        "id": "derOqy6lW0ba"
      }
    },
    {
      "cell_type": "markdown",
      "source": [
        "![Screenshot 2022-07-02 at 17.43.44.png](data:image/png;base64,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)"
      ],
      "metadata": {
        "id": "Mcsn7AXZXc7v"
      }
    },
    {
      "cell_type": "code",
      "execution_count": null,
      "metadata": {
        "colab": {
          "base_uri": "https://localhost:8080/"
        },
        "id": "xd9I22KQuT2_",
        "outputId": "2cd9465b-8f00-4dd3-f402-2f03d1762dc3"
      },
      "outputs": [
        {
          "output_type": "stream",
          "name": "stdout",
          "text": [
            "Computing the msd similarity matrix...\n",
            "Done computing similarity matrix.\n",
            "RMSE: 0.9098\n"
          ]
        },
        {
          "output_type": "execute_result",
          "data": {
            "text/plain": [
              "0.9097534384233561"
            ]
          },
          "metadata": {},
          "execution_count": 8
        }
      ],
      "source": [
        "# read the pandas dataframe as surprise dataframe\n",
        "reader = Reader(rating_scale=(0,5))\n",
        "data = Dataset.load_from_df(sample_df,reader)\n",
        "\n",
        "# set up the kNN model\n",
        "my_k = 15\n",
        "my_min_k = 5\n",
        "my_sim_option = {'name':'pearson',\n",
        "                 'user_based':False}\n",
        "algo = surprise.KNNWithMeans(k = my_k, min_k = my_min_k, sim_option = my_sim_option)\n",
        "\n",
        "# split and train the data\n",
        "trainset, testset = surprise.model_selection.train_test_split(data, test_size=0.25)\n",
        "predictions = algo.fit(trainset).test(testset)\n",
        "surprise.accuracy.rmse(predictions)"
      ]
    },
    {
      "cell_type": "markdown",
      "source": [
        "Като метрика за оценка ще използваме nDCG (normalised Discounted Cumulative Gain), която наказва по-късно препоръчани по-релевантни филми. nDCG = DCG/iDCG"
      ],
      "metadata": {
        "id": "ljFi7jHyYVgh"
      }
    },
    {
      "cell_type": "code",
      "source": [
        "np.random.seed(123)\n",
        "userid_random = np.random.choice(user_ids, 100, replace=False)\n",
        "rel_list = []\n",
        "predictions_df = pd.DataFrame(predictions)\n",
        "for user in userid_random:\n",
        "    recommended = []\n",
        "    rate = []\n",
        "    user_predictions = predictions_df.loc[user == predictions_df['uid']]\n",
        "    top_20_user_predictions = user_predictions.sort_values(by=['est'], ascending=False).head(20)\n",
        "\n",
        "    rel = []    \n",
        "    for index, row in top_20_user_predictions.iterrows():\n",
        "        if row['r_ui'] >= 4:\n",
        "            rel.append(2)\n",
        "        elif row['r_ui'] >= 2 and row['r_ui'] < 4:\n",
        "            rel.append(1)\n",
        "        else:\n",
        "            rel.append(0)\n",
        "    rel_list.append(rel)\n",
        "dcg_sum = 0\n",
        "\n",
        "ndcg_sum = 0\n",
        "for r in rel_list:\n",
        "    dcg = 0\n",
        "    idcg = 0\n",
        "    for i, value in enumerate(r):\n",
        "        dcg += value/np.log(i+2)\n",
        "    r.sort(reverse=True)\n",
        "    for i, value in enumerate(r): \n",
        "        idcg += value/np.log(i+2)\n",
        "    ndcg = 0\n",
        "    if idcg != 0:\n",
        "      ndcg = dcg/idcg\n",
        "    ndcg_sum += ndcg\n",
        "\n",
        "print(ndcg_sum/len(rel_list))"
      ],
      "metadata": {
        "colab": {
          "base_uri": "https://localhost:8080/"
        },
        "id": "YuFfankm0r6e",
        "outputId": "d6bf81f9-81dc-4f19-9836-563856d5e1b6"
      },
      "execution_count": null,
      "outputs": [
        {
          "output_type": "stream",
          "name": "stdout",
          "text": [
            "0.927518699213907\n"
          ]
        }
      ]
    },
    {
      "cell_type": "markdown",
      "metadata": {
        "id": "eSwrjfhE0Xrn"
      },
      "source": [
        "#Neural-Collaborative Filtering"
      ]
    },
    {
      "cell_type": "markdown",
      "source": [
        "Ще направим експеримент с NCF (Neural-Collaborative Filtering) върху дейтасетa. Кодът ни представлява имплементация на модела, предложен от статията: [Neural Collaborative Filtering](https://arxiv.org/pdf/1708.05031.pdf). \n",
        "\n",
        "Моделът е базиран на дълбока невронна мрежа, като комбинира два подхода: \n",
        "- стандартна факторизация на матрици, чрез невронна мрежа (не се използва активираща функция).\n",
        "- MLP (Multi Layer Perceptron), състоящ се от няколко невронни слоя, при който вече има активираща функция ReLu, за да се опишат нелинейни зависимости.\n",
        "Резултатът от двете се конкатенира и отново преминава през ReLu функция и дава финалните препоръки.\n",
        "\n",
        "При MLP използваме Dropout и Batch Normalization, за постигане на по-добра генерализация и предотвратяване на overfiting. За тази цел ще използваме Keras, по-конкретно неговия Functional API.\n",
        "\n"
      ],
      "metadata": {
        "id": "UkDsNtg0FQp4"
      }
    },
    {
      "cell_type": "code",
      "execution_count": null,
      "metadata": {
        "id": "6JlKyyNK0b4D"
      },
      "outputs": [],
      "source": [
        "# date parse format\n",
        "def dateparse (time_in_secs):    \n",
        "    return datetime.datetime.fromtimestamp(float(time_in_secs))"
      ]
    },
    {
      "cell_type": "code",
      "execution_count": null,
      "metadata": {
        "id": "jDDcO1F60b1M"
      },
      "outputs": [],
      "source": [
        "rating_dt = pd.read_csv('drive/MyDrive/RecSys-Datasets/ml-latest-27mil-ratings/ratings.csv', \n",
        "                       )\n",
        "movie_dt = pd.read_csv('drive/MyDrive/RecSys-Datasets/ml-latest-27mil-ratings/movies.csv')\n",
        "tag_dt = pd.read_csv('drive/MyDrive/RecSys-Datasets/ml-latest-27mil-ratings/tags.csv', parse_dates=['timestamp'])"
      ]
    },
    {
      "cell_type": "code",
      "execution_count": null,
      "metadata": {
        "colab": {
          "base_uri": "https://localhost:8080/"
        },
        "id": "W9CYBFni0bsn",
        "outputId": "dc251d2b-5956-4e9b-d12c-f0d607c09afb"
      },
      "outputs": [
        {
          "output_type": "stream",
          "name": "stderr",
          "text": [
            "/usr/local/lib/python3.7/dist-packages/ipykernel_launcher.py:15: SettingWithCopyWarning: \n",
            "A value is trying to be set on a copy of a slice from a DataFrame.\n",
            "Try using .loc[row_indexer,col_indexer] = value instead\n",
            "\n",
            "See the caveats in the documentation: https://pandas.pydata.org/pandas-docs/stable/user_guide/indexing.html#returning-a-view-versus-a-copy\n",
            "  from ipykernel import kernelapp as app\n",
            "/usr/local/lib/python3.7/dist-packages/ipykernel_launcher.py:21: SettingWithCopyWarning: \n",
            "A value is trying to be set on a copy of a slice from a DataFrame.\n",
            "Try using .loc[row_indexer,col_indexer] = value instead\n",
            "\n",
            "See the caveats in the documentation: https://pandas.pydata.org/pandas-docs/stable/user_guide/indexing.html#returning-a-view-versus-a-copy\n"
          ]
        },
        {
          "output_type": "stream",
          "name": "stdout",
          "text": [
            "total movie: 27374 \n",
            "movie in train: 25680 \n",
            "movie not in train: 1694 (0.06) \n",
            "\n",
            "total user: 28322 \n",
            "user in train: 28177 \n",
            "user not in train: 145 (0.01)\n"
          ]
        }
      ],
      "source": [
        "# all unique user ids\n",
        "user_ids = rating_dt[\"userId\"].unique().tolist() \n",
        "num_all_user = len(user_ids)\n",
        "\n",
        "# randomly select 10% users from rating dataset \n",
        "np.random.seed(123)\n",
        "rand_userid = np.random.choice(user_ids, size = int(num_all_user * 0.1), replace=False)\n",
        "sample_df = rating_dt.loc[rating_dt['userId'].isin(rand_userid)]\n",
        "\n",
        "# userid, movieid encoding by indices\n",
        "user_ids = sample_df['userId'].unique()\n",
        "num_users = len(user_ids)\n",
        "user2user_encoded = {x: i for i, x in enumerate(user_ids)}\n",
        "user_encoded2user = {i: x for i, x in enumerate(user_ids)}\n",
        "sample_df['user_encoded'] = sample_df['userId'].map(user2user_encoded)\n",
        "\n",
        "movie_ids = sample_df['movieId'].unique()\n",
        "num_movies = len(movie_ids)\n",
        "movie2movie_encoded = {x: i for i, x in enumerate(movie_ids)}\n",
        "movie_encoded2movie = {i: x for i, x in enumerate(movie_ids)}\n",
        "sample_df['movie_encoded'] = sample_df['movieId'].map(movie2movie_encoded)\n",
        "\n",
        "# train-test split\n",
        "train, test = sklearn.model_selection.train_test_split(sample_df, test_size = 0.2, random_state=123)\n",
        "\n",
        "num_train_user = len(np.unique(train['user_encoded']))\n",
        "num_train_movie = len(np.unique(train['movie_encoded']))\n",
        "\n",
        "print(f'total movie: {num_movies}', \n",
        "      f'\\nmovie in train: {num_train_movie}', \n",
        "      f'\\nmovie not in train: {num_movies - num_train_movie} ({1 - num_train_movie / num_movies :.2f})', \n",
        "      f'\\n\\ntotal user: {num_users}', \n",
        "      f'\\nuser in train: {num_train_user}', \n",
        "      f'\\nuser not in train: {num_users - num_train_user} ({1 - num_train_user / num_users :.2f})'\n",
        "     )"
      ]
    },
    {
      "cell_type": "markdown",
      "metadata": {
        "id": "bq8bzDFo032V"
      },
      "source": [
        "Ембединг и модел"
      ]
    },
    {
      "cell_type": "code",
      "execution_count": null,
      "metadata": {
        "id": "OWvpXBzz0bm6"
      },
      "outputs": [],
      "source": [
        "# input: an integer as embedding layer size, a float as drop out probability\n",
        "# output: a keras NCF model with pre-constructed layers\n",
        "def NCF_model(embed_size = 10, drop_out_prob = 0.2): \n",
        "    # define spaceholder of embedding inputs\n",
        "    movie_input = Input(shape=[1],name='movie-input')\n",
        "    user_input = Input(shape=[1], name='user-input')\n",
        "\n",
        "    # MLP embeddings for both user and movie\n",
        "    movie_embedding_mlp = Embedding(num_movies, embed_size, \n",
        "                                    name='movie-embedding-mlp')(movie_input)\n",
        "    movie_vec_mlp = Flatten(name='flatten-movie-mlp')(movie_embedding_mlp)\n",
        "    movie_vec_mlp = Flatten(name='flatten-movie-mlp')(movie_embedding_mlp)\n",
        "\n",
        "    user_embedding_mlp = Embedding(num_users, embed_size, \n",
        "                                   name='user-embedding-mlp')(user_input)\n",
        "    user_vec_mlp = Flatten(name='flatten-user-mlp')(user_embedding_mlp)\n",
        "\n",
        "    # MF embeddings for both user and movie\n",
        "    movie_embedding_mf = Embedding(num_movies, embed_size, \n",
        "                                   name='movie-embedding-mf')(movie_input)\n",
        "    movie_vec_mf = Flatten(name='flatten-movie-mf')(movie_embedding_mf)\n",
        "\n",
        "    user_embedding_mf = Embedding(num_users, embed_size, \n",
        "                                  name='user-embedding-mf')(user_input)\n",
        "    user_vec_mf = Flatten(name='flatten-user-mf')(user_embedding_mf)\n",
        "\n",
        "    # MLP layers\n",
        "    concat = concatenate([movie_vec_mlp, user_vec_mlp], axis=-1, name='concat')\n",
        "    concat_dropout = Dropout(drop_out_prob)(concat)\n",
        "\n",
        "    fc_1 = Dense(100, name='fc-1', activation='relu')(concat_dropout)\n",
        "    fc_1_bn = BatchNormalization(name='batch-norm-1')(fc_1)\n",
        "    fc_1_dropout = Dropout(drop_out_prob)(fc_1_bn)\n",
        "\n",
        "    fc_2 = Dense(50, name='fc-2', activation='relu')(fc_1_dropout)\n",
        "    fc_2_bn = BatchNormalization(name='batch-norm-2')(fc_2)\n",
        "    fc_2_dropout = Dropout(drop_out_prob)(fc_2_bn)\n",
        "\n",
        "    # Prediction from both layers\n",
        "    pred_mlp = Dense(10, name='pred-mlp', activation='relu')(fc_2_dropout)\n",
        "    pred_mf = dot([movie_vec_mf, user_vec_mf], axes=1, normalize=False)\n",
        "\n",
        "    combine_mlp_mf = concatenate([pred_mf, pred_mlp], axis=-1, name='pred_mf')\n",
        "\n",
        "    # Final prediction\n",
        "    result = Dense(1, name='result', activation='relu')(combine_mlp_mf)\n",
        "\n",
        "    model = Model([user_input, movie_input], result)\n",
        "    model.compile(optimizer=Adam(lr=0.01), loss='mean_squared_error')\n",
        "\n",
        "    return model"
      ]
    },
    {
      "cell_type": "code",
      "execution_count": null,
      "metadata": {
        "colab": {
          "base_uri": "https://localhost:8080/",
          "height": 1000
        },
        "id": "zvrQFGev0bKG",
        "outputId": "5e969db5-bbea-425d-caed-ed70499319f5"
      },
      "outputs": [
        {
          "output_type": "stream",
          "name": "stderr",
          "text": [
            "/usr/local/lib/python3.7/dist-packages/keras/optimizer_v2/adam.py:105: UserWarning: The `lr` argument is deprecated, use `learning_rate` instead.\n",
            "  super(Adam, self).__init__(name, **kwargs)\n"
          ]
        },
        {
          "output_type": "execute_result",
          "data": {
            "text/plain": [
              "<IPython.core.display.SVG object>"
            ],
            "image/svg+xml": "<svg height=\"788pt\" viewBox=\"0.00 0.00 1518.00 1134.00\" width=\"1054pt\" xmlns=\"http://www.w3.org/2000/svg\" xmlns:xlink=\"http://www.w3.org/1999/xlink\">\n<g class=\"graph\" id=\"graph0\" transform=\"scale(.6944 .6944) rotate(0) translate(4 1130)\">\n<title>G</title>\n<polygon fill=\"#ffffff\" points=\"-4,4 -4,-1130 1514,-1130 1514,4 -4,4\" stroke=\"transparent\"/>\n<!-- 140016331512656 -->\n<g class=\"node\" id=\"node1\">\n<title>140016331512656</title>\n<polygon fill=\"none\" points=\"225,-1079.5 225,-1125.5 532,-1125.5 532,-1079.5 225,-1079.5\" stroke=\"#000000\"/>\n<text fill=\"#000000\" font-family=\"Times,serif\" font-size=\"14.00\" text-anchor=\"middle\" x=\"268.5\" y=\"-1110.3\">movie-input</text>\n<polyline fill=\"none\" points=\"225,-1102.5 312,-1102.5 \" stroke=\"#000000\"/>\n<text fill=\"#000000\" font-family=\"Times,serif\" font-size=\"14.00\" text-anchor=\"middle\" x=\"268.5\" y=\"-1087.3\">InputLayer</text>\n<polyline fill=\"none\" points=\"312,-1079.5 312,-1125.5 \" stroke=\"#000000\"/>\n<text fill=\"#000000\" font-family=\"Times,serif\" font-size=\"14.00\" text-anchor=\"middle\" x=\"341\" y=\"-1110.3\">input:</text>\n<polyline fill=\"none\" points=\"312,-1102.5 370,-1102.5 \" stroke=\"#000000\"/>\n<text fill=\"#000000\" font-family=\"Times,serif\" font-size=\"14.00\" text-anchor=\"middle\" x=\"341\" y=\"-1087.3\">output:</text>\n<polyline fill=\"none\" points=\"370,-1079.5 370,-1125.5 \" stroke=\"#000000\"/>\n<text fill=\"#000000\" font-family=\"Times,serif\" font-size=\"14.00\" text-anchor=\"middle\" x=\"410.5\" y=\"-1098.8\">[(None, 1)]</text>\n<polyline fill=\"none\" points=\"451,-1079.5 451,-1125.5 \" stroke=\"#000000\"/>\n<text fill=\"#000000\" font-family=\"Times,serif\" font-size=\"14.00\" text-anchor=\"middle\" x=\"491.5\" y=\"-1098.8\">[(None, 1)]</text>\n</g>\n<!-- 140017489880592 -->\n<g class=\"node\" id=\"node3\">\n<title>140017489880592</title>\n<polygon fill=\"none\" points=\"385.5,-996.5 385.5,-1042.5 759.5,-1042.5 759.5,-996.5 385.5,-996.5\" stroke=\"#000000\"/>\n<text fill=\"#000000\" font-family=\"Times,serif\" font-size=\"14.00\" text-anchor=\"middle\" x=\"460\" y=\"-1027.3\">movie-embedding-mlp</text>\n<polyline fill=\"none\" points=\"385.5,-1019.5 534.5,-1019.5 \" stroke=\"#000000\"/>\n<text fill=\"#000000\" font-family=\"Times,serif\" font-size=\"14.00\" text-anchor=\"middle\" x=\"460\" y=\"-1004.3\">Embedding</text>\n<polyline fill=\"none\" points=\"534.5,-996.5 534.5,-1042.5 \" stroke=\"#000000\"/>\n<text fill=\"#000000\" font-family=\"Times,serif\" font-size=\"14.00\" text-anchor=\"middle\" x=\"563.5\" y=\"-1027.3\">input:</text>\n<polyline fill=\"none\" points=\"534.5,-1019.5 592.5,-1019.5 \" stroke=\"#000000\"/>\n<text fill=\"#000000\" font-family=\"Times,serif\" font-size=\"14.00\" text-anchor=\"middle\" x=\"563.5\" y=\"-1004.3\">output:</text>\n<polyline fill=\"none\" points=\"592.5,-996.5 592.5,-1042.5 \" stroke=\"#000000\"/>\n<text fill=\"#000000\" font-family=\"Times,serif\" font-size=\"14.00\" text-anchor=\"middle\" x=\"628.5\" y=\"-1015.8\">(None, 1)</text>\n<polyline fill=\"none\" points=\"664.5,-996.5 664.5,-1042.5 \" stroke=\"#000000\"/>\n<text fill=\"#000000\" font-family=\"Times,serif\" font-size=\"14.00\" text-anchor=\"middle\" x=\"712\" y=\"-1015.8\">(None, 1, 10)</text>\n</g>\n<!-- 140016331512656&#45;&gt;140017489880592 -->\n<g class=\"edge\" id=\"edge1\">\n<title>140016331512656-&gt;140017489880592</title>\n<path d=\"M432.2822,-1079.4901C456.146,-1069.2803 484.3965,-1057.1938 509.2642,-1046.5545\" fill=\"none\" stroke=\"#000000\"/>\n<polygon fill=\"#000000\" points=\"510.796,-1049.7061 518.6132,-1042.5547 508.0425,-1043.2703 510.796,-1049.7061\" stroke=\"#000000\"/>\n</g>\n<!-- 140017495414800 -->\n<g class=\"node\" id=\"node13\">\n<title>140017495414800</title>\n<polygon fill=\"none\" points=\"0,-996.5 0,-1042.5 367,-1042.5 367,-996.5 0,-996.5\" stroke=\"#000000\"/>\n<text fill=\"#000000\" font-family=\"Times,serif\" font-size=\"14.00\" text-anchor=\"middle\" x=\"71\" y=\"-1027.3\">movie-embedding-mf</text>\n<polyline fill=\"none\" points=\"0,-1019.5 142,-1019.5 \" stroke=\"#000000\"/>\n<text fill=\"#000000\" font-family=\"Times,serif\" font-size=\"14.00\" text-anchor=\"middle\" x=\"71\" y=\"-1004.3\">Embedding</text>\n<polyline fill=\"none\" points=\"142,-996.5 142,-1042.5 \" stroke=\"#000000\"/>\n<text fill=\"#000000\" font-family=\"Times,serif\" font-size=\"14.00\" text-anchor=\"middle\" x=\"171\" y=\"-1027.3\">input:</text>\n<polyline fill=\"none\" points=\"142,-1019.5 200,-1019.5 \" stroke=\"#000000\"/>\n<text fill=\"#000000\" font-family=\"Times,serif\" font-size=\"14.00\" text-anchor=\"middle\" x=\"171\" y=\"-1004.3\">output:</text>\n<polyline fill=\"none\" points=\"200,-996.5 200,-1042.5 \" stroke=\"#000000\"/>\n<text fill=\"#000000\" font-family=\"Times,serif\" font-size=\"14.00\" text-anchor=\"middle\" x=\"236\" y=\"-1015.8\">(None, 1)</text>\n<polyline fill=\"none\" points=\"272,-996.5 272,-1042.5 \" stroke=\"#000000\"/>\n<text fill=\"#000000\" font-family=\"Times,serif\" font-size=\"14.00\" text-anchor=\"middle\" x=\"319.5\" y=\"-1015.8\">(None, 1, 10)</text>\n</g>\n<!-- 140016331512656&#45;&gt;140017495414800 -->\n<g class=\"edge\" id=\"edge12\">\n<title>140016331512656-&gt;140017495414800</title>\n<path d=\"M324.4406,-1079.4901C300.4538,-1069.2803 272.0577,-1057.1938 247.0617,-1046.5545\" fill=\"none\" stroke=\"#000000\"/>\n<polygon fill=\"#000000\" points=\"248.2365,-1043.2507 237.6646,-1042.5547 245.495,-1049.6915 248.2365,-1043.2507\" stroke=\"#000000\"/>\n</g>\n<!-- 140017496395344 -->\n<g class=\"node\" id=\"node2\">\n<title>140017496395344</title>\n<polygon fill=\"none\" points=\"991.5,-1079.5 991.5,-1125.5 1291.5,-1125.5 1291.5,-1079.5 991.5,-1079.5\" stroke=\"#000000\"/>\n<text fill=\"#000000\" font-family=\"Times,serif\" font-size=\"14.00\" text-anchor=\"middle\" x=\"1031.5\" y=\"-1110.3\">user-input</text>\n<polyline fill=\"none\" points=\"991.5,-1102.5 1071.5,-1102.5 \" stroke=\"#000000\"/>\n<text fill=\"#000000\" font-family=\"Times,serif\" font-size=\"14.00\" text-anchor=\"middle\" x=\"1031.5\" y=\"-1087.3\">InputLayer</text>\n<polyline fill=\"none\" points=\"1071.5,-1079.5 1071.5,-1125.5 \" stroke=\"#000000\"/>\n<text fill=\"#000000\" font-family=\"Times,serif\" font-size=\"14.00\" text-anchor=\"middle\" x=\"1100.5\" y=\"-1110.3\">input:</text>\n<polyline fill=\"none\" points=\"1071.5,-1102.5 1129.5,-1102.5 \" stroke=\"#000000\"/>\n<text fill=\"#000000\" font-family=\"Times,serif\" font-size=\"14.00\" text-anchor=\"middle\" x=\"1100.5\" y=\"-1087.3\">output:</text>\n<polyline fill=\"none\" points=\"1129.5,-1079.5 1129.5,-1125.5 \" stroke=\"#000000\"/>\n<text fill=\"#000000\" font-family=\"Times,serif\" font-size=\"14.00\" text-anchor=\"middle\" x=\"1170\" y=\"-1098.8\">[(None, 1)]</text>\n<polyline fill=\"none\" points=\"1210.5,-1079.5 1210.5,-1125.5 \" stroke=\"#000000\"/>\n<text fill=\"#000000\" font-family=\"Times,serif\" font-size=\"14.00\" text-anchor=\"middle\" x=\"1251\" y=\"-1098.8\">[(None, 1)]</text>\n</g>\n<!-- 140017495838416 -->\n<g class=\"node\" id=\"node4\">\n<title>140017495838416</title>\n<polygon fill=\"none\" points=\"1149,-996.5 1149,-1042.5 1510,-1042.5 1510,-996.5 1149,-996.5\" stroke=\"#000000\"/>\n<text fill=\"#000000\" font-family=\"Times,serif\" font-size=\"14.00\" text-anchor=\"middle\" x=\"1217\" y=\"-1027.3\">user-embedding-mlp</text>\n<polyline fill=\"none\" points=\"1149,-1019.5 1285,-1019.5 \" stroke=\"#000000\"/>\n<text fill=\"#000000\" font-family=\"Times,serif\" font-size=\"14.00\" text-anchor=\"middle\" x=\"1217\" y=\"-1004.3\">Embedding</text>\n<polyline fill=\"none\" points=\"1285,-996.5 1285,-1042.5 \" stroke=\"#000000\"/>\n<text fill=\"#000000\" font-family=\"Times,serif\" font-size=\"14.00\" text-anchor=\"middle\" x=\"1314\" y=\"-1027.3\">input:</text>\n<polyline fill=\"none\" points=\"1285,-1019.5 1343,-1019.5 \" stroke=\"#000000\"/>\n<text fill=\"#000000\" font-family=\"Times,serif\" font-size=\"14.00\" text-anchor=\"middle\" x=\"1314\" y=\"-1004.3\">output:</text>\n<polyline fill=\"none\" points=\"1343,-996.5 1343,-1042.5 \" stroke=\"#000000\"/>\n<text fill=\"#000000\" font-family=\"Times,serif\" font-size=\"14.00\" text-anchor=\"middle\" x=\"1379\" y=\"-1015.8\">(None, 1)</text>\n<polyline fill=\"none\" points=\"1415,-996.5 1415,-1042.5 \" stroke=\"#000000\"/>\n<text fill=\"#000000\" font-family=\"Times,serif\" font-size=\"14.00\" text-anchor=\"middle\" x=\"1462.5\" y=\"-1015.8\">(None, 1, 10)</text>\n</g>\n<!-- 140017496395344&#45;&gt;140017495838416 -->\n<g class=\"edge\" id=\"edge2\">\n<title>140017496395344-&gt;140017495838416</title>\n<path d=\"M1193.8685,-1079.3799C1216.7923,-1069.2592 1243.8558,-1057.311 1267.754,-1046.7602\" fill=\"none\" stroke=\"#000000\"/>\n<polygon fill=\"#000000\" points=\"1269.3521,-1049.8806 1277.0866,-1042.6399 1266.5249,-1043.477 1269.3521,-1049.8806\" stroke=\"#000000\"/>\n</g>\n<!-- 140017495479440 -->\n<g class=\"node\" id=\"node14\">\n<title>140017495479440</title>\n<polygon fill=\"none\" points=\"777.5,-996.5 777.5,-1042.5 1131.5,-1042.5 1131.5,-996.5 777.5,-996.5\" stroke=\"#000000\"/>\n<text fill=\"#000000\" font-family=\"Times,serif\" font-size=\"14.00\" text-anchor=\"middle\" x=\"842\" y=\"-1027.3\">user-embedding-mf</text>\n<polyline fill=\"none\" points=\"777.5,-1019.5 906.5,-1019.5 \" stroke=\"#000000\"/>\n<text fill=\"#000000\" font-family=\"Times,serif\" font-size=\"14.00\" text-anchor=\"middle\" x=\"842\" y=\"-1004.3\">Embedding</text>\n<polyline fill=\"none\" points=\"906.5,-996.5 906.5,-1042.5 \" stroke=\"#000000\"/>\n<text fill=\"#000000\" font-family=\"Times,serif\" font-size=\"14.00\" text-anchor=\"middle\" x=\"935.5\" y=\"-1027.3\">input:</text>\n<polyline fill=\"none\" points=\"906.5,-1019.5 964.5,-1019.5 \" stroke=\"#000000\"/>\n<text fill=\"#000000\" font-family=\"Times,serif\" font-size=\"14.00\" text-anchor=\"middle\" x=\"935.5\" y=\"-1004.3\">output:</text>\n<polyline fill=\"none\" points=\"964.5,-996.5 964.5,-1042.5 \" stroke=\"#000000\"/>\n<text fill=\"#000000\" font-family=\"Times,serif\" font-size=\"14.00\" text-anchor=\"middle\" x=\"1000.5\" y=\"-1015.8\">(None, 1)</text>\n<polyline fill=\"none\" points=\"1036.5,-996.5 1036.5,-1042.5 \" stroke=\"#000000\"/>\n<text fill=\"#000000\" font-family=\"Times,serif\" font-size=\"14.00\" text-anchor=\"middle\" x=\"1084\" y=\"-1015.8\">(None, 1, 10)</text>\n</g>\n<!-- 140017496395344&#45;&gt;140017495479440 -->\n<g class=\"edge\" id=\"edge13\">\n<title>140017496395344-&gt;140017495479440</title>\n<path d=\"M1089.4101,-1079.3799C1066.6082,-1069.2592 1039.6887,-1057.311 1015.9175,-1046.7602\" fill=\"none\" stroke=\"#000000\"/>\n<polygon fill=\"#000000\" points=\"1017.1946,-1043.4978 1006.6346,-1042.6399 1014.3548,-1049.8959 1017.1946,-1043.4978\" stroke=\"#000000\"/>\n</g>\n<!-- 140017496148176 -->\n<g class=\"node\" id=\"node5\">\n<title>140017496148176</title>\n<polygon fill=\"none\" points=\"401.5,-913.5 401.5,-959.5 753.5,-959.5 753.5,-913.5 401.5,-913.5\" stroke=\"#000000\"/>\n<text fill=\"#000000\" font-family=\"Times,serif\" font-size=\"14.00\" text-anchor=\"middle\" x=\"461\" y=\"-944.3\">flatten-movie-mlp</text>\n<polyline fill=\"none\" points=\"401.5,-936.5 520.5,-936.5 \" stroke=\"#000000\"/>\n<text fill=\"#000000\" font-family=\"Times,serif\" font-size=\"14.00\" text-anchor=\"middle\" x=\"461\" y=\"-921.3\">Flatten</text>\n<polyline fill=\"none\" points=\"520.5,-913.5 520.5,-959.5 \" stroke=\"#000000\"/>\n<text fill=\"#000000\" font-family=\"Times,serif\" font-size=\"14.00\" text-anchor=\"middle\" x=\"549.5\" y=\"-944.3\">input:</text>\n<polyline fill=\"none\" points=\"520.5,-936.5 578.5,-936.5 \" stroke=\"#000000\"/>\n<text fill=\"#000000\" font-family=\"Times,serif\" font-size=\"14.00\" text-anchor=\"middle\" x=\"549.5\" y=\"-921.3\">output:</text>\n<polyline fill=\"none\" points=\"578.5,-913.5 578.5,-959.5 \" stroke=\"#000000\"/>\n<text fill=\"#000000\" font-family=\"Times,serif\" font-size=\"14.00\" text-anchor=\"middle\" x=\"626\" y=\"-932.8\">(None, 1, 10)</text>\n<polyline fill=\"none\" points=\"673.5,-913.5 673.5,-959.5 \" stroke=\"#000000\"/>\n<text fill=\"#000000\" font-family=\"Times,serif\" font-size=\"14.00\" text-anchor=\"middle\" x=\"713.5\" y=\"-932.8\">(None, 10)</text>\n</g>\n<!-- 140017489880592&#45;&gt;140017496148176 -->\n<g class=\"edge\" id=\"edge3\">\n<title>140017489880592-&gt;140017496148176</title>\n<path d=\"M573.8928,-996.3799C574.3871,-988.1745 574.9537,-978.7679 575.4892,-969.8786\" fill=\"none\" stroke=\"#000000\"/>\n<polygon fill=\"#000000\" points=\"578.9896,-969.9764 576.0973,-959.784 572.0023,-969.5554 578.9896,-969.9764\" stroke=\"#000000\"/>\n</g>\n<!-- 140017495401808 -->\n<g class=\"node\" id=\"node6\">\n<title>140017495401808</title>\n<polygon fill=\"none\" points=\"1148.5,-913.5 1148.5,-959.5 1488.5,-959.5 1488.5,-913.5 1148.5,-913.5\" stroke=\"#000000\"/>\n<text fill=\"#000000\" font-family=\"Times,serif\" font-size=\"14.00\" text-anchor=\"middle\" x=\"1202\" y=\"-944.3\">flatten-user-mlp</text>\n<polyline fill=\"none\" points=\"1148.5,-936.5 1255.5,-936.5 \" stroke=\"#000000\"/>\n<text fill=\"#000000\" font-family=\"Times,serif\" font-size=\"14.00\" text-anchor=\"middle\" x=\"1202\" y=\"-921.3\">Flatten</text>\n<polyline fill=\"none\" points=\"1255.5,-913.5 1255.5,-959.5 \" stroke=\"#000000\"/>\n<text fill=\"#000000\" font-family=\"Times,serif\" font-size=\"14.00\" text-anchor=\"middle\" x=\"1284.5\" y=\"-944.3\">input:</text>\n<polyline fill=\"none\" points=\"1255.5,-936.5 1313.5,-936.5 \" stroke=\"#000000\"/>\n<text fill=\"#000000\" font-family=\"Times,serif\" font-size=\"14.00\" text-anchor=\"middle\" x=\"1284.5\" y=\"-921.3\">output:</text>\n<polyline fill=\"none\" points=\"1313.5,-913.5 1313.5,-959.5 \" stroke=\"#000000\"/>\n<text fill=\"#000000\" font-family=\"Times,serif\" font-size=\"14.00\" text-anchor=\"middle\" x=\"1361\" y=\"-932.8\">(None, 1, 10)</text>\n<polyline fill=\"none\" points=\"1408.5,-913.5 1408.5,-959.5 \" stroke=\"#000000\"/>\n<text fill=\"#000000\" font-family=\"Times,serif\" font-size=\"14.00\" text-anchor=\"middle\" x=\"1448.5\" y=\"-932.8\">(None, 10)</text>\n</g>\n<!-- 140017495838416&#45;&gt;140017495401808 -->\n<g class=\"edge\" id=\"edge4\">\n<title>140017495838416-&gt;140017495401808</title>\n<path d=\"M1326.4359,-996.3799C1325.3484,-988.1745 1324.1018,-978.7679 1322.9237,-969.8786\" fill=\"none\" stroke=\"#000000\"/>\n<polygon fill=\"#000000\" points=\"1326.3694,-969.2375 1321.5858,-959.784 1319.4301,-970.1572 1326.3694,-969.2375\" stroke=\"#000000\"/>\n</g>\n<!-- 140017495414928 -->\n<g class=\"node\" id=\"node7\">\n<title>140017495414928</title>\n<polygon fill=\"none\" points=\"736,-830.5 736,-876.5 1119,-876.5 1119,-830.5 736,-830.5\" stroke=\"#000000\"/>\n<text fill=\"#000000\" font-family=\"Times,serif\" font-size=\"14.00\" text-anchor=\"middle\" x=\"779\" y=\"-861.3\">concat</text>\n<polyline fill=\"none\" points=\"736,-853.5 822,-853.5 \" stroke=\"#000000\"/>\n<text fill=\"#000000\" font-family=\"Times,serif\" font-size=\"14.00\" text-anchor=\"middle\" x=\"779\" y=\"-838.3\">Concatenate</text>\n<polyline fill=\"none\" points=\"822,-830.5 822,-876.5 \" stroke=\"#000000\"/>\n<text fill=\"#000000\" font-family=\"Times,serif\" font-size=\"14.00\" text-anchor=\"middle\" x=\"851\" y=\"-861.3\">input:</text>\n<polyline fill=\"none\" points=\"822,-853.5 880,-853.5 \" stroke=\"#000000\"/>\n<text fill=\"#000000\" font-family=\"Times,serif\" font-size=\"14.00\" text-anchor=\"middle\" x=\"851\" y=\"-838.3\">output:</text>\n<polyline fill=\"none\" points=\"880,-830.5 880,-876.5 \" stroke=\"#000000\"/>\n<text fill=\"#000000\" font-family=\"Times,serif\" font-size=\"14.00\" text-anchor=\"middle\" x=\"959.5\" y=\"-849.8\">[(None, 10), (None, 10)]</text>\n<polyline fill=\"none\" points=\"1039,-830.5 1039,-876.5 \" stroke=\"#000000\"/>\n<text fill=\"#000000\" font-family=\"Times,serif\" font-size=\"14.00\" text-anchor=\"middle\" x=\"1079\" y=\"-849.8\">(None, 20)</text>\n</g>\n<!-- 140017496148176&#45;&gt;140017495414928 -->\n<g class=\"edge\" id=\"edge5\">\n<title>140017496148176-&gt;140017495414928</title>\n<path d=\"M674.5297,-913.4901C719.8589,-902.7406 773.9611,-889.9107 820.4767,-878.8798\" fill=\"none\" stroke=\"#000000\"/>\n<polygon fill=\"#000000\" points=\"821.359,-882.2677 830.2815,-876.5547 819.7438,-875.4566 821.359,-882.2677\" stroke=\"#000000\"/>\n</g>\n<!-- 140017495401808&#45;&gt;140017495414928 -->\n<g class=\"edge\" id=\"edge6\">\n<title>140017495401808-&gt;140017495414928</title>\n<path d=\"M1210.1039,-913.4901C1159.1469,-902.6731 1098.2658,-889.7495 1046.083,-878.6723\" fill=\"none\" stroke=\"#000000\"/>\n<polygon fill=\"#000000\" points=\"1046.6158,-875.2075 1036.1069,-876.5547 1045.1622,-882.0549 1046.6158,-875.2075\" stroke=\"#000000\"/>\n</g>\n<!-- 140017495501904 -->\n<g class=\"node\" id=\"node8\">\n<title>140017495501904</title>\n<polygon fill=\"none\" points=\"775,-747.5 775,-793.5 1058,-793.5 1058,-747.5 775,-747.5\" stroke=\"#000000\"/>\n<text fill=\"#000000\" font-family=\"Times,serif\" font-size=\"14.00\" text-anchor=\"middle\" x=\"807.5\" y=\"-778.3\">dropout</text>\n<polyline fill=\"none\" points=\"775,-770.5 840,-770.5 \" stroke=\"#000000\"/>\n<text fill=\"#000000\" font-family=\"Times,serif\" font-size=\"14.00\" text-anchor=\"middle\" x=\"807.5\" y=\"-755.3\">Dropout</text>\n<polyline fill=\"none\" points=\"840,-747.5 840,-793.5 \" stroke=\"#000000\"/>\n<text fill=\"#000000\" font-family=\"Times,serif\" font-size=\"14.00\" text-anchor=\"middle\" x=\"869\" y=\"-778.3\">input:</text>\n<polyline fill=\"none\" points=\"840,-770.5 898,-770.5 \" stroke=\"#000000\"/>\n<text fill=\"#000000\" font-family=\"Times,serif\" font-size=\"14.00\" text-anchor=\"middle\" x=\"869\" y=\"-755.3\">output:</text>\n<polyline fill=\"none\" points=\"898,-747.5 898,-793.5 \" stroke=\"#000000\"/>\n<text fill=\"#000000\" font-family=\"Times,serif\" font-size=\"14.00\" text-anchor=\"middle\" x=\"938\" y=\"-766.8\">(None, 20)</text>\n<polyline fill=\"none\" points=\"978,-747.5 978,-793.5 \" stroke=\"#000000\"/>\n<text fill=\"#000000\" font-family=\"Times,serif\" font-size=\"14.00\" text-anchor=\"middle\" x=\"1018\" y=\"-766.8\">(None, 20)</text>\n</g>\n<!-- 140017495414928&#45;&gt;140017495501904 -->\n<g class=\"edge\" id=\"edge7\">\n<title>140017495414928-&gt;140017495501904</title>\n<path d=\"M924.4359,-830.3799C923.3484,-822.1745 922.1018,-812.7679 920.9237,-803.8786\" fill=\"none\" stroke=\"#000000\"/>\n<polygon fill=\"#000000\" points=\"924.3694,-803.2375 919.5858,-793.784 917.4301,-804.1572 924.3694,-803.2375\" stroke=\"#000000\"/>\n</g>\n<!-- 140017489882384 -->\n<g class=\"node\" id=\"node9\">\n<title>140017489882384</title>\n<polygon fill=\"none\" points=\"758,-664.5 758,-710.5 1035,-710.5 1035,-664.5 758,-664.5\" stroke=\"#000000\"/>\n<text fill=\"#000000\" font-family=\"Times,serif\" font-size=\"14.00\" text-anchor=\"middle\" x=\"784\" y=\"-695.3\">fc-1</text>\n<polyline fill=\"none\" points=\"758,-687.5 810,-687.5 \" stroke=\"#000000\"/>\n<text fill=\"#000000\" font-family=\"Times,serif\" font-size=\"14.00\" text-anchor=\"middle\" x=\"784\" y=\"-672.3\">Dense</text>\n<polyline fill=\"none\" points=\"810,-664.5 810,-710.5 \" stroke=\"#000000\"/>\n<text fill=\"#000000\" font-family=\"Times,serif\" font-size=\"14.00\" text-anchor=\"middle\" x=\"839\" y=\"-695.3\">input:</text>\n<polyline fill=\"none\" points=\"810,-687.5 868,-687.5 \" stroke=\"#000000\"/>\n<text fill=\"#000000\" font-family=\"Times,serif\" font-size=\"14.00\" text-anchor=\"middle\" x=\"839\" y=\"-672.3\">output:</text>\n<polyline fill=\"none\" points=\"868,-664.5 868,-710.5 \" stroke=\"#000000\"/>\n<text fill=\"#000000\" font-family=\"Times,serif\" font-size=\"14.00\" text-anchor=\"middle\" x=\"908\" y=\"-683.8\">(None, 20)</text>\n<polyline fill=\"none\" points=\"948,-664.5 948,-710.5 \" stroke=\"#000000\"/>\n<text fill=\"#000000\" font-family=\"Times,serif\" font-size=\"14.00\" text-anchor=\"middle\" x=\"991.5\" y=\"-683.8\">(None, 100)</text>\n</g>\n<!-- 140017495501904&#45;&gt;140017489882384 -->\n<g class=\"edge\" id=\"edge8\">\n<title>140017495501904-&gt;140017489882384</title>\n<path d=\"M910.9289,-747.3799C908.9302,-739.0854 906.6357,-729.5633 904.4732,-720.5889\" fill=\"none\" stroke=\"#000000\"/>\n<polygon fill=\"#000000\" points=\"907.8559,-719.6858 902.1106,-710.784 901.0507,-721.3257 907.8559,-719.6858\" stroke=\"#000000\"/>\n</g>\n<!-- 140017495515344 -->\n<g class=\"node\" id=\"node10\">\n<title>140017495515344</title>\n<polygon fill=\"none\" points=\"705,-581.5 705,-627.5 1068,-627.5 1068,-581.5 705,-581.5\" stroke=\"#000000\"/>\n<text fill=\"#000000\" font-family=\"Times,serif\" font-size=\"14.00\" text-anchor=\"middle\" x=\"770.5\" y=\"-612.3\">batch-norm-1</text>\n<polyline fill=\"none\" points=\"705,-604.5 836,-604.5 \" stroke=\"#000000\"/>\n<text fill=\"#000000\" font-family=\"Times,serif\" font-size=\"14.00\" text-anchor=\"middle\" x=\"770.5\" y=\"-589.3\">BatchNormalization</text>\n<polyline fill=\"none\" points=\"836,-581.5 836,-627.5 \" stroke=\"#000000\"/>\n<text fill=\"#000000\" font-family=\"Times,serif\" font-size=\"14.00\" text-anchor=\"middle\" x=\"865\" y=\"-612.3\">input:</text>\n<polyline fill=\"none\" points=\"836,-604.5 894,-604.5 \" stroke=\"#000000\"/>\n<text fill=\"#000000\" font-family=\"Times,serif\" font-size=\"14.00\" text-anchor=\"middle\" x=\"865\" y=\"-589.3\">output:</text>\n<polyline fill=\"none\" points=\"894,-581.5 894,-627.5 \" stroke=\"#000000\"/>\n<text fill=\"#000000\" font-family=\"Times,serif\" font-size=\"14.00\" text-anchor=\"middle\" x=\"937.5\" y=\"-600.8\">(None, 100)</text>\n<polyline fill=\"none\" points=\"981,-581.5 981,-627.5 \" stroke=\"#000000\"/>\n<text fill=\"#000000\" font-family=\"Times,serif\" font-size=\"14.00\" text-anchor=\"middle\" x=\"1024.5\" y=\"-600.8\">(None, 100)</text>\n</g>\n<!-- 140017489882384&#45;&gt;140017495515344 -->\n<g class=\"edge\" id=\"edge9\">\n<title>140017489882384-&gt;140017495515344</title>\n<path d=\"M893.7144,-664.3799C892.7258,-656.1745 891.5925,-646.7679 890.5215,-637.8786\" fill=\"none\" stroke=\"#000000\"/>\n<polygon fill=\"#000000\" points=\"893.9764,-637.2935 889.3053,-627.784 887.0267,-638.1309 893.9764,-637.2935\" stroke=\"#000000\"/>\n</g>\n<!-- 140017495415760 -->\n<g class=\"node\" id=\"node11\">\n<title>140017495415760</title>\n<polygon fill=\"none\" points=\"710,-498.5 710,-544.5 1019,-544.5 1019,-498.5 710,-498.5\" stroke=\"#000000\"/>\n<text fill=\"#000000\" font-family=\"Times,serif\" font-size=\"14.00\" text-anchor=\"middle\" x=\"748.5\" y=\"-529.3\">dropout_1</text>\n<polyline fill=\"none\" points=\"710,-521.5 787,-521.5 \" stroke=\"#000000\"/>\n<text fill=\"#000000\" font-family=\"Times,serif\" font-size=\"14.00\" text-anchor=\"middle\" x=\"748.5\" y=\"-506.3\">Dropout</text>\n<polyline fill=\"none\" points=\"787,-498.5 787,-544.5 \" stroke=\"#000000\"/>\n<text fill=\"#000000\" font-family=\"Times,serif\" font-size=\"14.00\" text-anchor=\"middle\" x=\"816\" y=\"-529.3\">input:</text>\n<polyline fill=\"none\" points=\"787,-521.5 845,-521.5 \" stroke=\"#000000\"/>\n<text fill=\"#000000\" font-family=\"Times,serif\" font-size=\"14.00\" text-anchor=\"middle\" x=\"816\" y=\"-506.3\">output:</text>\n<polyline fill=\"none\" points=\"845,-498.5 845,-544.5 \" stroke=\"#000000\"/>\n<text fill=\"#000000\" font-family=\"Times,serif\" font-size=\"14.00\" text-anchor=\"middle\" x=\"888.5\" y=\"-517.8\">(None, 100)</text>\n<polyline fill=\"none\" points=\"932,-498.5 932,-544.5 \" stroke=\"#000000\"/>\n<text fill=\"#000000\" font-family=\"Times,serif\" font-size=\"14.00\" text-anchor=\"middle\" x=\"975.5\" y=\"-517.8\">(None, 100)</text>\n</g>\n<!-- 140017495515344&#45;&gt;140017495415760 -->\n<g class=\"edge\" id=\"edge10\">\n<title>140017495515344-&gt;140017495415760</title>\n<path d=\"M880.3718,-581.3799C878.1732,-573.0854 875.6493,-563.5633 873.2706,-554.5889\" fill=\"none\" stroke=\"#000000\"/>\n<polygon fill=\"#000000\" points=\"876.617,-553.5534 870.6717,-544.784 869.8507,-555.347 876.617,-553.5534\" stroke=\"#000000\"/>\n</g>\n<!-- 140017495324880 -->\n<g class=\"node\" id=\"node12\">\n<title>140017495324880</title>\n<polygon fill=\"none\" points=\"725,-415.5 725,-461.5 1002,-461.5 1002,-415.5 725,-415.5\" stroke=\"#000000\"/>\n<text fill=\"#000000\" font-family=\"Times,serif\" font-size=\"14.00\" text-anchor=\"middle\" x=\"751\" y=\"-446.3\">fc-2</text>\n<polyline fill=\"none\" points=\"725,-438.5 777,-438.5 \" stroke=\"#000000\"/>\n<text fill=\"#000000\" font-family=\"Times,serif\" font-size=\"14.00\" text-anchor=\"middle\" x=\"751\" y=\"-423.3\">Dense</text>\n<polyline fill=\"none\" points=\"777,-415.5 777,-461.5 \" stroke=\"#000000\"/>\n<text fill=\"#000000\" font-family=\"Times,serif\" font-size=\"14.00\" text-anchor=\"middle\" x=\"806\" y=\"-446.3\">input:</text>\n<polyline fill=\"none\" points=\"777,-438.5 835,-438.5 \" stroke=\"#000000\"/>\n<text fill=\"#000000\" font-family=\"Times,serif\" font-size=\"14.00\" text-anchor=\"middle\" x=\"806\" y=\"-423.3\">output:</text>\n<polyline fill=\"none\" points=\"835,-415.5 835,-461.5 \" stroke=\"#000000\"/>\n<text fill=\"#000000\" font-family=\"Times,serif\" font-size=\"14.00\" text-anchor=\"middle\" x=\"878.5\" y=\"-434.8\">(None, 100)</text>\n<polyline fill=\"none\" points=\"922,-415.5 922,-461.5 \" stroke=\"#000000\"/>\n<text fill=\"#000000\" font-family=\"Times,serif\" font-size=\"14.00\" text-anchor=\"middle\" x=\"962\" y=\"-434.8\">(None, 50)</text>\n</g>\n<!-- 140017495415760&#45;&gt;140017495324880 -->\n<g class=\"edge\" id=\"edge11\">\n<title>140017495415760-&gt;140017495324880</title>\n<path d=\"M864.2214,-498.3799C864.1226,-490.1745 864.0093,-480.7679 863.9022,-471.8786\" fill=\"none\" stroke=\"#000000\"/>\n<polygon fill=\"#000000\" points=\"867.4008,-471.7411 863.7805,-461.784 860.4014,-471.8255 867.4008,-471.7411\" stroke=\"#000000\"/>\n</g>\n<!-- 140017495323536 -->\n<g class=\"node\" id=\"node15\">\n<title>140017495323536</title>\n<polygon fill=\"none\" points=\"668,-332.5 668,-378.5 1017,-378.5 1017,-332.5 668,-332.5\" stroke=\"#000000\"/>\n<text fill=\"#000000\" font-family=\"Times,serif\" font-size=\"14.00\" text-anchor=\"middle\" x=\"733.5\" y=\"-363.3\">batch-norm-2</text>\n<polyline fill=\"none\" points=\"668,-355.5 799,-355.5 \" stroke=\"#000000\"/>\n<text fill=\"#000000\" font-family=\"Times,serif\" font-size=\"14.00\" text-anchor=\"middle\" x=\"733.5\" y=\"-340.3\">BatchNormalization</text>\n<polyline fill=\"none\" points=\"799,-332.5 799,-378.5 \" stroke=\"#000000\"/>\n<text fill=\"#000000\" font-family=\"Times,serif\" font-size=\"14.00\" text-anchor=\"middle\" x=\"828\" y=\"-363.3\">input:</text>\n<polyline fill=\"none\" points=\"799,-355.5 857,-355.5 \" stroke=\"#000000\"/>\n<text fill=\"#000000\" font-family=\"Times,serif\" font-size=\"14.00\" text-anchor=\"middle\" x=\"828\" y=\"-340.3\">output:</text>\n<polyline fill=\"none\" points=\"857,-332.5 857,-378.5 \" stroke=\"#000000\"/>\n<text fill=\"#000000\" font-family=\"Times,serif\" font-size=\"14.00\" text-anchor=\"middle\" x=\"897\" y=\"-351.8\">(None, 50)</text>\n<polyline fill=\"none\" points=\"937,-332.5 937,-378.5 \" stroke=\"#000000\"/>\n<text fill=\"#000000\" font-family=\"Times,serif\" font-size=\"14.00\" text-anchor=\"middle\" x=\"977\" y=\"-351.8\">(None, 50)</text>\n</g>\n<!-- 140017495324880&#45;&gt;140017495323536 -->\n<g class=\"edge\" id=\"edge14\">\n<title>140017495324880-&gt;140017495323536</title>\n<path d=\"M857.6503,-415.3799C855.5517,-407.0854 853.1425,-397.5633 850.8719,-388.5889\" fill=\"none\" stroke=\"#000000\"/>\n<polygon fill=\"#000000\" points=\"854.2371,-387.62 848.3911,-378.784 847.451,-389.337 854.2371,-387.62\" stroke=\"#000000\"/>\n</g>\n<!-- 140017495462352 -->\n<g class=\"node\" id=\"node16\">\n<title>140017495462352</title>\n<polygon fill=\"none\" points=\"26.5,-913.5 26.5,-959.5 372.5,-959.5 372.5,-913.5 26.5,-913.5\" stroke=\"#000000\"/>\n<text fill=\"#000000\" font-family=\"Times,serif\" font-size=\"14.00\" text-anchor=\"middle\" x=\"83\" y=\"-944.3\">flatten-movie-mf</text>\n<polyline fill=\"none\" points=\"26.5,-936.5 139.5,-936.5 \" stroke=\"#000000\"/>\n<text fill=\"#000000\" font-family=\"Times,serif\" font-size=\"14.00\" text-anchor=\"middle\" x=\"83\" y=\"-921.3\">Flatten</text>\n<polyline fill=\"none\" points=\"139.5,-913.5 139.5,-959.5 \" stroke=\"#000000\"/>\n<text fill=\"#000000\" font-family=\"Times,serif\" font-size=\"14.00\" text-anchor=\"middle\" x=\"168.5\" y=\"-944.3\">input:</text>\n<polyline fill=\"none\" points=\"139.5,-936.5 197.5,-936.5 \" stroke=\"#000000\"/>\n<text fill=\"#000000\" font-family=\"Times,serif\" font-size=\"14.00\" text-anchor=\"middle\" x=\"168.5\" y=\"-921.3\">output:</text>\n<polyline fill=\"none\" points=\"197.5,-913.5 197.5,-959.5 \" stroke=\"#000000\"/>\n<text fill=\"#000000\" font-family=\"Times,serif\" font-size=\"14.00\" text-anchor=\"middle\" x=\"245\" y=\"-932.8\">(None, 1, 10)</text>\n<polyline fill=\"none\" points=\"292.5,-913.5 292.5,-959.5 \" stroke=\"#000000\"/>\n<text fill=\"#000000\" font-family=\"Times,serif\" font-size=\"14.00\" text-anchor=\"middle\" x=\"332.5\" y=\"-932.8\">(None, 10)</text>\n</g>\n<!-- 140017495414800&#45;&gt;140017495462352 -->\n<g class=\"edge\" id=\"edge15\">\n<title>140017495414800-&gt;140017495462352</title>\n<path d=\"M187.9569,-996.3799C189.5386,-988.1745 191.352,-978.7679 193.0656,-969.8786\" fill=\"none\" stroke=\"#000000\"/>\n<polygon fill=\"#000000\" points=\"196.5553,-970.2658 195.0115,-959.784 189.6818,-968.9407 196.5553,-970.2658\" stroke=\"#000000\"/>\n</g>\n<!-- 140017495464016 -->\n<g class=\"node\" id=\"node17\">\n<title>140017495464016</title>\n<polygon fill=\"none\" points=\"782,-913.5 782,-959.5 1115,-959.5 1115,-913.5 782,-913.5\" stroke=\"#000000\"/>\n<text fill=\"#000000\" font-family=\"Times,serif\" font-size=\"14.00\" text-anchor=\"middle\" x=\"832\" y=\"-944.3\">flatten-user-mf</text>\n<polyline fill=\"none\" points=\"782,-936.5 882,-936.5 \" stroke=\"#000000\"/>\n<text fill=\"#000000\" font-family=\"Times,serif\" font-size=\"14.00\" text-anchor=\"middle\" x=\"832\" y=\"-921.3\">Flatten</text>\n<polyline fill=\"none\" points=\"882,-913.5 882,-959.5 \" stroke=\"#000000\"/>\n<text fill=\"#000000\" font-family=\"Times,serif\" font-size=\"14.00\" text-anchor=\"middle\" x=\"911\" y=\"-944.3\">input:</text>\n<polyline fill=\"none\" points=\"882,-936.5 940,-936.5 \" stroke=\"#000000\"/>\n<text fill=\"#000000\" font-family=\"Times,serif\" font-size=\"14.00\" text-anchor=\"middle\" x=\"911\" y=\"-921.3\">output:</text>\n<polyline fill=\"none\" points=\"940,-913.5 940,-959.5 \" stroke=\"#000000\"/>\n<text fill=\"#000000\" font-family=\"Times,serif\" font-size=\"14.00\" text-anchor=\"middle\" x=\"987.5\" y=\"-932.8\">(None, 1, 10)</text>\n<polyline fill=\"none\" points=\"1035,-913.5 1035,-959.5 \" stroke=\"#000000\"/>\n<text fill=\"#000000\" font-family=\"Times,serif\" font-size=\"14.00\" text-anchor=\"middle\" x=\"1075\" y=\"-932.8\">(None, 10)</text>\n</g>\n<!-- 140017495479440&#45;&gt;140017495464016 -->\n<g class=\"edge\" id=\"edge16\">\n<title>140017495479440-&gt;140017495464016</title>\n<path d=\"M952.8287,-996.3799C952.2355,-988.1745 951.5555,-978.7679 950.9129,-969.8786\" fill=\"none\" stroke=\"#000000\"/>\n<polygon fill=\"#000000\" points=\"954.3952,-969.5056 950.1832,-959.784 947.4134,-970.0104 954.3952,-969.5056\" stroke=\"#000000\"/>\n</g>\n<!-- 140017495481744 -->\n<g class=\"node\" id=\"node18\">\n<title>140017495481744</title>\n<polygon fill=\"none\" points=\"678,-249.5 678,-295.5 973,-295.5 973,-249.5 678,-249.5\" stroke=\"#000000\"/>\n<text fill=\"#000000\" font-family=\"Times,serif\" font-size=\"14.00\" text-anchor=\"middle\" x=\"716.5\" y=\"-280.3\">dropout_2</text>\n<polyline fill=\"none\" points=\"678,-272.5 755,-272.5 \" stroke=\"#000000\"/>\n<text fill=\"#000000\" font-family=\"Times,serif\" font-size=\"14.00\" text-anchor=\"middle\" x=\"716.5\" y=\"-257.3\">Dropout</text>\n<polyline fill=\"none\" points=\"755,-249.5 755,-295.5 \" stroke=\"#000000\"/>\n<text fill=\"#000000\" font-family=\"Times,serif\" font-size=\"14.00\" text-anchor=\"middle\" x=\"784\" y=\"-280.3\">input:</text>\n<polyline fill=\"none\" points=\"755,-272.5 813,-272.5 \" stroke=\"#000000\"/>\n<text fill=\"#000000\" font-family=\"Times,serif\" font-size=\"14.00\" text-anchor=\"middle\" x=\"784\" y=\"-257.3\">output:</text>\n<polyline fill=\"none\" points=\"813,-249.5 813,-295.5 \" stroke=\"#000000\"/>\n<text fill=\"#000000\" font-family=\"Times,serif\" font-size=\"14.00\" text-anchor=\"middle\" x=\"853\" y=\"-268.8\">(None, 50)</text>\n<polyline fill=\"none\" points=\"893,-249.5 893,-295.5 \" stroke=\"#000000\"/>\n<text fill=\"#000000\" font-family=\"Times,serif\" font-size=\"14.00\" text-anchor=\"middle\" x=\"933\" y=\"-268.8\">(None, 50)</text>\n</g>\n<!-- 140017495323536&#45;&gt;140017495481744 -->\n<g class=\"edge\" id=\"edge17\">\n<title>140017495323536-&gt;140017495481744</title>\n<path d=\"M837.7646,-332.3799C836.0657,-324.0854 834.1154,-314.5633 832.2773,-305.5889\" fill=\"none\" stroke=\"#000000\"/>\n<polygon fill=\"#000000\" points=\"835.7044,-304.8783 830.269,-295.784 828.8468,-306.2829 835.7044,-304.8783\" stroke=\"#000000\"/>\n</g>\n<!-- 140017494835088 -->\n<g class=\"node\" id=\"node19\">\n<title>140017494835088</title>\n<polygon fill=\"none\" points=\"391,-830.5 391,-876.5 718,-876.5 718,-830.5 391,-830.5\" stroke=\"#000000\"/>\n<text fill=\"#000000\" font-family=\"Times,serif\" font-size=\"14.00\" text-anchor=\"middle\" x=\"410\" y=\"-861.3\">dot</text>\n<polyline fill=\"none\" points=\"391,-853.5 429,-853.5 \" stroke=\"#000000\"/>\n<text fill=\"#000000\" font-family=\"Times,serif\" font-size=\"14.00\" text-anchor=\"middle\" x=\"410\" y=\"-838.3\">Dot</text>\n<polyline fill=\"none\" points=\"429,-830.5 429,-876.5 \" stroke=\"#000000\"/>\n<text fill=\"#000000\" font-family=\"Times,serif\" font-size=\"14.00\" text-anchor=\"middle\" x=\"458\" y=\"-861.3\">input:</text>\n<polyline fill=\"none\" points=\"429,-853.5 487,-853.5 \" stroke=\"#000000\"/>\n<text fill=\"#000000\" font-family=\"Times,serif\" font-size=\"14.00\" text-anchor=\"middle\" x=\"458\" y=\"-838.3\">output:</text>\n<polyline fill=\"none\" points=\"487,-830.5 487,-876.5 \" stroke=\"#000000\"/>\n<text fill=\"#000000\" font-family=\"Times,serif\" font-size=\"14.00\" text-anchor=\"middle\" x=\"566.5\" y=\"-849.8\">[(None, 10), (None, 10)]</text>\n<polyline fill=\"none\" points=\"646,-830.5 646,-876.5 \" stroke=\"#000000\"/>\n<text fill=\"#000000\" font-family=\"Times,serif\" font-size=\"14.00\" text-anchor=\"middle\" x=\"682\" y=\"-849.8\">(None, 1)</text>\n</g>\n<!-- 140017495462352&#45;&gt;140017494835088 -->\n<g class=\"edge\" id=\"edge18\">\n<title>140017495462352-&gt;140017494835088</title>\n<path d=\"M297.9159,-913.4901C343.8926,-902.7406 398.7677,-889.9107 445.9478,-878.8798\" fill=\"none\" stroke=\"#000000\"/>\n<polygon fill=\"#000000\" points=\"446.9521,-882.2395 455.8927,-876.5547 445.3584,-875.4233 446.9521,-882.2395\" stroke=\"#000000\"/>\n</g>\n<!-- 140017495464016&#45;&gt;140017494835088 -->\n<g class=\"edge\" id=\"edge19\">\n<title>140017495464016-&gt;140017494835088</title>\n<path d=\"M839.2723,-913.4901C787.9243,-902.6731 726.5761,-889.7495 673.9928,-878.6723\" fill=\"none\" stroke=\"#000000\"/>\n<polygon fill=\"#000000\" points=\"674.447,-875.1913 663.9402,-876.5547 673.004,-882.0409 674.447,-875.1913\" stroke=\"#000000\"/>\n</g>\n<!-- 140017495836432 -->\n<g class=\"node\" id=\"node20\">\n<title>140017495836432</title>\n<polygon fill=\"none\" points=\"667,-166.5 667,-212.5 954,-212.5 954,-166.5 667,-166.5\" stroke=\"#000000\"/>\n<text fill=\"#000000\" font-family=\"Times,serif\" font-size=\"14.00\" text-anchor=\"middle\" x=\"701.5\" y=\"-197.3\">pred-mlp</text>\n<polyline fill=\"none\" points=\"667,-189.5 736,-189.5 \" stroke=\"#000000\"/>\n<text fill=\"#000000\" font-family=\"Times,serif\" font-size=\"14.00\" text-anchor=\"middle\" x=\"701.5\" y=\"-174.3\">Dense</text>\n<polyline fill=\"none\" points=\"736,-166.5 736,-212.5 \" stroke=\"#000000\"/>\n<text fill=\"#000000\" font-family=\"Times,serif\" font-size=\"14.00\" text-anchor=\"middle\" x=\"765\" y=\"-197.3\">input:</text>\n<polyline fill=\"none\" points=\"736,-189.5 794,-189.5 \" stroke=\"#000000\"/>\n<text fill=\"#000000\" font-family=\"Times,serif\" font-size=\"14.00\" text-anchor=\"middle\" x=\"765\" y=\"-174.3\">output:</text>\n<polyline fill=\"none\" points=\"794,-166.5 794,-212.5 \" stroke=\"#000000\"/>\n<text fill=\"#000000\" font-family=\"Times,serif\" font-size=\"14.00\" text-anchor=\"middle\" x=\"834\" y=\"-185.8\">(None, 50)</text>\n<polyline fill=\"none\" points=\"874,-166.5 874,-212.5 \" stroke=\"#000000\"/>\n<text fill=\"#000000\" font-family=\"Times,serif\" font-size=\"14.00\" text-anchor=\"middle\" x=\"914\" y=\"-185.8\">(None, 10)</text>\n</g>\n<!-- 140017495481744&#45;&gt;140017495836432 -->\n<g class=\"edge\" id=\"edge20\">\n<title>140017495481744-&gt;140017495836432</title>\n<path d=\"M821.3217,-249.3799C819.8388,-241.1745 818.1388,-231.7679 816.5323,-222.8786\" fill=\"none\" stroke=\"#000000\"/>\n<polygon fill=\"#000000\" points=\"819.9307,-222.0021 814.708,-212.784 813.0422,-223.2471 819.9307,-222.0021\" stroke=\"#000000\"/>\n</g>\n<!-- 140017495834960 -->\n<g class=\"node\" id=\"node21\">\n<title>140017495834960</title>\n<polygon fill=\"none\" points=\"535,-83.5 535,-129.5 910,-129.5 910,-83.5 535,-83.5\" stroke=\"#000000\"/>\n<text fill=\"#000000\" font-family=\"Times,serif\" font-size=\"14.00\" text-anchor=\"middle\" x=\"578\" y=\"-114.3\">pred_mf</text>\n<polyline fill=\"none\" points=\"535,-106.5 621,-106.5 \" stroke=\"#000000\"/>\n<text fill=\"#000000\" font-family=\"Times,serif\" font-size=\"14.00\" text-anchor=\"middle\" x=\"578\" y=\"-91.3\">Concatenate</text>\n<polyline fill=\"none\" points=\"621,-83.5 621,-129.5 \" stroke=\"#000000\"/>\n<text fill=\"#000000\" font-family=\"Times,serif\" font-size=\"14.00\" text-anchor=\"middle\" x=\"650\" y=\"-114.3\">input:</text>\n<polyline fill=\"none\" points=\"621,-106.5 679,-106.5 \" stroke=\"#000000\"/>\n<text fill=\"#000000\" font-family=\"Times,serif\" font-size=\"14.00\" text-anchor=\"middle\" x=\"650\" y=\"-91.3\">output:</text>\n<polyline fill=\"none\" points=\"679,-83.5 679,-129.5 \" stroke=\"#000000\"/>\n<text fill=\"#000000\" font-family=\"Times,serif\" font-size=\"14.00\" text-anchor=\"middle\" x=\"755\" y=\"-102.8\">[(None, 1), (None, 10)]</text>\n<polyline fill=\"none\" points=\"831,-83.5 831,-129.5 \" stroke=\"#000000\"/>\n<text fill=\"#000000\" font-family=\"Times,serif\" font-size=\"14.00\" text-anchor=\"middle\" x=\"870.5\" y=\"-102.8\">(None, 11)</text>\n</g>\n<!-- 140017494835088&#45;&gt;140017495834960 -->\n<g class=\"edge\" id=\"edge21\">\n<title>140017494835088-&gt;140017495834960</title>\n<path d=\"M574.5595,-830.2677C598.8354,-799.693 636.5,-743.2696 636.5,-687.5 636.5,-687.5 636.5,-687.5 636.5,-272.5 636.5,-224.2553 633.859,-208.0554 657.5,-166 663.7112,-154.9509 672.7102,-144.8214 682.042,-136.1737\" fill=\"none\" stroke=\"#000000\"/>\n<polygon fill=\"#000000\" points=\"684.3551,-138.8005 689.5504,-129.5668 679.7309,-133.5453 684.3551,-138.8005\" stroke=\"#000000\"/>\n</g>\n<!-- 140017495836432&#45;&gt;140017495834960 -->\n<g class=\"edge\" id=\"edge22\">\n<title>140017495836432-&gt;140017495834960</title>\n<path d=\"M785.9871,-166.3799C776.2473,-157.1935 764.911,-146.5013 754.5354,-136.7152\" fill=\"none\" stroke=\"#000000\"/>\n<polygon fill=\"#000000\" points=\"756.8629,-134.0993 747.1867,-129.784 752.0599,-139.1916 756.8629,-134.0993\" stroke=\"#000000\"/>\n</g>\n<!-- 140017494851280 -->\n<g class=\"node\" id=\"node22\">\n<title>140017494851280</title>\n<polygon fill=\"none\" points=\"592,-.5 592,-46.5 853,-46.5 853,-.5 592,-.5\" stroke=\"#000000\"/>\n<text fill=\"#000000\" font-family=\"Times,serif\" font-size=\"14.00\" text-anchor=\"middle\" x=\"618\" y=\"-31.3\">result</text>\n<polyline fill=\"none\" points=\"592,-23.5 644,-23.5 \" stroke=\"#000000\"/>\n<text fill=\"#000000\" font-family=\"Times,serif\" font-size=\"14.00\" text-anchor=\"middle\" x=\"618\" y=\"-8.3\">Dense</text>\n<polyline fill=\"none\" points=\"644,-.5 644,-46.5 \" stroke=\"#000000\"/>\n<text fill=\"#000000\" font-family=\"Times,serif\" font-size=\"14.00\" text-anchor=\"middle\" x=\"673\" y=\"-31.3\">input:</text>\n<polyline fill=\"none\" points=\"644,-23.5 702,-23.5 \" stroke=\"#000000\"/>\n<text fill=\"#000000\" font-family=\"Times,serif\" font-size=\"14.00\" text-anchor=\"middle\" x=\"673\" y=\"-8.3\">output:</text>\n<polyline fill=\"none\" points=\"702,-.5 702,-46.5 \" stroke=\"#000000\"/>\n<text fill=\"#000000\" font-family=\"Times,serif\" font-size=\"14.00\" text-anchor=\"middle\" x=\"741.5\" y=\"-19.8\">(None, 11)</text>\n<polyline fill=\"none\" points=\"781,-.5 781,-46.5 \" stroke=\"#000000\"/>\n<text fill=\"#000000\" font-family=\"Times,serif\" font-size=\"14.00\" text-anchor=\"middle\" x=\"817\" y=\"-19.8\">(None, 1)</text>\n</g>\n<!-- 140017495834960&#45;&gt;140017494851280 -->\n<g class=\"edge\" id=\"edge23\">\n<title>140017495834960-&gt;140017494851280</title>\n<path d=\"M722.5,-83.3799C722.5,-75.1745 722.5,-65.7679 722.5,-56.8786\" fill=\"none\" stroke=\"#000000\"/>\n<polygon fill=\"#000000\" points=\"726.0001,-56.784 722.5,-46.784 719.0001,-56.784 726.0001,-56.784\" stroke=\"#000000\"/>\n</g>\n</g>\n</svg>"
          },
          "metadata": {},
          "execution_count": 79
        }
      ],
      "source": [
        "model = NCF_model()\n",
        "\n",
        "# set plotmodel path\n",
        "os.environ[\"PATH\"] += os.pathsep + \"/usr/bin/dot\"\n",
        "\n",
        "# plot NCF model architecture\n",
        "SVG(model_to_dot(model, dpi=50, show_shapes=True).create(prog='dot', format='svg'))"
      ]
    },
    {
      "cell_type": "code",
      "execution_count": null,
      "metadata": {
        "colab": {
          "base_uri": "https://localhost:8080/"
        },
        "id": "whchWi4B1Hqy",
        "outputId": "971dded1-1bff-4e1c-f3d7-0c42b74aa653"
      },
      "outputs": [
        {
          "output_type": "stream",
          "name": "stdout",
          "text": [
            "Model: \"model\"\n",
            "__________________________________________________________________________________________________\n",
            " Layer (type)                   Output Shape         Param #     Connected to                     \n",
            "==================================================================================================\n",
            " movie-input (InputLayer)       [(None, 1)]          0           []                               \n",
            "                                                                                                  \n",
            " user-input (InputLayer)        [(None, 1)]          0           []                               \n",
            "                                                                                                  \n",
            " movie-embedding-mlp (Embedding  (None, 1, 10)       273740      ['movie-input[0][0]']            \n",
            " )                                                                                                \n",
            "                                                                                                  \n",
            " user-embedding-mlp (Embedding)  (None, 1, 10)       283220      ['user-input[0][0]']             \n",
            "                                                                                                  \n",
            " flatten-movie-mlp (Flatten)    (None, 10)           0           ['movie-embedding-mlp[0][0]']    \n",
            "                                                                                                  \n",
            " flatten-user-mlp (Flatten)     (None, 10)           0           ['user-embedding-mlp[0][0]']     \n",
            "                                                                                                  \n",
            " concat (Concatenate)           (None, 20)           0           ['flatten-movie-mlp[0][0]',      \n",
            "                                                                  'flatten-user-mlp[0][0]']       \n",
            "                                                                                                  \n",
            " dropout (Dropout)              (None, 20)           0           ['concat[0][0]']                 \n",
            "                                                                                                  \n",
            " fc-1 (Dense)                   (None, 100)          2100        ['dropout[0][0]']                \n",
            "                                                                                                  \n",
            " batch-norm-1 (BatchNormalizati  (None, 100)         400         ['fc-1[0][0]']                   \n",
            " on)                                                                                              \n",
            "                                                                                                  \n",
            " dropout_1 (Dropout)            (None, 100)          0           ['batch-norm-1[0][0]']           \n",
            "                                                                                                  \n",
            " fc-2 (Dense)                   (None, 50)           5050        ['dropout_1[0][0]']              \n",
            "                                                                                                  \n",
            " movie-embedding-mf (Embedding)  (None, 1, 10)       273740      ['movie-input[0][0]']            \n",
            "                                                                                                  \n",
            " user-embedding-mf (Embedding)  (None, 1, 10)        283220      ['user-input[0][0]']             \n",
            "                                                                                                  \n",
            " batch-norm-2 (BatchNormalizati  (None, 50)          200         ['fc-2[0][0]']                   \n",
            " on)                                                                                              \n",
            "                                                                                                  \n",
            " flatten-movie-mf (Flatten)     (None, 10)           0           ['movie-embedding-mf[0][0]']     \n",
            "                                                                                                  \n",
            " flatten-user-mf (Flatten)      (None, 10)           0           ['user-embedding-mf[0][0]']      \n",
            "                                                                                                  \n",
            " dropout_2 (Dropout)            (None, 50)           0           ['batch-norm-2[0][0]']           \n",
            "                                                                                                  \n",
            " dot (Dot)                      (None, 1)            0           ['flatten-movie-mf[0][0]',       \n",
            "                                                                  'flatten-user-mf[0][0]']        \n",
            "                                                                                                  \n",
            " pred-mlp (Dense)               (None, 10)           510         ['dropout_2[0][0]']              \n",
            "                                                                                                  \n",
            " pred_mf (Concatenate)          (None, 11)           0           ['dot[0][0]',                    \n",
            "                                                                  'pred-mlp[0][0]']               \n",
            "                                                                                                  \n",
            " result (Dense)                 (None, 1)            12          ['pred_mf[0][0]']                \n",
            "                                                                                                  \n",
            "==================================================================================================\n",
            "Total params: 1,122,192\n",
            "Trainable params: 1,121,892\n",
            "Non-trainable params: 300\n",
            "__________________________________________________________________________________________________\n"
          ]
        }
      ],
      "source": [
        "model.summary()"
      ]
    },
    {
      "cell_type": "code",
      "execution_count": null,
      "metadata": {
        "id": "J9nVzIpK1NSh"
      },
      "outputs": [],
      "source": [
        "# train NCF model on training data, embedding size 15, dropout rate as default\n",
        "model = NCF_model(embed_size=15)\n",
        "history = model.fit([train['user_encoded'], train['movie_encoded']], train['rating'], epochs=5)\n",
        "\n",
        "pd.Series(history.history['loss']).plot(logy=True)\n",
        "plt.xlabel(\"Epoch\")\n",
        "plt.ylabel(\"Train Error\")\n",
        "plt.show()"
      ]
    },
    {
      "cell_type": "markdown",
      "source": [
        "Зареждаме предварително трениран модел."
      ],
      "metadata": {
        "id": "ZzTJnQF4GhUd"
      }
    },
    {
      "cell_type": "code",
      "execution_count": null,
      "metadata": {
        "id": "QV0OZt831Hn3"
      },
      "outputs": [],
      "source": [
        "# uncomment to save model as 'dl_model.h5'\n",
        "# model.save('drive/MyDrive/Rec-Sys-models/dl_model.h5')\n",
        "\n",
        "# # uncomment to load model\n",
        "# from keras.models import load_model\n",
        "model = keras.models.load_model('drive/MyDrive/Rec-Sys-models/dl_model.h5')"
      ]
    },
    {
      "cell_type": "code",
      "execution_count": null,
      "metadata": {
        "colab": {
          "base_uri": "https://localhost:8080/"
        },
        "id": "HrmCLN6N1HlE",
        "outputId": "1bff3c38-9589-498f-965b-382d7962fca4"
      },
      "outputs": [
        {
          "output_type": "stream",
          "name": "stdout",
          "text": [
            "testing rms: 0.7349068929531704\n"
          ]
        }
      ],
      "source": [
        "# rmse on testing set \n",
        "y_hat = np.round(model.predict([test['user_encoded'], test['movie_encoded']]), decimals=2)\n",
        "y_true = test['rating']\n",
        "print(f'testing rms: {mean_squared_error(y_true, y_hat)}')"
      ]
    },
    {
      "cell_type": "code",
      "execution_count": null,
      "metadata": {
        "colab": {
          "base_uri": "https://localhost:8080/",
          "height": 204
        },
        "id": "_c1_zjBs1Hha",
        "outputId": "7b6df906-1fad-45e0-bbc3-10c868651d95"
      },
      "outputs": [
        {
          "output_type": "execute_result",
          "data": {
            "text/plain": [
              "             prediction  true_value\n",
              "0   [2.859999895095825]         3.0\n",
              "1  [3.4000000953674316]         4.0\n",
              "2   [3.549999952316284]         3.5\n",
              "3  [3.9700000286102295]         4.0\n",
              "4   [4.110000133514404]         3.0"
            ],
            "text/html": [
              "\n",
              "  <div id=\"df-c9d323b3-6ee2-4dfd-8a85-f8c852f5bca0\">\n",
              "    <div class=\"colab-df-container\">\n",
              "      <div>\n",
              "<style scoped>\n",
              "    .dataframe tbody tr th:only-of-type {\n",
              "        vertical-align: middle;\n",
              "    }\n",
              "\n",
              "    .dataframe tbody tr th {\n",
              "        vertical-align: top;\n",
              "    }\n",
              "\n",
              "    .dataframe thead th {\n",
              "        text-align: right;\n",
              "    }\n",
              "</style>\n",
              "<table border=\"1\" class=\"dataframe\">\n",
              "  <thead>\n",
              "    <tr style=\"text-align: right;\">\n",
              "      <th></th>\n",
              "      <th>prediction</th>\n",
              "      <th>true_value</th>\n",
              "    </tr>\n",
              "  </thead>\n",
              "  <tbody>\n",
              "    <tr>\n",
              "      <th>0</th>\n",
              "      <td>[2.859999895095825]</td>\n",
              "      <td>3.0</td>\n",
              "    </tr>\n",
              "    <tr>\n",
              "      <th>1</th>\n",
              "      <td>[3.4000000953674316]</td>\n",
              "      <td>4.0</td>\n",
              "    </tr>\n",
              "    <tr>\n",
              "      <th>2</th>\n",
              "      <td>[3.549999952316284]</td>\n",
              "      <td>3.5</td>\n",
              "    </tr>\n",
              "    <tr>\n",
              "      <th>3</th>\n",
              "      <td>[3.9700000286102295]</td>\n",
              "      <td>4.0</td>\n",
              "    </tr>\n",
              "    <tr>\n",
              "      <th>4</th>\n",
              "      <td>[4.110000133514404]</td>\n",
              "      <td>3.0</td>\n",
              "    </tr>\n",
              "  </tbody>\n",
              "</table>\n",
              "</div>\n",
              "      <button class=\"colab-df-convert\" onclick=\"convertToInteractive('df-c9d323b3-6ee2-4dfd-8a85-f8c852f5bca0')\"\n",
              "              title=\"Convert this dataframe to an interactive table.\"\n",
              "              style=\"display:none;\">\n",
              "        \n",
              "  <svg xmlns=\"http://www.w3.org/2000/svg\" height=\"24px\"viewBox=\"0 0 24 24\"\n",
              "       width=\"24px\">\n",
              "    <path d=\"M0 0h24v24H0V0z\" fill=\"none\"/>\n",
              "    <path d=\"M18.56 5.44l.94 2.06.94-2.06 2.06-.94-2.06-.94-.94-2.06-.94 2.06-2.06.94zm-11 1L8.5 8.5l.94-2.06 2.06-.94-2.06-.94L8.5 2.5l-.94 2.06-2.06.94zm10 10l.94 2.06.94-2.06 2.06-.94-2.06-.94-.94-2.06-.94 2.06-2.06.94z\"/><path d=\"M17.41 7.96l-1.37-1.37c-.4-.4-.92-.59-1.43-.59-.52 0-1.04.2-1.43.59L10.3 9.45l-7.72 7.72c-.78.78-.78 2.05 0 2.83L4 21.41c.39.39.9.59 1.41.59.51 0 1.02-.2 1.41-.59l7.78-7.78 2.81-2.81c.8-.78.8-2.07 0-2.86zM5.41 20L4 18.59l7.72-7.72 1.47 1.35L5.41 20z\"/>\n",
              "  </svg>\n",
              "      </button>\n",
              "      \n",
              "  <style>\n",
              "    .colab-df-container {\n",
              "      display:flex;\n",
              "      flex-wrap:wrap;\n",
              "      gap: 12px;\n",
              "    }\n",
              "\n",
              "    .colab-df-convert {\n",
              "      background-color: #E8F0FE;\n",
              "      border: none;\n",
              "      border-radius: 50%;\n",
              "      cursor: pointer;\n",
              "      display: none;\n",
              "      fill: #1967D2;\n",
              "      height: 32px;\n",
              "      padding: 0 0 0 0;\n",
              "      width: 32px;\n",
              "    }\n",
              "\n",
              "    .colab-df-convert:hover {\n",
              "      background-color: #E2EBFA;\n",
              "      box-shadow: 0px 1px 2px rgba(60, 64, 67, 0.3), 0px 1px 3px 1px rgba(60, 64, 67, 0.15);\n",
              "      fill: #174EA6;\n",
              "    }\n",
              "\n",
              "    [theme=dark] .colab-df-convert {\n",
              "      background-color: #3B4455;\n",
              "      fill: #D2E3FC;\n",
              "    }\n",
              "\n",
              "    [theme=dark] .colab-df-convert:hover {\n",
              "      background-color: #434B5C;\n",
              "      box-shadow: 0px 1px 3px 1px rgba(0, 0, 0, 0.15);\n",
              "      filter: drop-shadow(0px 1px 2px rgba(0, 0, 0, 0.3));\n",
              "      fill: #FFFFFF;\n",
              "    }\n",
              "  </style>\n",
              "\n",
              "      <script>\n",
              "        const buttonEl =\n",
              "          document.querySelector('#df-c9d323b3-6ee2-4dfd-8a85-f8c852f5bca0 button.colab-df-convert');\n",
              "        buttonEl.style.display =\n",
              "          google.colab.kernel.accessAllowed ? 'block' : 'none';\n",
              "\n",
              "        async function convertToInteractive(key) {\n",
              "          const element = document.querySelector('#df-c9d323b3-6ee2-4dfd-8a85-f8c852f5bca0');\n",
              "          const dataTable =\n",
              "            await google.colab.kernel.invokeFunction('convertToInteractive',\n",
              "                                                     [key], {});\n",
              "          if (!dataTable) return;\n",
              "\n",
              "          const docLinkHtml = 'Like what you see? Visit the ' +\n",
              "            '<a target=\"_blank\" href=https://colab.research.google.com/notebooks/data_table.ipynb>data table notebook</a>'\n",
              "            + ' to learn more about interactive tables.';\n",
              "          element.innerHTML = '';\n",
              "          dataTable['output_type'] = 'display_data';\n",
              "          await google.colab.output.renderOutput(dataTable, element);\n",
              "          const docLink = document.createElement('div');\n",
              "          docLink.innerHTML = docLinkHtml;\n",
              "          element.appendChild(docLink);\n",
              "        }\n",
              "      </script>\n",
              "    </div>\n",
              "  </div>\n",
              "  "
            ]
          },
          "metadata": {},
          "execution_count": 65
        }
      ],
      "source": [
        "# prediction sample\n",
        "d = {'prediction': y_hat.tolist(), 'true_value': y_true.values.tolist()}\n",
        "test_pred = pd.DataFrame(d)\n",
        "test_pred.head(5)"
      ]
    },
    {
      "cell_type": "markdown",
      "metadata": {
        "id": "TFC1Oedy1o24"
      },
      "source": [
        "Ще разгледаме как се представя модела върху активни/неактивни потребители.\n",
        "\n",
        "Забелязваме, от разпределението на потребителски рейтинги, че половината от потребителите са оценили 50 или по-малко филма. Препоръчващата система може да има по-лощо представяне, когато препоръчва на по-неактивен потребител.\n",
        "\n",
        "Заради това е важно да се оцени представянето на NCF модела върху активни и неактивни потребители. Ще разделим потребителите на шест групи, тези които са оценили по-малко то 10, тези между 10 и 20, между 20 и 50, между 50 и 80, между 80 и 150, и тези над 150."
      ]
    },
    {
      "cell_type": "code",
      "execution_count": null,
      "metadata": {
        "id": "P1FcqOp_1HfC"
      },
      "outputs": [],
      "source": [
        "# count number of ratings for all users\n",
        "user_counts = sample_df.groupby('userId').size()"
      ]
    },
    {
      "cell_type": "code",
      "execution_count": null,
      "metadata": {
        "colab": {
          "base_uri": "https://localhost:8080/",
          "height": 472
        },
        "id": "TVIRAuqd1Hcp",
        "outputId": "7ad4c397-ca43-4030-ea76-436f17ea6f21"
      },
      "outputs": [
        {
          "output_type": "execute_result",
          "data": {
            "text/plain": [
              "[(0.0, 6000.0),\n",
              " (0.0, 400.0),\n",
              " Text(0.5, 0, 'Number of Ratings'),\n",
              " Text(0.5, 1.0, 'Distribution of User Ratings')]"
            ]
          },
          "metadata": {},
          "execution_count": 67
        },
        {
          "output_type": "display_data",
          "data": {
            "text/plain": [
              "<Figure size 576x432 with 1 Axes>"
            ],
            "image/png": "[encoded data removed]"
          },
          "metadata": {
            "needs_background": "light"
          }
        }
      ],
      "source": [
        "fig, ax = plt.subplots(figsize=(8, 6))\n",
        "sns.set_style('whitegrid')\n",
        "\n",
        "sns.histplot(user_counts, binwidth=20, ax=ax)\n",
        "ax.set(ylim=[0,6000], xlim=[0,400], title='Distribution of User Ratings', xlabel='Number of Ratings')"
      ]
    },
    {
      "cell_type": "code",
      "execution_count": null,
      "metadata": {
        "id": "XqOyWrJQ1HTb"
      },
      "outputs": [],
      "source": [
        "# classify user base on counts of rating\n",
        "active_levels = ['<10', '10-20', '20-50', '50-80', '80-150', '>150']\n",
        "\n",
        "user_counts_levels = dict.fromkeys(active_levels, None)\n",
        "user_counts_levels['<10'] = user_counts[user_counts < 10]\n",
        "user_counts_levels['10-20'] = user_counts[(user_counts >= 10) & (user_counts < 20)]\n",
        "user_counts_levels['20-50'] = user_counts[(user_counts >= 20) & (user_counts < 50)]\n",
        "user_counts_levels['50-80'] = user_counts[(user_counts >= 50) & (user_counts < 80)]\n",
        "user_counts_levels['80-150'] = user_counts[(user_counts >= 80) & (user_counts < 150)]\n",
        "user_counts_levels['>150'] = user_counts[user_counts >= 150]"
      ]
    },
    {
      "cell_type": "code",
      "execution_count": null,
      "metadata": {
        "id": "3_3MB3e31jrM"
      },
      "outputs": [],
      "source": [
        "# calculate rmse for all groups of user\n",
        "user_level_rmse = []\n",
        "for key in active_levels:\n",
        "    indices = user_counts_levels[key].index.tolist()\n",
        "    pred_df = sample_df[sample_df['userId'].isin(indices)]\n",
        "    y_true = pred_df['rating']\n",
        "    y_pred = model.predict([pred_df['user_encoded'], pred_df['movie_encoded']])\n",
        "    user_level_rmse.append(mean_squared_error(y_true, y_pred))"
      ]
    },
    {
      "cell_type": "markdown",
      "source": [
        "Интересно е, че препоръките на нашия модел имат по-голяма грешка върху потребители, които са оценили до 20 филма. Понеже има стотици хиляди записи за двете групи щзъри, които влизат в тази категория, наблюдениято е достоверно."
      ],
      "metadata": {
        "id": "9e7W1e1QUdm1"
      }
    },
    {
      "cell_type": "code",
      "execution_count": null,
      "metadata": {
        "colab": {
          "base_uri": "https://localhost:8080/",
          "height": 524
        },
        "id": "4AqAUaJn1jh2",
        "outputId": "0b23d350-de96-4ee4-f7f4-a17bb259e034"
      },
      "outputs": [
        {
          "output_type": "execute_result",
          "data": {
            "text/plain": [
              "[Text(0, 0.5, 'rmse'),\n",
              " [Text(0, 0, '<10'),\n",
              "  Text(0, 0, '10-20'),\n",
              "  Text(0, 0, '20-50'),\n",
              "  Text(0, 0, '50-80'),\n",
              "  Text(0, 0, '80-150'),\n",
              "  Text(0, 0, '>150')],\n",
              " Text(0.5, 0, 'Number of ratings')]"
            ]
          },
          "metadata": {},
          "execution_count": 70
        },
        {
          "output_type": "display_data",
          "data": {
            "text/plain": [
              "<Figure size 576x432 with 1 Axes>"
            ],
            "image/png": "[encoded data removed]"
          },
          "metadata": {}
        }
      ],
      "source": [
        "fig, ax = plt.subplots(figsize=(8, 6))\n",
        "sns.set_style('whitegrid')\n",
        "\n",
        "sns.pointplot(y=user_level_rmse, x=np.arange(6))\n",
        "ax.set(xticklabels=active_levels, xlabel='Number of ratings', ylabel='rmse')"
      ]
    },
    {
      "cell_type": "markdown",
      "metadata": {
        "id": "qcjdaxW214kT"
      },
      "source": [
        "Кросвалидация\n",
        "\n",
        "По-горе забелязхме, че броят епохи не е основният ограничаващ проблем върху представянето на модела. Може да оптимизират learning rate-а и размерността на embedding слоя.\n",
        "Често се използва 0.01 като learning rate при обучение, ще се фокусираме да намерим оптимален размер на embedding слоя. Ще пробваме 5 различни размерности. Излиза, че модели с размер на embedding слоя от 15 и 30 се представят по-добре в сравнение с останалите стойности при 3-fold кросвалидация. За предварително обучения модел сме използвали размер 15 за embedding слоя."
      ]
    },
    {
      "cell_type": "code",
      "execution_count": null,
      "metadata": {
        "id": "eERZJ_bN1jVy"
      },
      "outputs": [],
      "source": [
        "from sklearn.model_selection import KFold\n",
        "\n",
        "# sample 100k from training set as validation set \n",
        "valid_df_size = 100000\n",
        "valid_df = train.sample(n = int(valid_df_size), replace=False, random_state=123)\n",
        "\n",
        "embedding_layers = [5, 10, 15, 20, 25, 30]"
      ]
    },
    {
      "cell_type": "code",
      "execution_count": null,
      "metadata": {
        "id": "3Q0pzhxU19SO"
      },
      "outputs": [],
      "source": [
        "# input: validation data set, list of embedding layer size, drop-out probability, number of epochs, number of fold\n",
        "# output: list of cv-rmse for each hyperparameter value\n",
        "def NCF_cross_validation(cv_df, eb_layers, drop_prob = 0.2, epoch=3, n_split=3):\n",
        "    cv_result = []\n",
        "\n",
        "    for el in eb_layers:      \n",
        "        temp_loss = []\n",
        "        itr_idx = 0\n",
        "        \n",
        "        for train_idx, test_idx in KFold(n_split).split(cv_df):          \n",
        "            cv_train_x = cv_df.iloc[train_idx][['user_encoded', 'movie_encoded']]\n",
        "            cv_test_x = cv_df.iloc[test_idx][['user_encoded', 'movie_encoded']]\n",
        "            cv_train_y = cv_df.iloc[train_idx]['rating']\n",
        "            cv_test_y = cv_df.iloc[test_idx]['rating']\n",
        "\n",
        "            model_cv = NCF_model()\n",
        "            model_cv.fit([cv_train_x['user_encoded'], cv_train_x['movie_encoded']], cv_train_y, epochs=epoch)\n",
        "\n",
        "            curr_loss = model_cv.evaluate([cv_df['user_encoded'], cv_df['movie_encoded']], cv_df['rating'])\n",
        "            temp_loss.append(curr_loss)         \n",
        "            itr_idx += 1\n",
        "            \n",
        "        cv_result.append(sum(temp_loss) / n_split)\n",
        "            \n",
        "    return cv_result"
      ]
    },
    {
      "cell_type": "code",
      "execution_count": null,
      "metadata": {
        "colab": {
          "base_uri": "https://localhost:8080/"
        },
        "id": "QKLdiP9l19Pc",
        "outputId": "f3ba7ec9-893b-485e-cd80-173cfc348ced"
      },
      "outputs": [
        {
          "output_type": "stream",
          "name": "stdout",
          "text": [
            "Epoch 1/3\n"
          ]
        },
        {
          "output_type": "stream",
          "name": "stderr",
          "text": [
            "/usr/local/lib/python3.7/dist-packages/keras/optimizer_v2/adam.py:105: UserWarning: The `lr` argument is deprecated, use `learning_rate` instead.\n",
            "  super(Adam, self).__init__(name, **kwargs)\n"
          ]
        },
        {
          "output_type": "stream",
          "name": "stdout",
          "text": [
            "2084/2084 [==============================] - 23s 10ms/step - loss: 1.2185\n",
            "Epoch 2/3\n",
            "2084/2084 [==============================] - 24s 11ms/step - loss: 0.8959\n",
            "Epoch 3/3\n",
            "2084/2084 [==============================] - 24s 12ms/step - loss: 0.5098\n",
            "3125/3125 [==============================] - 6s 2ms/step - loss: 0.5637\n",
            "Epoch 1/3\n",
            "2084/2084 [==============================] - 34s 15ms/step - loss: 1.2501\n",
            "Epoch 2/3\n",
            "2084/2084 [==============================] - 25s 12ms/step - loss: 0.8680\n",
            "Epoch 3/3\n",
            "2084/2084 [==============================] - 30s 15ms/step - loss: 0.4864\n",
            "3125/3125 [==============================] - 6s 2ms/step - loss: 0.5079\n",
            "Epoch 1/3\n",
            "2084/2084 [==============================] - 32s 15ms/step - loss: 1.2234\n",
            "Epoch 2/3\n",
            "2084/2084 [==============================] - 34s 16ms/step - loss: 0.9125\n",
            "Epoch 3/3\n",
            "2084/2084 [==============================] - 35s 17ms/step - loss: 0.7568\n",
            "3125/3125 [==============================] - 7s 2ms/step - loss: 0.6215\n",
            "Epoch 1/3\n",
            "2084/2084 [==============================] - 34s 16ms/step - loss: 1.2111\n",
            "Epoch 2/3\n",
            "2084/2084 [==============================] - 29s 14ms/step - loss: 0.9069\n",
            "Epoch 3/3\n",
            "2084/2084 [==============================] - 30s 14ms/step - loss: 0.5295\n",
            "3125/3125 [==============================] - 5s 2ms/step - loss: 0.5242\n",
            "Epoch 1/3\n",
            "2084/2084 [==============================] - 28s 13ms/step - loss: 1.2376\n",
            "Epoch 2/3\n",
            "2084/2084 [==============================] - 25s 12ms/step - loss: 0.8901\n",
            "Epoch 3/3\n",
            "2084/2084 [==============================] - 26s 12ms/step - loss: 0.5847\n",
            "3125/3125 [==============================] - 6s 2ms/step - loss: 0.5288\n",
            "Epoch 1/3\n",
            "2084/2084 [==============================] - 31s 14ms/step - loss: 1.2376\n",
            "Epoch 2/3\n",
            "2084/2084 [==============================] - 30s 14ms/step - loss: 0.9223\n",
            "Epoch 3/3\n",
            "2084/2084 [==============================] - 29s 14ms/step - loss: 0.7672\n",
            "3125/3125 [==============================] - 5s 2ms/step - loss: 0.6217\n",
            "Epoch 1/3\n",
            "2084/2084 [==============================] - 29s 13ms/step - loss: 1.2133\n",
            "Epoch 2/3\n",
            "2084/2084 [==============================] - 30s 14ms/step - loss: 0.9321\n",
            "Epoch 3/3\n",
            "2084/2084 [==============================] - 28s 14ms/step - loss: 0.5571\n",
            "3125/3125 [==============================] - 6s 2ms/step - loss: 0.5297\n",
            "Epoch 1/3\n",
            "2084/2084 [==============================] - 29s 13ms/step - loss: 1.1915\n",
            "Epoch 2/3\n",
            "2084/2084 [==============================] - 27s 13ms/step - loss: 0.8878\n",
            "Epoch 3/3\n",
            "2084/2084 [==============================] - 27s 13ms/step - loss: 0.5309\n",
            "3125/3125 [==============================] - 6s 2ms/step - loss: 0.5164\n",
            "Epoch 1/3\n",
            "2084/2084 [==============================] - 30s 13ms/step - loss: 1.2356\n",
            "Epoch 2/3\n",
            "2084/2084 [==============================] - 29s 14ms/step - loss: 0.8758\n",
            "Epoch 3/3\n",
            "2084/2084 [==============================] - 28s 13ms/step - loss: 0.5091\n",
            "3125/3125 [==============================] - 6s 2ms/step - loss: 0.5145\n",
            "Epoch 1/3\n",
            "2084/2084 [==============================] - 28s 13ms/step - loss: 1.2273\n",
            "Epoch 2/3\n",
            "2084/2084 [==============================] - 27s 13ms/step - loss: 0.9116\n",
            "Epoch 3/3\n",
            "2084/2084 [==============================] - 28s 13ms/step - loss: 0.6093\n",
            "3125/3125 [==============================] - 5s 2ms/step - loss: 0.5268\n",
            "Epoch 1/3\n",
            "2084/2084 [==============================] - 28s 13ms/step - loss: 1.2489\n",
            "Epoch 2/3\n",
            "2084/2084 [==============================] - 26s 12ms/step - loss: 0.9014\n",
            "Epoch 3/3\n",
            "2084/2084 [==============================] - 26s 13ms/step - loss: 0.7135\n",
            "3125/3125 [==============================] - 5s 2ms/step - loss: 0.5720\n",
            "Epoch 1/3\n",
            "2084/2084 [==============================] - 27s 12ms/step - loss: 1.2367\n",
            "Epoch 2/3\n",
            "2084/2084 [==============================] - 27s 13ms/step - loss: 0.9097\n",
            "Epoch 3/3\n",
            "2084/2084 [==============================] - 31s 15ms/step - loss: 0.5964\n",
            "3125/3125 [==============================] - 5s 2ms/step - loss: 0.5299\n",
            "Epoch 1/3\n",
            "2084/2084 [==============================] - 22s 10ms/step - loss: 1.2228\n",
            "Epoch 2/3\n",
            "2084/2084 [==============================] - 20s 10ms/step - loss: 0.9177\n",
            "Epoch 3/3\n",
            "2084/2084 [==============================] - 21s 10ms/step - loss: 0.5879\n",
            "3125/3125 [==============================] - 6s 2ms/step - loss: 0.5255\n",
            "Epoch 1/3\n",
            "2084/2084 [==============================] - 22s 10ms/step - loss: 1.2068\n",
            "Epoch 2/3\n",
            "2084/2084 [==============================] - 21s 10ms/step - loss: 0.9031\n",
            "Epoch 3/3\n",
            "2084/2084 [==============================] - 20s 10ms/step - loss: 0.7490\n",
            "3125/3125 [==============================] - 6s 2ms/step - loss: 0.6293\n",
            "Epoch 1/3\n",
            "2084/2084 [==============================] - 22s 10ms/step - loss: 1.1997\n",
            "Epoch 2/3\n",
            "2084/2084 [==============================] - 20s 10ms/step - loss: 0.9083\n",
            "Epoch 3/3\n",
            "2084/2084 [==============================] - 20s 10ms/step - loss: 0.6869\n",
            "3125/3125 [==============================] - 5s 2ms/step - loss: 0.5823\n",
            "Epoch 1/3\n",
            "2084/2084 [==============================] - 21s 10ms/step - loss: 1.2068\n",
            "Epoch 2/3\n",
            "2084/2084 [==============================] - 20s 10ms/step - loss: 0.9059\n",
            "Epoch 3/3\n",
            "2084/2084 [==============================] - 20s 10ms/step - loss: 0.5447\n",
            "3125/3125 [==============================] - 5s 2ms/step - loss: 0.5204\n",
            "Epoch 1/3\n",
            "2084/2084 [==============================] - 23s 10ms/step - loss: 1.1991\n",
            "Epoch 2/3\n",
            "2084/2084 [==============================] - 21s 10ms/step - loss: 0.9176\n",
            "Epoch 3/3\n",
            "2084/2084 [==============================] - 21s 10ms/step - loss: 0.6030\n",
            "3125/3125 [==============================] - 6s 2ms/step - loss: 0.5575\n",
            "Epoch 1/3\n",
            "2084/2084 [==============================] - 22s 10ms/step - loss: 1.2089\n",
            "Epoch 2/3\n",
            "2084/2084 [==============================] - 20s 10ms/step - loss: 0.9486\n",
            "Epoch 3/3\n",
            "2084/2084 [==============================] - 21s 10ms/step - loss: 0.6025\n",
            "3125/3125 [==============================] - 5s 2ms/step - loss: 0.5260\n"
          ]
        }
      ],
      "source": [
        "cv_result = NCF_cross_validation(valid_df, embedding_layers)"
      ]
    },
    {
      "cell_type": "code",
      "execution_count": null,
      "metadata": {
        "colab": {
          "base_uri": "https://localhost:8080/",
          "height": 455
        },
        "id": "71f1zZMQ19NA",
        "outputId": "62edc6c4-0e8d-47f8-c8f1-0512d76234c2"
      },
      "outputs": [
        {
          "output_type": "execute_result",
          "data": {
            "text/plain": [
              "[Text(0, 0.5, 'CV rmse'),\n",
              " Text(0.5, 0, 'Embedding Dim'),\n",
              " Text(0.5, 1.0, '3-Fold CV')]"
            ]
          },
          "metadata": {},
          "execution_count": 74
        },
        {
          "output_type": "display_data",
          "data": {
            "text/plain": [
              "<Figure size 576x432 with 1 Axes>"
            ],
            "image/png": "[encoded data removed]"
          },
          "metadata": {}
        }
      ],
      "source": [
        "cv_result_df = pd.DataFrame({'cv_rmse': cv_result}, index = embedding_layers)\n",
        "\n",
        "fig, ax = plt.subplots(figsize=(8, 6))\n",
        "sns.set_style('whitegrid')\n",
        "sns.pointplot(x=cv_result_df.index, y=cv_result_df.cv_rmse, ax=ax)\n",
        "ax.set(xlabel='Embedding Dim', ylabel='CV rmse', title='3-Fold CV')"
      ]
    },
    {
      "cell_type": "markdown",
      "metadata": {
        "id": "3sErd3S22LFT"
      },
      "source": [
        "Топ 20 препоръчани филма"
      ]
    },
    {
      "cell_type": "code",
      "execution_count": null,
      "metadata": {
        "id": "qKEdUy1n19KZ"
      },
      "outputs": [],
      "source": [
        "# input: a recommendation model (keras model), user id, number of recommendation\n",
        "# output: a dataframe of top-k recommendations along with movie information\n",
        "def NCF_recommendation(rec_model, client_id, top_k = 20):\n",
        "    client_encoded = user2user_encoded[client_id]\n",
        "    movie_watched = sample_df[sample_df['userId'] == client_id]['movieId'].values\n",
        "    \n",
        "    movie_poll_encoded = []\n",
        "    for item in movie_ids:\n",
        "        if not np.isin(item, movie_watched):\n",
        "            movie_poll_encoded.append(movie2movie_encoded[item])\n",
        "            \n",
        "    d = {'user_encoded': [client_encoded] * len(movie_poll_encoded), 'movie_encoded' : movie_poll_encoded}\n",
        "    client_df = pd.DataFrame(d)\n",
        "    \n",
        "    ratings = rec_model.predict([client_df['user_encoded'], client_df['movie_encoded']])\n",
        "    \n",
        "    top_ratings_idx = ratings.flatten().argsort()[-top_k:][::-1]\n",
        "    top_ratings = ratings[top_ratings_idx].flatten()\n",
        "    recommend_movieId = [movie_encoded2movie.get(movie_poll_encoded[x]) for x in top_ratings_idx]\n",
        "    \n",
        "    top_movie_rec = pd.DataFrame({'movieId': recommend_movieId, 'prediction': top_ratings}).set_index('movieId')\n",
        "    top_movie_rec = top_movie_rec.join(movie_dt.set_index('movieId'))\n",
        "\n",
        "    return top_movie_rec"
      ]
    },
    {
      "cell_type": "code",
      "execution_count": null,
      "metadata": {
        "colab": {
          "base_uri": "https://localhost:8080/",
          "height": 562
        },
        "id": "1S_ctGO819H7",
        "outputId": "a65871f1-ea2a-4b84-896b-a73f1a255a42"
      },
      "outputs": [
        {
          "output_type": "stream",
          "name": "stdout",
          "text": [
            "recommendation for client: 269221\n"
          ]
        },
        {
          "output_type": "execute_result",
          "data": {
            "text/plain": [
              "         prediction                                              title  \\\n",
              "movieId                                                                  \n",
              "65188      4.400249  Dear Zachary: A Letter to a Son About His Fath...   \n",
              "174053     4.390895               Black Mirror: White Christmas (2014)   \n",
              "171011     4.381157                             Planet Earth II (2016)   \n",
              "159817     4.375107                                Planet Earth (2006)   \n",
              "170705     4.368484                            Band of Brothers (2001)   \n",
              "858        4.360006                              Godfather, The (1972)   \n",
              "5147       4.346227         Wild Strawberries (Smultronstället) (1957)   \n",
              "670        4.335399             World of Apu, The (Apur Sansar) (1959)   \n",
              "2324       4.321900         Life Is Beautiful (La Vita è bella) (1997)   \n",
              "678        4.303823            Some Folks Call It a Sling Blade (1993)   \n",
              "1203       4.289191                                12 Angry Men (1957)   \n",
              "58559      4.284284                            Dark Knight, The (2008)   \n",
              "79132      4.276486                                   Inception (2010)   \n",
              "8132       4.275927                                   Gladiator (1992)   \n",
              "50         4.270842                         Usual Suspects, The (1995)   \n",
              "\n",
              "                                                  genres  \n",
              "movieId                                                   \n",
              "65188                                        Documentary  \n",
              "174053              Drama|Horror|Mystery|Sci-Fi|Thriller  \n",
              "171011                                       Documentary  \n",
              "159817                                       Documentary  \n",
              "170705                                  Action|Drama|War  \n",
              "858                                          Crime|Drama  \n",
              "5147                                               Drama  \n",
              "670                                                Drama  \n",
              "2324                            Comedy|Drama|Romance|War  \n",
              "678                                       Drama|Thriller  \n",
              "1203                                               Drama  \n",
              "58559                            Action|Crime|Drama|IMAX  \n",
              "79132    Action|Crime|Drama|Mystery|Sci-Fi|Thriller|IMAX  \n",
              "8132                                        Action|Drama  \n",
              "50                                Crime|Mystery|Thriller  "
            ],
            "text/html": [
              "\n",
              "  <div id=\"df-4372057f-8c52-44a8-a33c-59e0b858d873\">\n",
              "    <div class=\"colab-df-container\">\n",
              "      <div>\n",
              "<style scoped>\n",
              "    .dataframe tbody tr th:only-of-type {\n",
              "        vertical-align: middle;\n",
              "    }\n",
              "\n",
              "    .dataframe tbody tr th {\n",
              "        vertical-align: top;\n",
              "    }\n",
              "\n",
              "    .dataframe thead th {\n",
              "        text-align: right;\n",
              "    }\n",
              "</style>\n",
              "<table border=\"1\" class=\"dataframe\">\n",
              "  <thead>\n",
              "    <tr style=\"text-align: right;\">\n",
              "      <th></th>\n",
              "      <th>prediction</th>\n",
              "      <th>title</th>\n",
              "      <th>genres</th>\n",
              "    </tr>\n",
              "    <tr>\n",
              "      <th>movieId</th>\n",
              "      <th></th>\n",
              "      <th></th>\n",
              "      <th></th>\n",
              "    </tr>\n",
              "  </thead>\n",
              "  <tbody>\n",
              "    <tr>\n",
              "      <th>65188</th>\n",
              "      <td>4.400249</td>\n",
              "      <td>Dear Zachary: A Letter to a Son About His Fath...</td>\n",
              "      <td>Documentary</td>\n",
              "    </tr>\n",
              "    <tr>\n",
              "      <th>174053</th>\n",
              "      <td>4.390895</td>\n",
              "      <td>Black Mirror: White Christmas (2014)</td>\n",
              "      <td>Drama|Horror|Mystery|Sci-Fi|Thriller</td>\n",
              "    </tr>\n",
              "    <tr>\n",
              "      <th>171011</th>\n",
              "      <td>4.381157</td>\n",
              "      <td>Planet Earth II (2016)</td>\n",
              "      <td>Documentary</td>\n",
              "    </tr>\n",
              "    <tr>\n",
              "      <th>159817</th>\n",
              "      <td>4.375107</td>\n",
              "      <td>Planet Earth (2006)</td>\n",
              "      <td>Documentary</td>\n",
              "    </tr>\n",
              "    <tr>\n",
              "      <th>170705</th>\n",
              "      <td>4.368484</td>\n",
              "      <td>Band of Brothers (2001)</td>\n",
              "      <td>Action|Drama|War</td>\n",
              "    </tr>\n",
              "    <tr>\n",
              "      <th>858</th>\n",
              "      <td>4.360006</td>\n",
              "      <td>Godfather, The (1972)</td>\n",
              "      <td>Crime|Drama</td>\n",
              "    </tr>\n",
              "    <tr>\n",
              "      <th>5147</th>\n",
              "      <td>4.346227</td>\n",
              "      <td>Wild Strawberries (Smultronstället) (1957)</td>\n",
              "      <td>Drama</td>\n",
              "    </tr>\n",
              "    <tr>\n",
              "      <th>670</th>\n",
              "      <td>4.335399</td>\n",
              "      <td>World of Apu, The (Apur Sansar) (1959)</td>\n",
              "      <td>Drama</td>\n",
              "    </tr>\n",
              "    <tr>\n",
              "      <th>2324</th>\n",
              "      <td>4.321900</td>\n",
              "      <td>Life Is Beautiful (La Vita è bella) (1997)</td>\n",
              "      <td>Comedy|Drama|Romance|War</td>\n",
              "    </tr>\n",
              "    <tr>\n",
              "      <th>678</th>\n",
              "      <td>4.303823</td>\n",
              "      <td>Some Folks Call It a Sling Blade (1993)</td>\n",
              "      <td>Drama|Thriller</td>\n",
              "    </tr>\n",
              "    <tr>\n",
              "      <th>1203</th>\n",
              "      <td>4.289191</td>\n",
              "      <td>12 Angry Men (1957)</td>\n",
              "      <td>Drama</td>\n",
              "    </tr>\n",
              "    <tr>\n",
              "      <th>58559</th>\n",
              "      <td>4.284284</td>\n",
              "      <td>Dark Knight, The (2008)</td>\n",
              "      <td>Action|Crime|Drama|IMAX</td>\n",
              "    </tr>\n",
              "    <tr>\n",
              "      <th>79132</th>\n",
              "      <td>4.276486</td>\n",
              "      <td>Inception (2010)</td>\n",
              "      <td>Action|Crime|Drama|Mystery|Sci-Fi|Thriller|IMAX</td>\n",
              "    </tr>\n",
              "    <tr>\n",
              "      <th>8132</th>\n",
              "      <td>4.275927</td>\n",
              "      <td>Gladiator (1992)</td>\n",
              "      <td>Action|Drama</td>\n",
              "    </tr>\n",
              "    <tr>\n",
              "      <th>50</th>\n",
              "      <td>4.270842</td>\n",
              "      <td>Usual Suspects, The (1995)</td>\n",
              "      <td>Crime|Mystery|Thriller</td>\n",
              "    </tr>\n",
              "  </tbody>\n",
              "</table>\n",
              "</div>\n",
              "      <button class=\"colab-df-convert\" onclick=\"convertToInteractive('df-4372057f-8c52-44a8-a33c-59e0b858d873')\"\n",
              "              title=\"Convert this dataframe to an interactive table.\"\n",
              "              style=\"display:none;\">\n",
              "        \n",
              "  <svg xmlns=\"http://www.w3.org/2000/svg\" height=\"24px\"viewBox=\"0 0 24 24\"\n",
              "       width=\"24px\">\n",
              "    <path d=\"M0 0h24v24H0V0z\" fill=\"none\"/>\n",
              "    <path d=\"M18.56 5.44l.94 2.06.94-2.06 2.06-.94-2.06-.94-.94-2.06-.94 2.06-2.06.94zm-11 1L8.5 8.5l.94-2.06 2.06-.94-2.06-.94L8.5 2.5l-.94 2.06-2.06.94zm10 10l.94 2.06.94-2.06 2.06-.94-2.06-.94-.94-2.06-.94 2.06-2.06.94z\"/><path d=\"M17.41 7.96l-1.37-1.37c-.4-.4-.92-.59-1.43-.59-.52 0-1.04.2-1.43.59L10.3 9.45l-7.72 7.72c-.78.78-.78 2.05 0 2.83L4 21.41c.39.39.9.59 1.41.59.51 0 1.02-.2 1.41-.59l7.78-7.78 2.81-2.81c.8-.78.8-2.07 0-2.86zM5.41 20L4 18.59l7.72-7.72 1.47 1.35L5.41 20z\"/>\n",
              "  </svg>\n",
              "      </button>\n",
              "      \n",
              "  <style>\n",
              "    .colab-df-container {\n",
              "      display:flex;\n",
              "      flex-wrap:wrap;\n",
              "      gap: 12px;\n",
              "    }\n",
              "\n",
              "    .colab-df-convert {\n",
              "      background-color: #E8F0FE;\n",
              "      border: none;\n",
              "      border-radius: 50%;\n",
              "      cursor: pointer;\n",
              "      display: none;\n",
              "      fill: #1967D2;\n",
              "      height: 32px;\n",
              "      padding: 0 0 0 0;\n",
              "      width: 32px;\n",
              "    }\n",
              "\n",
              "    .colab-df-convert:hover {\n",
              "      background-color: #E2EBFA;\n",
              "      box-shadow: 0px 1px 2px rgba(60, 64, 67, 0.3), 0px 1px 3px 1px rgba(60, 64, 67, 0.15);\n",
              "      fill: #174EA6;\n",
              "    }\n",
              "\n",
              "    [theme=dark] .colab-df-convert {\n",
              "      background-color: #3B4455;\n",
              "      fill: #D2E3FC;\n",
              "    }\n",
              "\n",
              "    [theme=dark] .colab-df-convert:hover {\n",
              "      background-color: #434B5C;\n",
              "      box-shadow: 0px 1px 3px 1px rgba(0, 0, 0, 0.15);\n",
              "      filter: drop-shadow(0px 1px 2px rgba(0, 0, 0, 0.3));\n",
              "      fill: #FFFFFF;\n",
              "    }\n",
              "  </style>\n",
              "\n",
              "      <script>\n",
              "        const buttonEl =\n",
              "          document.querySelector('#df-4372057f-8c52-44a8-a33c-59e0b858d873 button.colab-df-convert');\n",
              "        buttonEl.style.display =\n",
              "          google.colab.kernel.accessAllowed ? 'block' : 'none';\n",
              "\n",
              "        async function convertToInteractive(key) {\n",
              "          const element = document.querySelector('#df-4372057f-8c52-44a8-a33c-59e0b858d873');\n",
              "          const dataTable =\n",
              "            await google.colab.kernel.invokeFunction('convertToInteractive',\n",
              "                                                     [key], {});\n",
              "          if (!dataTable) return;\n",
              "\n",
              "          const docLinkHtml = 'Like what you see? Visit the ' +\n",
              "            '<a target=\"_blank\" href=https://colab.research.google.com/notebooks/data_table.ipynb>data table notebook</a>'\n",
              "            + ' to learn more about interactive tables.';\n",
              "          element.innerHTML = '';\n",
              "          dataTable['output_type'] = 'display_data';\n",
              "          await google.colab.output.renderOutput(dataTable, element);\n",
              "          const docLink = document.createElement('div');\n",
              "          docLink.innerHTML = docLinkHtml;\n",
              "          element.appendChild(docLink);\n",
              "        }\n",
              "      </script>\n",
              "    </div>\n",
              "  </div>\n",
              "  "
            ]
          },
          "metadata": {},
          "execution_count": 83
        }
      ],
      "source": [
        "client_id = int(np.random.choice(user_ids, 1))\n",
        "print(f'recommendation for client: {client_id}')\n",
        "NCF_recommendation(model, client_id, top_k=20)"
      ]
    },
    {
      "cell_type": "code",
      "source": [
        "# input: same as NCF_recommendation\n",
        "# output: top-k recommendations, recommendations include movies that have been watched\n",
        "def NCF_recommendation_eval_dcg(rec_model, client_id, top_k = 20):\n",
        "    client_encoded = user2user_encoded[client_id]\n",
        "    # movie_watched = sample_df[sample_df['userId'] == client_id]['movieId'].values\n",
        "    \n",
        "    movie_poll_encoded = []\n",
        "    for item in test.loc[test['userId'] == client_id, 'movieId']:\n",
        "        #if not np.isin(item, movie_watched):\n",
        "        movie_poll_encoded.append(movie2movie_encoded[item])\n",
        "            \n",
        "    d = {'user_encoded': [client_encoded] * len(movie_poll_encoded), 'movie_encoded' : movie_poll_encoded}\n",
        "    client_df = pd.DataFrame(d)\n",
        "    \n",
        "    ratings = rec_model.predict([client_df['user_encoded'], client_df['movie_encoded']])\n",
        "    \n",
        "    top_ratings_idx = ratings.flatten().argsort()[-top_k:][::-1]\n",
        "    top_ratings = ratings[top_ratings_idx].flatten()\n",
        "    recommend_movieId = [movie_encoded2movie.get(movie_poll_encoded[x]) for x in top_ratings_idx]\n",
        "    \n",
        "    top_movie_rec = pd.DataFrame({'movieId': recommend_movieId, 'prediction': top_ratings}).set_index('movieId')\n",
        "    top_movie_rec = top_movie_rec.join(movie_dt.set_index('movieId'))\n",
        "\n",
        "    return top_movie_rec"
      ],
      "metadata": {
        "id": "hqpzXIfVPW8O"
      },
      "execution_count": null,
      "outputs": []
    },
    {
      "cell_type": "code",
      "execution_count": null,
      "metadata": {
        "colab": {
          "base_uri": "https://localhost:8080/",
          "height": 562
        },
        "id": "oSdck2vS2Uc4",
        "outputId": "e662a051-3c56-47fa-dcee-2d986e9c6732"
      },
      "outputs": [
        {
          "output_type": "stream",
          "name": "stdout",
          "text": [
            "recommendation for client: 45817\n"
          ]
        },
        {
          "output_type": "execute_result",
          "data": {
            "text/plain": [
              "         prediction                                       title  \\\n",
              "movieId                                                           \n",
              "50         4.053559                  Usual Suspects, The (1995)   \n",
              "1222       3.884712                    Full Metal Jacket (1987)   \n",
              "1214       3.822100                                Alien (1979)   \n",
              "593        3.756588            Silence of the Lambs, The (1991)   \n",
              "541        3.607438                         Blade Runner (1982)   \n",
              "1208       3.597288                       Apocalypse Now (1979)   \n",
              "2329       3.584235                   American History X (1998)   \n",
              "47         3.582180                 Seven (a.k.a. Se7en) (1995)   \n",
              "1258       3.553072                         Shining, The (1980)   \n",
              "2324       3.552379  Life Is Beautiful (La Vita è bella) (1997)   \n",
              "1238       3.486054                           Local Hero (1983)   \n",
              "1617       3.480117                    L.A. Confidential (1997)   \n",
              "1274       3.440841                                Akira (1988)   \n",
              "3246       3.395307                            Malcolm X (1992)   \n",
              "1206       3.354553                  Clockwork Orange, A (1971)   \n",
              "\n",
              "                                    genres  \n",
              "movieId                                     \n",
              "50                  Crime|Mystery|Thriller  \n",
              "1222                             Drama|War  \n",
              "1214                         Horror|Sci-Fi  \n",
              "593                  Crime|Horror|Thriller  \n",
              "541                 Action|Sci-Fi|Thriller  \n",
              "1208                      Action|Drama|War  \n",
              "2329                           Crime|Drama  \n",
              "47                        Mystery|Thriller  \n",
              "1258                                Horror  \n",
              "2324              Comedy|Drama|Romance|War  \n",
              "1238                                Comedy  \n",
              "1617      Crime|Film-Noir|Mystery|Thriller  \n",
              "1274     Action|Adventure|Animation|Sci-Fi  \n",
              "3246                                 Drama  \n",
              "1206           Crime|Drama|Sci-Fi|Thriller  "
            ],
            "text/html": [
              "\n",
              "  <div id=\"df-68e12f89-abe4-4adf-a206-b0ee9d4bbca7\">\n",
              "    <div class=\"colab-df-container\">\n",
              "      <div>\n",
              "<style scoped>\n",
              "    .dataframe tbody tr th:only-of-type {\n",
              "        vertical-align: middle;\n",
              "    }\n",
              "\n",
              "    .dataframe tbody tr th {\n",
              "        vertical-align: top;\n",
              "    }\n",
              "\n",
              "    .dataframe thead th {\n",
              "        text-align: right;\n",
              "    }\n",
              "</style>\n",
              "<table border=\"1\" class=\"dataframe\">\n",
              "  <thead>\n",
              "    <tr style=\"text-align: right;\">\n",
              "      <th></th>\n",
              "      <th>prediction</th>\n",
              "      <th>title</th>\n",
              "      <th>genres</th>\n",
              "    </tr>\n",
              "    <tr>\n",
              "      <th>movieId</th>\n",
              "      <th></th>\n",
              "      <th></th>\n",
              "      <th></th>\n",
              "    </tr>\n",
              "  </thead>\n",
              "  <tbody>\n",
              "    <tr>\n",
              "      <th>50</th>\n",
              "      <td>4.053559</td>\n",
              "      <td>Usual Suspects, The (1995)</td>\n",
              "      <td>Crime|Mystery|Thriller</td>\n",
              "    </tr>\n",
              "    <tr>\n",
              "      <th>1222</th>\n",
              "      <td>3.884712</td>\n",
              "      <td>Full Metal Jacket (1987)</td>\n",
              "      <td>Drama|War</td>\n",
              "    </tr>\n",
              "    <tr>\n",
              "      <th>1214</th>\n",
              "      <td>3.822100</td>\n",
              "      <td>Alien (1979)</td>\n",
              "      <td>Horror|Sci-Fi</td>\n",
              "    </tr>\n",
              "    <tr>\n",
              "      <th>593</th>\n",
              "      <td>3.756588</td>\n",
              "      <td>Silence of the Lambs, The (1991)</td>\n",
              "      <td>Crime|Horror|Thriller</td>\n",
              "    </tr>\n",
              "    <tr>\n",
              "      <th>541</th>\n",
              "      <td>3.607438</td>\n",
              "      <td>Blade Runner (1982)</td>\n",
              "      <td>Action|Sci-Fi|Thriller</td>\n",
              "    </tr>\n",
              "    <tr>\n",
              "      <th>1208</th>\n",
              "      <td>3.597288</td>\n",
              "      <td>Apocalypse Now (1979)</td>\n",
              "      <td>Action|Drama|War</td>\n",
              "    </tr>\n",
              "    <tr>\n",
              "      <th>2329</th>\n",
              "      <td>3.584235</td>\n",
              "      <td>American History X (1998)</td>\n",
              "      <td>Crime|Drama</td>\n",
              "    </tr>\n",
              "    <tr>\n",
              "      <th>47</th>\n",
              "      <td>3.582180</td>\n",
              "      <td>Seven (a.k.a. Se7en) (1995)</td>\n",
              "      <td>Mystery|Thriller</td>\n",
              "    </tr>\n",
              "    <tr>\n",
              "      <th>1258</th>\n",
              "      <td>3.553072</td>\n",
              "      <td>Shining, The (1980)</td>\n",
              "      <td>Horror</td>\n",
              "    </tr>\n",
              "    <tr>\n",
              "      <th>2324</th>\n",
              "      <td>3.552379</td>\n",
              "      <td>Life Is Beautiful (La Vita è bella) (1997)</td>\n",
              "      <td>Comedy|Drama|Romance|War</td>\n",
              "    </tr>\n",
              "    <tr>\n",
              "      <th>1238</th>\n",
              "      <td>3.486054</td>\n",
              "      <td>Local Hero (1983)</td>\n",
              "      <td>Comedy</td>\n",
              "    </tr>\n",
              "    <tr>\n",
              "      <th>1617</th>\n",
              "      <td>3.480117</td>\n",
              "      <td>L.A. Confidential (1997)</td>\n",
              "      <td>Crime|Film-Noir|Mystery|Thriller</td>\n",
              "    </tr>\n",
              "    <tr>\n",
              "      <th>1274</th>\n",
              "      <td>3.440841</td>\n",
              "      <td>Akira (1988)</td>\n",
              "      <td>Action|Adventure|Animation|Sci-Fi</td>\n",
              "    </tr>\n",
              "    <tr>\n",
              "      <th>3246</th>\n",
              "      <td>3.395307</td>\n",
              "      <td>Malcolm X (1992)</td>\n",
              "      <td>Drama</td>\n",
              "    </tr>\n",
              "    <tr>\n",
              "      <th>1206</th>\n",
              "      <td>3.354553</td>\n",
              "      <td>Clockwork Orange, A (1971)</td>\n",
              "      <td>Crime|Drama|Sci-Fi|Thriller</td>\n",
              "    </tr>\n",
              "  </tbody>\n",
              "</table>\n",
              "</div>\n",
              "      <button class=\"colab-df-convert\" onclick=\"convertToInteractive('df-68e12f89-abe4-4adf-a206-b0ee9d4bbca7')\"\n",
              "              title=\"Convert this dataframe to an interactive table.\"\n",
              "              style=\"display:none;\">\n",
              "        \n",
              "  <svg xmlns=\"http://www.w3.org/2000/svg\" height=\"24px\"viewBox=\"0 0 24 24\"\n",
              "       width=\"24px\">\n",
              "    <path d=\"M0 0h24v24H0V0z\" fill=\"none\"/>\n",
              "    <path d=\"M18.56 5.44l.94 2.06.94-2.06 2.06-.94-2.06-.94-.94-2.06-.94 2.06-2.06.94zm-11 1L8.5 8.5l.94-2.06 2.06-.94-2.06-.94L8.5 2.5l-.94 2.06-2.06.94zm10 10l.94 2.06.94-2.06 2.06-.94-2.06-.94-.94-2.06-.94 2.06-2.06.94z\"/><path d=\"M17.41 7.96l-1.37-1.37c-.4-.4-.92-.59-1.43-.59-.52 0-1.04.2-1.43.59L10.3 9.45l-7.72 7.72c-.78.78-.78 2.05 0 2.83L4 21.41c.39.39.9.59 1.41.59.51 0 1.02-.2 1.41-.59l7.78-7.78 2.81-2.81c.8-.78.8-2.07 0-2.86zM5.41 20L4 18.59l7.72-7.72 1.47 1.35L5.41 20z\"/>\n",
              "  </svg>\n",
              "      </button>\n",
              "      \n",
              "  <style>\n",
              "    .colab-df-container {\n",
              "      display:flex;\n",
              "      flex-wrap:wrap;\n",
              "      gap: 12px;\n",
              "    }\n",
              "\n",
              "    .colab-df-convert {\n",
              "      background-color: #E8F0FE;\n",
              "      border: none;\n",
              "      border-radius: 50%;\n",
              "      cursor: pointer;\n",
              "      display: none;\n",
              "      fill: #1967D2;\n",
              "      height: 32px;\n",
              "      padding: 0 0 0 0;\n",
              "      width: 32px;\n",
              "    }\n",
              "\n",
              "    .colab-df-convert:hover {\n",
              "      background-color: #E2EBFA;\n",
              "      box-shadow: 0px 1px 2px rgba(60, 64, 67, 0.3), 0px 1px 3px 1px rgba(60, 64, 67, 0.15);\n",
              "      fill: #174EA6;\n",
              "    }\n",
              "\n",
              "    [theme=dark] .colab-df-convert {\n",
              "      background-color: #3B4455;\n",
              "      fill: #D2E3FC;\n",
              "    }\n",
              "\n",
              "    [theme=dark] .colab-df-convert:hover {\n",
              "      background-color: #434B5C;\n",
              "      box-shadow: 0px 1px 3px 1px rgba(0, 0, 0, 0.15);\n",
              "      filter: drop-shadow(0px 1px 2px rgba(0, 0, 0, 0.3));\n",
              "      fill: #FFFFFF;\n",
              "    }\n",
              "  </style>\n",
              "\n",
              "      <script>\n",
              "        const buttonEl =\n",
              "          document.querySelector('#df-68e12f89-abe4-4adf-a206-b0ee9d4bbca7 button.colab-df-convert');\n",
              "        buttonEl.style.display =\n",
              "          google.colab.kernel.accessAllowed ? 'block' : 'none';\n",
              "\n",
              "        async function convertToInteractive(key) {\n",
              "          const element = document.querySelector('#df-68e12f89-abe4-4adf-a206-b0ee9d4bbca7');\n",
              "          const dataTable =\n",
              "            await google.colab.kernel.invokeFunction('convertToInteractive',\n",
              "                                                     [key], {});\n",
              "          if (!dataTable) return;\n",
              "\n",
              "          const docLinkHtml = 'Like what you see? Visit the ' +\n",
              "            '<a target=\"_blank\" href=https://colab.research.google.com/notebooks/data_table.ipynb>data table notebook</a>'\n",
              "            + ' to learn more about interactive tables.';\n",
              "          element.innerHTML = '';\n",
              "          dataTable['output_type'] = 'display_data';\n",
              "          await google.colab.output.renderOutput(dataTable, element);\n",
              "          const docLink = document.createElement('div');\n",
              "          docLink.innerHTML = docLinkHtml;\n",
              "          element.appendChild(docLink);\n",
              "        }\n",
              "      </script>\n",
              "    </div>\n",
              "  </div>\n",
              "  "
            ]
          },
          "metadata": {},
          "execution_count": 85
        }
      ],
      "source": [
        "#client_id = int(np.random.choice(user_ids, 1))\n",
        "client_id = 45817\n",
        "print(f'recommendation for client: {client_id}')\n",
        "NCF_recommendation_eval_dcg(model, client_id, top_k=20)"
      ]
    },
    {
      "cell_type": "markdown",
      "source": [
        "nDCG оценка"
      ],
      "metadata": {
        "id": "WmKxKsnpVRQ-"
      }
    },
    {
      "cell_type": "code",
      "execution_count": null,
      "metadata": {
        "id": "d2lAISCH2UVG",
        "colab": {
          "base_uri": "https://localhost:8080/"
        },
        "outputId": "18f7dbf5-bc04-48e2-9351-cd81b0bc10af"
      },
      "outputs": [
        {
          "output_type": "stream",
          "name": "stdout",
          "text": [
            "0.9636964777135002\n"
          ]
        }
      ],
      "source": [
        "user_ids = test[\"userId\"].unique().tolist()\n",
        "np.random.seed(123)\n",
        "userid_random = np.random.choice(user_ids, 100, replace=False)\n",
        "rel_list = []\n",
        "\n",
        "for user in userid_random:\n",
        "    user_predictions = NCF_recommendation_eval_dcg(model, user, top_k=20)\n",
        "    recommended = []\n",
        "    rate = []\n",
        "    rel = []    \n",
        "    for movieId, row in user_predictions.iterrows():\n",
        "        real_rating = test.loc[(test['userId'] == user) & (test['movieId'] == movieId), 'rating'].item()\n",
        "        if real_rating >= 4:\n",
        "            rel.append(2)\n",
        "        elif real_rating >= 2 and real_rating < 4:\n",
        "            rel.append(1)\n",
        "        else:\n",
        "            rel.append(0)\n",
        "    rel_list.append(rel)\n",
        "\n",
        "dcg_sum = 0\n",
        "ndcg_sum = 0\n",
        "\n",
        "for r in rel_list:\n",
        "    dcg = 0\n",
        "    idcg = 0\n",
        "    for i, value in enumerate(r):\n",
        "        dcg += value/np.log(i+2)\n",
        "    r.sort(reverse=True)\n",
        "    for i, value in enumerate(r): \n",
        "        idcg += value/np.log(i+2)\n",
        "    ndcg = 0\n",
        "    if idcg != 0:\n",
        "      ndcg = dcg/idcg\n",
        "    ndcg_sum += ndcg\n",
        "\n",
        "print(ndcg_sum/len(rel_list))"
      ]
    },
    {
      "cell_type": "markdown",
      "metadata": {
        "id": "mgzziANR8hBt"
      },
      "source": [
        "#MF_ANN_Model"
      ]
    },
    {
      "cell_type": "markdown",
      "source": [
        "Ще направим експеримент с Matrix Factorization, по-конкретно NMF. Това е процес, при който матрица V се факторизира с други две матрици, като трите матрици имат само ненулеви стойности, което прави разглеждането по-лесно и е по-подходящо решение за някои проблеми. Ще използваме имплементация на NMF от Surprise. Освен Matrix Factorization ще използваме и Aproximate Nearest Neighbours (ANN). За ралика от KNN, при който се разлегждат всички точкки, при ANN търсенето на съседи започва само от начална извадка от кандидат съседи. За ANN върху вектори ще използваме библиотеката Annoy."
      ],
      "metadata": {
        "id": "ne2cdJlM4BxK"
      }
    },
    {
      "cell_type": "code",
      "execution_count": null,
      "metadata": {
        "colab": {
          "base_uri": "https://localhost:8080/"
        },
        "id": "h7Fjoqfd8vLp",
        "outputId": "c34a25e4-e5ce-45d0-e45a-4a8f2b216103"
      },
      "outputs": [
        {
          "output_type": "stream",
          "name": "stdout",
          "text": [
            "<class 'pandas.core.frame.DataFrame'>\n",
            "RangeIndex: 27753444 entries, 0 to 27753443\n",
            "Data columns (total 4 columns):\n",
            " #   Column     Dtype  \n",
            "---  ------     -----  \n",
            " 0   userId     int64  \n",
            " 1   movieId    int64  \n",
            " 2   rating     float64\n",
            " 3   timestamp  int64  \n",
            "dtypes: float64(1), int64(3)\n",
            "memory usage: 847.0 MB\n",
            "None\n"
          ]
        }
      ],
      "source": [
        "# load data\n",
        "rating_dt = pd.read_csv('drive/MyDrive/RecSys-Datasets/ml-latest-27mil-ratings/ratings.csv')\n",
        "movie_dt = pd.read_csv('drive/MyDrive/RecSys-Datasets/ml-latest-27mil-ratings/movies.csv')\n",
        "print(rating_dt.info())"
      ]
    },
    {
      "cell_type": "code",
      "execution_count": null,
      "metadata": {
        "colab": {
          "base_uri": "https://localhost:8080/",
          "height": 204
        },
        "id": "h7VCO_CW8vIU",
        "outputId": "bb65c31c-02c2-47cc-d9df-2b396ce0d383"
      },
      "outputs": [
        {
          "output_type": "execute_result",
          "data": {
            "text/plain": [
              "   userId  movieId  rating   timestamp\n",
              "0       1      307     3.5  1256677221\n",
              "1       1      481     3.5  1256677456\n",
              "2       1     1091     1.5  1256677471\n",
              "3       1     1257     4.5  1256677460\n",
              "4       1     1449     4.5  1256677264"
            ],
            "text/html": [
              "\n",
              "  <div id=\"df-3d49b949-162f-45f2-9032-70176fcf1201\">\n",
              "    <div class=\"colab-df-container\">\n",
              "      <div>\n",
              "<style scoped>\n",
              "    .dataframe tbody tr th:only-of-type {\n",
              "        vertical-align: middle;\n",
              "    }\n",
              "\n",
              "    .dataframe tbody tr th {\n",
              "        vertical-align: top;\n",
              "    }\n",
              "\n",
              "    .dataframe thead th {\n",
              "        text-align: right;\n",
              "    }\n",
              "</style>\n",
              "<table border=\"1\" class=\"dataframe\">\n",
              "  <thead>\n",
              "    <tr style=\"text-align: right;\">\n",
              "      <th></th>\n",
              "      <th>userId</th>\n",
              "      <th>movieId</th>\n",
              "      <th>rating</th>\n",
              "      <th>timestamp</th>\n",
              "    </tr>\n",
              "  </thead>\n",
              "  <tbody>\n",
              "    <tr>\n",
              "      <th>0</th>\n",
              "      <td>1</td>\n",
              "      <td>307</td>\n",
              "      <td>3.5</td>\n",
              "      <td>1256677221</td>\n",
              "    </tr>\n",
              "    <tr>\n",
              "      <th>1</th>\n",
              "      <td>1</td>\n",
              "      <td>481</td>\n",
              "      <td>3.5</td>\n",
              "      <td>1256677456</td>\n",
              "    </tr>\n",
              "    <tr>\n",
              "      <th>2</th>\n",
              "      <td>1</td>\n",
              "      <td>1091</td>\n",
              "      <td>1.5</td>\n",
              "      <td>1256677471</td>\n",
              "    </tr>\n",
              "    <tr>\n",
              "      <th>3</th>\n",
              "      <td>1</td>\n",
              "      <td>1257</td>\n",
              "      <td>4.5</td>\n",
              "      <td>1256677460</td>\n",
              "    </tr>\n",
              "    <tr>\n",
              "      <th>4</th>\n",
              "      <td>1</td>\n",
              "      <td>1449</td>\n",
              "      <td>4.5</td>\n",
              "      <td>1256677264</td>\n",
              "    </tr>\n",
              "  </tbody>\n",
              "</table>\n",
              "</div>\n",
              "      <button class=\"colab-df-convert\" onclick=\"convertToInteractive('df-3d49b949-162f-45f2-9032-70176fcf1201')\"\n",
              "              title=\"Convert this dataframe to an interactive table.\"\n",
              "              style=\"display:none;\">\n",
              "        \n",
              "  <svg xmlns=\"http://www.w3.org/2000/svg\" height=\"24px\"viewBox=\"0 0 24 24\"\n",
              "       width=\"24px\">\n",
              "    <path d=\"M0 0h24v24H0V0z\" fill=\"none\"/>\n",
              "    <path d=\"M18.56 5.44l.94 2.06.94-2.06 2.06-.94-2.06-.94-.94-2.06-.94 2.06-2.06.94zm-11 1L8.5 8.5l.94-2.06 2.06-.94-2.06-.94L8.5 2.5l-.94 2.06-2.06.94zm10 10l.94 2.06.94-2.06 2.06-.94-2.06-.94-.94-2.06-.94 2.06-2.06.94z\"/><path d=\"M17.41 7.96l-1.37-1.37c-.4-.4-.92-.59-1.43-.59-.52 0-1.04.2-1.43.59L10.3 9.45l-7.72 7.72c-.78.78-.78 2.05 0 2.83L4 21.41c.39.39.9.59 1.41.59.51 0 1.02-.2 1.41-.59l7.78-7.78 2.81-2.81c.8-.78.8-2.07 0-2.86zM5.41 20L4 18.59l7.72-7.72 1.47 1.35L5.41 20z\"/>\n",
              "  </svg>\n",
              "      </button>\n",
              "      \n",
              "  <style>\n",
              "    .colab-df-container {\n",
              "      display:flex;\n",
              "      flex-wrap:wrap;\n",
              "      gap: 12px;\n",
              "    }\n",
              "\n",
              "    .colab-df-convert {\n",
              "      background-color: #E8F0FE;\n",
              "      border: none;\n",
              "      border-radius: 50%;\n",
              "      cursor: pointer;\n",
              "      display: none;\n",
              "      fill: #1967D2;\n",
              "      height: 32px;\n",
              "      padding: 0 0 0 0;\n",
              "      width: 32px;\n",
              "    }\n",
              "\n",
              "    .colab-df-convert:hover {\n",
              "      background-color: #E2EBFA;\n",
              "      box-shadow: 0px 1px 2px rgba(60, 64, 67, 0.3), 0px 1px 3px 1px rgba(60, 64, 67, 0.15);\n",
              "      fill: #174EA6;\n",
              "    }\n",
              "\n",
              "    [theme=dark] .colab-df-convert {\n",
              "      background-color: #3B4455;\n",
              "      fill: #D2E3FC;\n",
              "    }\n",
              "\n",
              "    [theme=dark] .colab-df-convert:hover {\n",
              "      background-color: #434B5C;\n",
              "      box-shadow: 0px 1px 3px 1px rgba(0, 0, 0, 0.15);\n",
              "      filter: drop-shadow(0px 1px 2px rgba(0, 0, 0, 0.3));\n",
              "      fill: #FFFFFF;\n",
              "    }\n",
              "  </style>\n",
              "\n",
              "      <script>\n",
              "        const buttonEl =\n",
              "          document.querySelector('#df-3d49b949-162f-45f2-9032-70176fcf1201 button.colab-df-convert');\n",
              "        buttonEl.style.display =\n",
              "          google.colab.kernel.accessAllowed ? 'block' : 'none';\n",
              "\n",
              "        async function convertToInteractive(key) {\n",
              "          const element = document.querySelector('#df-3d49b949-162f-45f2-9032-70176fcf1201');\n",
              "          const dataTable =\n",
              "            await google.colab.kernel.invokeFunction('convertToInteractive',\n",
              "                                                     [key], {});\n",
              "          if (!dataTable) return;\n",
              "\n",
              "          const docLinkHtml = 'Like what you see? Visit the ' +\n",
              "            '<a target=\"_blank\" href=https://colab.research.google.com/notebooks/data_table.ipynb>data table notebook</a>'\n",
              "            + ' to learn more about interactive tables.';\n",
              "          element.innerHTML = '';\n",
              "          dataTable['output_type'] = 'display_data';\n",
              "          await google.colab.output.renderOutput(dataTable, element);\n",
              "          const docLink = document.createElement('div');\n",
              "          docLink.innerHTML = docLinkHtml;\n",
              "          element.appendChild(docLink);\n",
              "        }\n",
              "      </script>\n",
              "    </div>\n",
              "  </div>\n",
              "  "
            ]
          },
          "metadata": {},
          "execution_count": 5
        }
      ],
      "source": [
        "# randomly select 10% users from rating dataset \n",
        "user_ids = rating_dt[\"userId\"].unique().tolist() \n",
        "num_all_user = len(user_ids)\n",
        "\n",
        "np.random.seed(123)\n",
        "rand_userid = np.random.choice(user_ids, size = int(num_all_user * 0.1), replace=False)\n",
        "sample_df = rating_dt.loc[rating_dt['userId'].isin(rand_userid)]\n",
        "\n",
        "sample_df.head()"
      ]
    },
    {
      "cell_type": "markdown",
      "source": [
        "Метод за трансформиране на дейтафреймовете в csr (Compressed Sparse Row) матрица, с която забързваме процеса по умножение на матрици."
      ],
      "metadata": {
        "id": "aQvk_5bk6Ryk"
      }
    },
    {
      "cell_type": "code",
      "execution_count": null,
      "metadata": {
        "id": "e6AwlT7s8vE0"
      },
      "outputs": [],
      "source": [
        "def movie_use_matrix_pivot(df_):\n",
        "    mu_matrix = df_.pivot(index = 'userId', \n",
        "                          columns = 'movieId', \n",
        "                          values = 'rating').fillna(0)\n",
        "    # compress original matrix\n",
        "    mu_matrix_cp = csr_matrix(mu_matrix.values)\n",
        "    return mu_matrix, mu_matrix_cp\n",
        "    \n",
        "# get rating matrix\n",
        "rating_matrix, rating_matrix_cp = movie_use_matrix_pivot(sample_df)"
      ]
    },
    {
      "cell_type": "markdown",
      "source": [
        "Дефинираме метод, използвамщ NMF от Surprise за намираме латентните фактори за даден елемент."
      ],
      "metadata": {
        "id": "1aBd16Uv7FF4"
      }
    },
    {
      "cell_type": "code",
      "execution_count": null,
      "metadata": {
        "id": "Kp8dLNwi8vBN"
      },
      "outputs": [],
      "source": [
        "# input: number of latent factors - dimension; compressed rating matrix - data\n",
        "# output: return the item latent factors\n",
        "def get_item_latent_factor(dimension, matrix_cp):\n",
        "    nmf_model = NMF(n_components=dimension)\n",
        "    # Matrix factorization               \n",
        "    nmf_model.fit(matrix_cp)\n",
        "    item_vectors = nmf_model.components_.T\n",
        "    return item_vectors"
      ]
    },
    {
      "cell_type": "markdown",
      "source": [
        "Метод, връщащ RMSE за подадени данни и брой латентни фактори."
      ],
      "metadata": {
        "id": "3qIAtNVj7l9l"
      }
    },
    {
      "cell_type": "code",
      "execution_count": null,
      "metadata": {
        "id": "d-He44F78u96"
      },
      "outputs": [],
      "source": [
        "# input: data and number of factors\n",
        "# output: rmse\n",
        "def get_nmf_rmse(sample_data, num_factors):\n",
        "    reader = Reader(rating_scale=(0, 5))\n",
        "    data = Dataset.load_from_df(sample_data[['userId', 'movieId', 'rating']], reader)\n",
        "    trainset, testset = surprise_train_test_split(data, test_size=0.2)\n",
        "    algo = surprise_nmf(n_factors = num_factors)\n",
        "    predictions = algo.fit(trainset).test(testset)\n",
        "    acc = accuracy.rmse(predictions)\n",
        "    return acc"
      ]
    },
    {
      "cell_type": "markdown",
      "source": [
        "Кросвалидация"
      ],
      "metadata": {
        "id": "lLJJJeH48A97"
      }
    },
    {
      "cell_type": "code",
      "execution_count": null,
      "metadata": {
        "id": "3OPhgLYC8u6o"
      },
      "outputs": [],
      "source": [
        "# tuning number of factors with cv\n",
        "mean_scores = []\n",
        "reader = Reader(rating_scale=(0, 5))\n",
        "data = Dataset.load_from_df(sample_df[['userId', 'movieId', 'rating']], reader)\n",
        "num = [10, 14, 18, 22, 26]\n",
        "for n in [10, 14, 18, 22, 26]:\n",
        "    nmf_model = surprise_nmf(n_factors = n)\n",
        "    score = cross_validate(nmf_model, data, measures=['RMSE'], cv=3, verbose=False)['test_rmse']\n",
        "    mean_scores.append(score.mean())"
      ]
    },
    {
      "cell_type": "code",
      "execution_count": null,
      "metadata": {
        "colab": {
          "base_uri": "https://localhost:8080/"
        },
        "id": "LvKv8oR88u3U",
        "outputId": "5c6aea7d-fd7c-4852-ff14-01b05123a65c"
      },
      "outputs": [
        {
          "output_type": "execute_result",
          "data": {
            "text/plain": [
              "[0.9097010220801742,\n",
              " 0.891210309517643,\n",
              " 0.8924474364833243,\n",
              " 0.9019366698875109,\n",
              " 0.9134545230068687]"
            ]
          },
          "metadata": {},
          "execution_count": 88
        }
      ],
      "source": [
        "mean_scores"
      ]
    },
    {
      "cell_type": "markdown",
      "source": [
        "Нека видим как се променя грешката по-различните брой фактори от кросвалидацията."
      ],
      "metadata": {
        "id": "FZUOufZP8VnK"
      }
    },
    {
      "cell_type": "code",
      "execution_count": null,
      "metadata": {
        "colab": {
          "base_uri": "https://localhost:8080/"
        },
        "id": "6CcVHuOV8uwg",
        "outputId": "36ab029c-eabc-4c63-a07c-c2943b67138a"
      },
      "outputs": [
        {
          "output_type": "stream",
          "name": "stdout",
          "text": [
            "RMSE: 0.8895\n",
            "RMSE: 0.8917\n",
            "RMSE: 0.9227\n",
            "RMSE: 0.9056\n",
            "RMSE: 0.8858\n"
          ]
        },
        {
          "output_type": "execute_result",
          "data": {
            "text/plain": [
              "0.8858431502009675"
            ]
          },
          "metadata": {},
          "execution_count": 89
        }
      ],
      "source": [
        "get_nmf_rmse(sample_df, 14)\n",
        "get_nmf_rmse(sample_df, 20)\n",
        "get_nmf_rmse(sample_df, 30)\n",
        "get_nmf_rmse(sample_df, 10)\n",
        "get_nmf_rmse(sample_df, 15)"
      ]
    },
    {
      "cell_type": "code",
      "execution_count": null,
      "metadata": {
        "colab": {
          "base_uri": "https://localhost:8080/",
          "height": 455
        },
        "id": "MK91pvB08utJ",
        "outputId": "1093fd97-f820-4bee-a5dd-84ca6c753f49"
      },
      "outputs": [
        {
          "output_type": "execute_result",
          "data": {
            "text/plain": [
              "[Text(0, 0.5, 'CV rmse'),\n",
              " Text(0.5, 0, 'Number of Latent Factors in NMF'),\n",
              " Text(0.5, 1.0, '3-Fold CV')]"
            ]
          },
          "metadata": {},
          "execution_count": 90
        },
        {
          "output_type": "display_data",
          "data": {
            "text/plain": [
              "<Figure size 576x432 with 1 Axes>"
            ],
            "image/png": "[encoded data removed]"
          },
          "metadata": {}
        }
      ],
      "source": [
        "cv_result_df = pd.DataFrame({'cv_rmse': mean_scores, 'n_factors': num})\n",
        "\n",
        "fig, ax = plt.subplots(figsize=(8, 6))\n",
        "sns.pointplot(x=cv_result_df.n_factors, y=cv_result_df.cv_rmse, ax=ax)\n",
        "ax.set(xlabel='Number of Latent Factors in NMF', ylabel='CV rmse', title='3-Fold CV')"
      ]
    },
    {
      "cell_type": "markdown",
      "source": [
        "Този блок запазва модела."
      ],
      "metadata": {
        "id": "ocFA5IOA8h93"
      }
    },
    {
      "cell_type": "code",
      "execution_count": null,
      "metadata": {
        "colab": {
          "base_uri": "https://localhost:8080/"
        },
        "id": "KtXO5W428up6",
        "outputId": "39c1f9db-5ace-4fda-93fe-459b8c11662c"
      },
      "outputs": [
        {
          "name": "stderr",
          "output_type": "stream",
          "text": [
            "/usr/local/lib/python3.7/dist-packages/sklearn/decomposition/_nmf.py:294: FutureWarning: The 'init' value, when 'init=None' and n_components is less than n_samples and n_features, will be changed from 'nndsvd' to 'nndsvda' in 1.1 (renaming of 0.26).\n",
            "  FutureWarning,\n",
            "/usr/local/lib/python3.7/dist-packages/sklearn/decomposition/_nmf.py:1641: ConvergenceWarning: Maximum number of iterations 200 reached. Increase it to improve convergence.\n",
            "  ConvergenceWarning,\n"
          ]
        }
      ],
      "source": [
        "## save the best NMF model (nu_components 14)\n",
        "# nmf_model = NMF(n_components=14)     \n",
        "# nmf_model.fit(rating_matrix_cp)  \n",
        "# filename = 'nmf_model.sav'\n",
        "# pickle.dump(nmf_model, open(filename, 'wb'))"
      ]
    },
    {
      "cell_type": "markdown",
      "source": [
        "Зареждаме запазеният трениран модел."
      ],
      "metadata": {
        "id": "8JVtFHIp8_uq"
      }
    },
    {
      "cell_type": "code",
      "execution_count": null,
      "metadata": {
        "id": "nlXWJRH88umk"
      },
      "outputs": [],
      "source": [
        "filename = 'drive/MyDrive/Rec-Sys-models/nmf_model/nmf_model.sav'\n",
        "loaded_model = pickle.load(open(filename, 'rb'))\n",
        "item_vector = loaded_model.components_.T"
      ]
    },
    {
      "cell_type": "code",
      "execution_count": null,
      "metadata": {
        "colab": {
          "base_uri": "https://localhost:8080/"
        },
        "id": "m7T13AcG9kpu",
        "outputId": "c910453b-39b8-4e48-ea38-78420b4a3586"
      },
      "outputs": [
        {
          "output_type": "execute_result",
          "data": {
            "text/plain": [
              "array([[2.77368182e-01, 3.43580799e-01, 6.47565824e-01, ...,\n",
              "        1.03861537e+00, 0.00000000e+00, 3.73868206e-01],\n",
              "       [2.45976468e-01, 3.33278618e-02, 1.63579583e+00, ...,\n",
              "        0.00000000e+00, 3.72583911e-01, 4.02881513e-01],\n",
              "       [0.00000000e+00, 0.00000000e+00, 0.00000000e+00, ...,\n",
              "        0.00000000e+00, 6.26620503e-01, 0.00000000e+00],\n",
              "       ...,\n",
              "       [0.00000000e+00, 0.00000000e+00, 0.00000000e+00, ...,\n",
              "        0.00000000e+00, 7.46629648e-03, 6.41379922e-04],\n",
              "       [0.00000000e+00, 1.78406712e-03, 0.00000000e+00, ...,\n",
              "        8.92895634e-04, 0.00000000e+00, 1.27128407e-03],\n",
              "       [0.00000000e+00, 0.00000000e+00, 0.00000000e+00, ...,\n",
              "        2.17822244e-04, 0.00000000e+00, 3.57921452e-04]])"
            ]
          },
          "metadata": {},
          "execution_count": 155
        }
      ],
      "source": [
        "item_vector"
      ]
    },
    {
      "cell_type": "code",
      "execution_count": null,
      "metadata": {
        "id": "Ac4pTLBv8ujN"
      },
      "outputs": [],
      "source": [
        "# pickle.dump(item_vector, open('item_list', 'wb'))"
      ]
    },
    {
      "cell_type": "markdown",
      "source": [
        "Метод за за постряване на файл, съхраняващ данни, които използваме при ANN."
      ],
      "metadata": {
        "id": "fSiFHa4V9FpX"
      }
    },
    {
      "cell_type": "code",
      "execution_count": null,
      "metadata": {
        "id": "a4DG-hX48ugC"
      },
      "outputs": [],
      "source": [
        "# Implement Approximate Nearest Neighborhood to find similar items, save it in 'rating.ann' \n",
        "# input: target movie, rating matrix, item_vectors, metric (can be \"angular\", \"euclidean\", \"manhattan\", \"hamming\")\n",
        "# number of trees(More trees gives higher precision when querying)\n",
        "# output: save it in 'rating.ann'\n",
        "def ann(matrix, item_vectors, metric, num_trees):\n",
        "    # construct a dictionary where movied id contains its vector representation\n",
        "    movieids = matrix.columns.tolist()\n",
        "    rating_dictionary = {movieids[i]: item_vectors[i] for i in range(len(movieids))} \n",
        "    f = len(item_vectors[1])\n",
        "    t = AnnoyIndex(f, metric)\n",
        "    for key in rating_dictionary:\n",
        "        t.add_item(key, rating_dictionary.get(key))\n",
        "    t.build(num_trees)\n",
        "    filepath = 'rating' + str(num_trees) + '.ann'\n",
        "    t.save('drive/MyDrive/Rec-Sys-models/nmf_model/' + filepath)"
      ]
    },
    {
      "cell_type": "markdown",
      "source": [
        "Ще вземем само филми, които имат оценка поне 2."
      ],
      "metadata": {
        "id": "NhozQKfE9gJv"
      }
    },
    {
      "cell_type": "code",
      "execution_count": null,
      "metadata": {
        "id": "IsoQxCZ78uZY"
      },
      "outputs": [],
      "source": [
        "# input: rating dataset, userid, a rating threshold, movies that are rated below threshold\n",
        "# will not be counted \n",
        "# output: a list of high-scored movies that are rated by givern user, a list of corresponding ratings\n",
        "#\n",
        "def get_rated_movies(data, userid, threshold=2):\n",
        "    all_rates = data[data['userId'] == userid]\n",
        "    high_rates = all_rates[all_rates['rating'] >= threshold]['rating'].values\n",
        "    high_rate_movie = all_rates[all_rates['rating'] >= threshold]['movieId'].values\n",
        "    return high_rate_movie, high_rates"
      ]
    },
    {
      "cell_type": "markdown",
      "source": [
        "Метод, връщаш списък с препоръки за всеки потребител от множеството."
      ],
      "metadata": {
        "id": "gk_ENQGL-j9d"
      }
    },
    {
      "cell_type": "code",
      "execution_count": null,
      "metadata": {
        "id": "ib5zvxVv8uXC"
      },
      "outputs": [],
      "source": [
        "# input: data - orginal dataframe; dimension - number of latent factors in NMF; matrix_cp - compressed rating matrix;\n",
        "#        matrix - rating matrix; metric - distance metric in ANN method; num_tree - number of trees in ANN;\n",
        "#        threshold - rating threshold; top_n - most n similar movies\n",
        "# output: return a recommendation lsit for each user, each list consists of at most 20 movies.\n",
        "def get_recommendation(data, dimension, matrix_cp, matrix, metric, num_tree, threshold, top_n):\n",
        "    userIds = data.userId.unique()\n",
        "    v = get_item_latent_factor(dimension, rating_matrix_cp)\n",
        "    #ann(matrix, v, metric, num_tree)     # save the ann in 'rating.ann' file\n",
        "    f = len(v[1])\n",
        "    u = AnnoyIndex(f, metric)\n",
        "    filename = 'rating' + str(num_tree) + '.ann'\n",
        "    u.load('drive/MyDrive/Rec-Sys-models/nmf_model/' + filename)\n",
        "    # construct the recommendation list for each user\n",
        "    recommendation_dict = {}\n",
        "    for userid in userIds:\n",
        "        high_rate_movie, rate = get_rated_movies(data, userid, threshold)\n",
        "        movielist = []\n",
        "        distancelist = []\n",
        "        if len(high_rate_movie) > 1:\n",
        "            # find neighborhood of each movies in the high rated movie set\n",
        "            for movieid in high_rate_movie:\n",
        "                movie, dist = u.get_nns_by_item(movieid, top_n, include_distances=True)\n",
        "                movielist.extend(movie[1:])\n",
        "                # get the weighted distance based on rating scores\n",
        "                weighted_dist = (np.array(dist[1:])/rate[np.where(high_rate_movie == movieid)]).tolist()\n",
        "                distancelist.extend(weighted_dist)  \n",
        "            #if more than 20 movies are chosen to recommend to user, choose 20 nearest item for this user\n",
        "            if len(movielist) > 20:\n",
        "                sorted_recommend = np.array(movielist)[np.array(distancelist).argsort()]\n",
        "                movielist = sorted_recommend[:20]\n",
        "        recommendation_dict[userid] = movielist\n",
        "    return recommendation_dict"
      ]
    },
    {
      "cell_type": "code",
      "execution_count": null,
      "metadata": {
        "colab": {
          "base_uri": "https://localhost:8080/"
        },
        "id": "SMeDZ9Uz8uUR",
        "outputId": "19d83fae-adeb-411c-f7bc-346cb1d1efa9"
      },
      "outputs": [
        {
          "output_type": "stream",
          "name": "stderr",
          "text": [
            "/usr/local/lib/python3.7/dist-packages/sklearn/decomposition/_nmf.py:294: FutureWarning: The 'init' value, when 'init=None' and n_components is less than n_samples and n_features, will be changed from 'nndsvd' to 'nndsvda' in 1.1 (renaming of 0.26).\n",
            "  FutureWarning,\n",
            "/usr/local/lib/python3.7/dist-packages/sklearn/decomposition/_nmf.py:1641: ConvergenceWarning: Maximum number of iterations 200 reached. Increase it to improve convergence.\n",
            "  ConvergenceWarning,\n"
          ]
        }
      ],
      "source": [
        "res = get_recommendation(sample_df, 20, rating_matrix_cp, rating_matrix, 'angular', 10, 2, 10)"
      ]
    },
    {
      "cell_type": "markdown",
      "source": [
        "Метод пресмятащ hit-rate, още наречен Recall, който най-просто казано, представлява съотнешението на true postives върху all positives."
      ],
      "metadata": {
        "id": "Tdfb4mou__1o"
      }
    },
    {
      "cell_type": "code",
      "execution_count": null,
      "metadata": {
        "id": "WkvdUG6G8uRj"
      },
      "outputs": [],
      "source": [
        "# calculate hit rate\n",
        "def get_hitrate(data, dimension, matrix_cp, matrix, metric, num_tree, threshold, top_n):\n",
        "    userIds = data.userId.unique()\n",
        "    v = get_item_latent_factor(dimension, rating_matrix_cp)\n",
        "    # ann(matrix, v, metric, num_tree)     # save the ann in 'rating.ann' file\n",
        "    f = len(v[1])\n",
        "    u = AnnoyIndex(f, metric)\n",
        "    filename = 'rating' + str(num_tree) + '.ann'\n",
        "    u.load('drive/MyDrive/Rec-Sys-models/nmf_model/' + filename)\n",
        "    hit = 0\n",
        "    total = 0\n",
        "    for userid in userIds:\n",
        "        high_rate_movie, rate = get_rated_movies(data, userid, threshold)\n",
        "        movielist = []\n",
        "        distancelist = []\n",
        "        if len(high_rate_movie) > 1:\n",
        "            token = np.random.randint(len(high_rate_movie))\n",
        "            l = high_rate_movie[token]\n",
        "            new_movies = np.delete(high_rate_movie, [token])\n",
        "            new_ratings = np.delete(rate, [token])\n",
        "            # find neighborhood of each movies in the high rated movie set\n",
        "            for movieid in new_movies:\n",
        "                movie, dist = u.get_nns_by_item(movieid, top_n, include_distances=True)\n",
        "                movielist.extend(movie[1:])\n",
        "                # get the weighted distance based on rating scores\n",
        "                weighted_dist = (np.array(dist[1:])/new_ratings[np.where(new_movies == movieid)]).tolist()\n",
        "                distancelist.extend(weighted_dist)  \n",
        "            #if more than 20 movies are chosen to recommend to user, choose 20 nearest item for this user\n",
        "            if len(movielist) > 20:\n",
        "                sorted_recommend = np.array(movielist)[np.array(distancelist).argsort()]\n",
        "                movielist = sorted_recommend[:20]\n",
        "            if l in movielist:\n",
        "                hit += 1\n",
        "            total += 1\n",
        "    return hit/total"
      ]
    },
    {
      "cell_type": "code",
      "execution_count": null,
      "metadata": {
        "colab": {
          "base_uri": "https://localhost:8080/"
        },
        "id": "fDkIW1sX8uOp",
        "outputId": "5a7817e2-41ab-4714-9dd2-c8d75441ebe9"
      },
      "outputs": [
        {
          "output_type": "stream",
          "name": "stderr",
          "text": [
            "/usr/local/lib/python3.7/dist-packages/sklearn/decomposition/_nmf.py:294: FutureWarning: The 'init' value, when 'init=None' and n_components is less than n_samples and n_features, will be changed from 'nndsvd' to 'nndsvda' in 1.1 (renaming of 0.26).\n",
            "  FutureWarning,\n",
            "/usr/local/lib/python3.7/dist-packages/sklearn/decomposition/_nmf.py:1641: ConvergenceWarning: Maximum number of iterations 200 reached. Increase it to improve convergence.\n",
            "  ConvergenceWarning,\n",
            "/usr/local/lib/python3.7/dist-packages/sklearn/decomposition/_nmf.py:294: FutureWarning: The 'init' value, when 'init=None' and n_components is less than n_samples and n_features, will be changed from 'nndsvd' to 'nndsvda' in 1.1 (renaming of 0.26).\n",
            "  FutureWarning,\n",
            "/usr/local/lib/python3.7/dist-packages/sklearn/decomposition/_nmf.py:1641: ConvergenceWarning: Maximum number of iterations 200 reached. Increase it to improve convergence.\n",
            "  ConvergenceWarning,\n",
            "/usr/local/lib/python3.7/dist-packages/sklearn/decomposition/_nmf.py:294: FutureWarning: The 'init' value, when 'init=None' and n_components is less than n_samples and n_features, will be changed from 'nndsvd' to 'nndsvda' in 1.1 (renaming of 0.26).\n",
            "  FutureWarning,\n",
            "/usr/local/lib/python3.7/dist-packages/sklearn/decomposition/_nmf.py:1641: ConvergenceWarning: Maximum number of iterations 200 reached. Increase it to improve convergence.\n",
            "  ConvergenceWarning,\n",
            "/usr/local/lib/python3.7/dist-packages/sklearn/decomposition/_nmf.py:294: FutureWarning: The 'init' value, when 'init=None' and n_components is less than n_samples and n_features, will be changed from 'nndsvd' to 'nndsvda' in 1.1 (renaming of 0.26).\n",
            "  FutureWarning,\n",
            "/usr/local/lib/python3.7/dist-packages/sklearn/decomposition/_nmf.py:1641: ConvergenceWarning: Maximum number of iterations 200 reached. Increase it to improve convergence.\n",
            "  ConvergenceWarning,\n",
            "/usr/local/lib/python3.7/dist-packages/sklearn/decomposition/_nmf.py:294: FutureWarning: The 'init' value, when 'init=None' and n_components is less than n_samples and n_features, will be changed from 'nndsvd' to 'nndsvda' in 1.1 (renaming of 0.26).\n",
            "  FutureWarning,\n",
            "/usr/local/lib/python3.7/dist-packages/sklearn/decomposition/_nmf.py:1641: ConvergenceWarning: Maximum number of iterations 200 reached. Increase it to improve convergence.\n",
            "  ConvergenceWarning,\n"
          ]
        }
      ],
      "source": [
        "# hit rate for different number of trees\n",
        "trees = [10, 15, 20, 25, 30]\n",
        "hit_rate_list = []\n",
        "for tree in trees:\n",
        "    h = get_hitrate(sample_df, 14, rating_matrix_cp, rating_matrix, 'angular', tree, 3, 10)\n",
        "    hit_rate_list.append(h)"
      ]
    },
    {
      "cell_type": "code",
      "execution_count": null,
      "metadata": {
        "colab": {
          "base_uri": "https://localhost:8080/"
        },
        "id": "VtwGcO7W9_PY",
        "outputId": "76bfde7f-7427-4623-bc8d-ec62c91b1f79"
      },
      "outputs": [
        {
          "output_type": "execute_result",
          "data": {
            "text/plain": [
              "[0.04592188919164396,\n",
              " 0.04980926430517711,\n",
              " 0.047447774750227066,\n",
              " 0.048973660308810174,\n",
              " 0.04617620345140781]"
            ]
          },
          "metadata": {},
          "execution_count": 69
        }
      ],
      "source": [
        "hit_rate_list"
      ]
    },
    {
      "cell_type": "code",
      "execution_count": null,
      "metadata": {
        "colab": {
          "base_uri": "https://localhost:8080/",
          "height": 455
        },
        "id": "TQCcBYo89_Lg",
        "outputId": "7a86c3be-fb5c-4f72-ac61-08ee782f4340"
      },
      "outputs": [
        {
          "output_type": "execute_result",
          "data": {
            "text/plain": [
              "[Text(0, 0.5, 'Hit Rate'),\n",
              " Text(0.5, 0, 'Number of Trees'),\n",
              " Text(0.5, 1.0, 'Number of Trees in ANN')]"
            ]
          },
          "metadata": {},
          "execution_count": 70
        },
        {
          "output_type": "display_data",
          "data": {
            "text/plain": [
              "<Figure size 576x432 with 1 Axes>"
            ],
            "image/png": "[encoded data removed]"
          },
          "metadata": {}
        }
      ],
      "source": [
        "trees = [10, 15, 20, 25, 30]\n",
        "hit_rate_list = [0.04645785918138796, 0.04667461435641776, 0.04793901954409162, 0.04786676781908168, 0.04765001264405188]\n",
        "cv_result_df2 = pd.DataFrame({'hit_rate': hit_rate_list, 'n_trees': trees})\n",
        "\n",
        "fig, ax = plt.subplots(figsize=(8, 6))\n",
        "sns.set_style('whitegrid')\n",
        "sns.pointplot(x=cv_result_df2.n_trees, y=cv_result_df2.hit_rate, ax=ax)\n",
        "ax.set(xlabel='Number of Trees', ylabel='Hit Rate', title='Number of Trees in ANN')"
      ]
    },
    {
      "cell_type": "code",
      "execution_count": null,
      "metadata": {
        "id": "mVVFpgvM9-41"
      },
      "outputs": [],
      "source": [
        "# display the recommendation list\n",
        "loaded_model = pickle.load(open('drive/MyDrive/Rec-Sys-models/nmf_model/nmf_model.sav', 'rb'))\n",
        "item_vector = loaded_model.components_.T\n",
        "def get_recommendation(data, dimension, matrix_cp, matrix, metric, num_tree, threshold, top_n):\n",
        "    userIds = data.userId.unique()\n",
        "    v = item_vector\n",
        "    ann(matrix, v, metric, num_tree)     # save the ann in 'rating.ann' file\n",
        "    f = len(v[1])\n",
        "    u = AnnoyIndex(f, metric)\n",
        "    filename = 'rating' + str(num_tree) + '.ann'\n",
        "    u.load('drive/MyDrive/Rec-Sys-models/nmf_model/' + filename)\n",
        "    # construct the recommendation list for each user\n",
        "    recommendation_dict = {}\n",
        "    for userid in userIds:\n",
        "        high_rate_movie, rate = get_rated_movies(data, userid, threshold)\n",
        "        movielist = []\n",
        "        distancelist = []\n",
        "        if len(high_rate_movie) > 1:\n",
        "            # find neighborhood of each movies in the high rated movie set\n",
        "            for movieid in high_rate_movie:\n",
        "                movie, dist = u.get_nns_by_item(movieid, top_n, include_distances=True)\n",
        "                movielist.extend(movie[1:])\n",
        "                # get the weighted distance based on rating scores\n",
        "                weighted_dist = (np.array(dist[1:])/rate[np.where(high_rate_movie == movieid)]).tolist()\n",
        "                distancelist.extend(weighted_dist)  \n",
        "            #if more than 20 movies are chosen to recommend to user, choose 20 nearest item for this user\n",
        "            if len(movielist) > 20:\n",
        "                sorted_recommend = np.array(movielist)[np.array(distancelist).argsort()]\n",
        "                movielist = sorted_recommend[:20]\n",
        "        recommendation_dict[userid] = movielist\n",
        "    return recommendation_dict\n",
        "recommendationn_list = get_recommendation(sample_df, 14, rating_matrix_cp, rating_matrix, 'angular', 20, 2, 10)"
      ]
    },
    {
      "cell_type": "markdown",
      "source": [
        "Нека видим препоръките на филми за някой юзър."
      ],
      "metadata": {
        "id": "_jzZNvuxBUn2"
      }
    },
    {
      "cell_type": "code",
      "execution_count": null,
      "metadata": {
        "id": "wmycIPbS9-2O",
        "colab": {
          "base_uri": "https://localhost:8080/",
          "height": 686
        },
        "outputId": "2c616c96-9076-4c4f-e2e4-bd050e382f0b"
      },
      "outputs": [
        {
          "output_type": "stream",
          "name": "stdout",
          "text": [
            "recommendation for client: 177984\n"
          ]
        },
        {
          "output_type": "execute_result",
          "data": {
            "text/plain": [
              "       movieId                                              title  \\\n",
              "315        318                   Shawshank Redemption, The (1994)   \n",
              "523        527                            Schindler's List (1993)   \n",
              "587        593                   Silence of the Lambs, The (1991)   \n",
              "1058      1080                Monty Python's Life of Brian (1979)   \n",
              "1230      1258                                Shining, The (1980)   \n",
              "2598      2683       Austin Powers: The Spy Who Shagged Me (1999)   \n",
              "3122      3208  Loaded Weapon 1 (National Lampoon's Loaded Wea...   \n",
              "3422      3511                             Ready to Rumble (2000)   \n",
              "3473      3563                        Crow: Salvation, The (2000)   \n",
              "4114      4207                                  Navy Seals (1990)   \n",
              "4520      4614                                   Kickboxer (1989)   \n",
              "4945      5040                         Conan the Destroyer (1984)   \n",
              "8244      8927                                  Cannonball (1976)   \n",
              "11549    49953                                  Caravaggio (1986)   \n",
              "12740    59844  Honor Among Thieves (Adieu l'ami) (Farewell, F...   \n",
              "19570    96451         Man Is Not a Bird (Covek nije tica) (1965)   \n",
              "29613   128429              What Have You Done to Solange? (1972)   \n",
              "29744   128750                               Spy, Stand Up (1982)   \n",
              "48856   172903                                   Diversant (2004)   \n",
              "49030   173267                                     Red Sun (1971)   \n",
              "\n",
              "                                              genres  \n",
              "315                                      Crime|Drama  \n",
              "523                                        Drama|War  \n",
              "587                            Crime|Horror|Thriller  \n",
              "1058                                          Comedy  \n",
              "1230                                          Horror  \n",
              "2598                         Action|Adventure|Comedy  \n",
              "3122                                   Action|Comedy  \n",
              "3422                                          Comedy  \n",
              "3473                                   Action|Horror  \n",
              "4114                            Action|Adventure|War  \n",
              "4520                                          Action  \n",
              "4945                        Action|Adventure|Fantasy  \n",
              "8244                             Action|Comedy|Drama  \n",
              "11549                                          Drama  \n",
              "12740  Action|Adventure|Crime|Drama|Mystery|Thriller  \n",
              "19570                                  Drama|Romance  \n",
              "29613                                          Crime  \n",
              "29744                                       Thriller  \n",
              "48856                             (no genres listed)  \n",
              "49030                                 Action|Western  "
            ],
            "text/html": [
              "\n",
              "  <div id=\"df-101e1444-09cc-4966-94fe-210119815e11\">\n",
              "    <div class=\"colab-df-container\">\n",
              "      <div>\n",
              "<style scoped>\n",
              "    .dataframe tbody tr th:only-of-type {\n",
              "        vertical-align: middle;\n",
              "    }\n",
              "\n",
              "    .dataframe tbody tr th {\n",
              "        vertical-align: top;\n",
              "    }\n",
              "\n",
              "    .dataframe thead th {\n",
              "        text-align: right;\n",
              "    }\n",
              "</style>\n",
              "<table border=\"1\" class=\"dataframe\">\n",
              "  <thead>\n",
              "    <tr style=\"text-align: right;\">\n",
              "      <th></th>\n",
              "      <th>movieId</th>\n",
              "      <th>title</th>\n",
              "      <th>genres</th>\n",
              "    </tr>\n",
              "  </thead>\n",
              "  <tbody>\n",
              "    <tr>\n",
              "      <th>315</th>\n",
              "      <td>318</td>\n",
              "      <td>Shawshank Redemption, The (1994)</td>\n",
              "      <td>Crime|Drama</td>\n",
              "    </tr>\n",
              "    <tr>\n",
              "      <th>523</th>\n",
              "      <td>527</td>\n",
              "      <td>Schindler's List (1993)</td>\n",
              "      <td>Drama|War</td>\n",
              "    </tr>\n",
              "    <tr>\n",
              "      <th>587</th>\n",
              "      <td>593</td>\n",
              "      <td>Silence of the Lambs, The (1991)</td>\n",
              "      <td>Crime|Horror|Thriller</td>\n",
              "    </tr>\n",
              "    <tr>\n",
              "      <th>1058</th>\n",
              "      <td>1080</td>\n",
              "      <td>Monty Python's Life of Brian (1979)</td>\n",
              "      <td>Comedy</td>\n",
              "    </tr>\n",
              "    <tr>\n",
              "      <th>1230</th>\n",
              "      <td>1258</td>\n",
              "      <td>Shining, The (1980)</td>\n",
              "      <td>Horror</td>\n",
              "    </tr>\n",
              "    <tr>\n",
              "      <th>2598</th>\n",
              "      <td>2683</td>\n",
              "      <td>Austin Powers: The Spy Who Shagged Me (1999)</td>\n",
              "      <td>Action|Adventure|Comedy</td>\n",
              "    </tr>\n",
              "    <tr>\n",
              "      <th>3122</th>\n",
              "      <td>3208</td>\n",
              "      <td>Loaded Weapon 1 (National Lampoon's Loaded Wea...</td>\n",
              "      <td>Action|Comedy</td>\n",
              "    </tr>\n",
              "    <tr>\n",
              "      <th>3422</th>\n",
              "      <td>3511</td>\n",
              "      <td>Ready to Rumble (2000)</td>\n",
              "      <td>Comedy</td>\n",
              "    </tr>\n",
              "    <tr>\n",
              "      <th>3473</th>\n",
              "      <td>3563</td>\n",
              "      <td>Crow: Salvation, The (2000)</td>\n",
              "      <td>Action|Horror</td>\n",
              "    </tr>\n",
              "    <tr>\n",
              "      <th>4114</th>\n",
              "      <td>4207</td>\n",
              "      <td>Navy Seals (1990)</td>\n",
              "      <td>Action|Adventure|War</td>\n",
              "    </tr>\n",
              "    <tr>\n",
              "      <th>4520</th>\n",
              "      <td>4614</td>\n",
              "      <td>Kickboxer (1989)</td>\n",
              "      <td>Action</td>\n",
              "    </tr>\n",
              "    <tr>\n",
              "      <th>4945</th>\n",
              "      <td>5040</td>\n",
              "      <td>Conan the Destroyer (1984)</td>\n",
              "      <td>Action|Adventure|Fantasy</td>\n",
              "    </tr>\n",
              "    <tr>\n",
              "      <th>8244</th>\n",
              "      <td>8927</td>\n",
              "      <td>Cannonball (1976)</td>\n",
              "      <td>Action|Comedy|Drama</td>\n",
              "    </tr>\n",
              "    <tr>\n",
              "      <th>11549</th>\n",
              "      <td>49953</td>\n",
              "      <td>Caravaggio (1986)</td>\n",
              "      <td>Drama</td>\n",
              "    </tr>\n",
              "    <tr>\n",
              "      <th>12740</th>\n",
              "      <td>59844</td>\n",
              "      <td>Honor Among Thieves (Adieu l'ami) (Farewell, F...</td>\n",
              "      <td>Action|Adventure|Crime|Drama|Mystery|Thriller</td>\n",
              "    </tr>\n",
              "    <tr>\n",
              "      <th>19570</th>\n",
              "      <td>96451</td>\n",
              "      <td>Man Is Not a Bird (Covek nije tica) (1965)</td>\n",
              "      <td>Drama|Romance</td>\n",
              "    </tr>\n",
              "    <tr>\n",
              "      <th>29613</th>\n",
              "      <td>128429</td>\n",
              "      <td>What Have You Done to Solange? (1972)</td>\n",
              "      <td>Crime</td>\n",
              "    </tr>\n",
              "    <tr>\n",
              "      <th>29744</th>\n",
              "      <td>128750</td>\n",
              "      <td>Spy, Stand Up (1982)</td>\n",
              "      <td>Thriller</td>\n",
              "    </tr>\n",
              "    <tr>\n",
              "      <th>48856</th>\n",
              "      <td>172903</td>\n",
              "      <td>Diversant (2004)</td>\n",
              "      <td>(no genres listed)</td>\n",
              "    </tr>\n",
              "    <tr>\n",
              "      <th>49030</th>\n",
              "      <td>173267</td>\n",
              "      <td>Red Sun (1971)</td>\n",
              "      <td>Action|Western</td>\n",
              "    </tr>\n",
              "  </tbody>\n",
              "</table>\n",
              "</div>\n",
              "      <button class=\"colab-df-convert\" onclick=\"convertToInteractive('df-101e1444-09cc-4966-94fe-210119815e11')\"\n",
              "              title=\"Convert this dataframe to an interactive table.\"\n",
              "              style=\"display:none;\">\n",
              "        \n",
              "  <svg xmlns=\"http://www.w3.org/2000/svg\" height=\"24px\"viewBox=\"0 0 24 24\"\n",
              "       width=\"24px\">\n",
              "    <path d=\"M0 0h24v24H0V0z\" fill=\"none\"/>\n",
              "    <path d=\"M18.56 5.44l.94 2.06.94-2.06 2.06-.94-2.06-.94-.94-2.06-.94 2.06-2.06.94zm-11 1L8.5 8.5l.94-2.06 2.06-.94-2.06-.94L8.5 2.5l-.94 2.06-2.06.94zm10 10l.94 2.06.94-2.06 2.06-.94-2.06-.94-.94-2.06-.94 2.06-2.06.94z\"/><path d=\"M17.41 7.96l-1.37-1.37c-.4-.4-.92-.59-1.43-.59-.52 0-1.04.2-1.43.59L10.3 9.45l-7.72 7.72c-.78.78-.78 2.05 0 2.83L4 21.41c.39.39.9.59 1.41.59.51 0 1.02-.2 1.41-.59l7.78-7.78 2.81-2.81c.8-.78.8-2.07 0-2.86zM5.41 20L4 18.59l7.72-7.72 1.47 1.35L5.41 20z\"/>\n",
              "  </svg>\n",
              "      </button>\n",
              "      \n",
              "  <style>\n",
              "    .colab-df-container {\n",
              "      display:flex;\n",
              "      flex-wrap:wrap;\n",
              "      gap: 12px;\n",
              "    }\n",
              "\n",
              "    .colab-df-convert {\n",
              "      background-color: #E8F0FE;\n",
              "      border: none;\n",
              "      border-radius: 50%;\n",
              "      cursor: pointer;\n",
              "      display: none;\n",
              "      fill: #1967D2;\n",
              "      height: 32px;\n",
              "      padding: 0 0 0 0;\n",
              "      width: 32px;\n",
              "    }\n",
              "\n",
              "    .colab-df-convert:hover {\n",
              "      background-color: #E2EBFA;\n",
              "      box-shadow: 0px 1px 2px rgba(60, 64, 67, 0.3), 0px 1px 3px 1px rgba(60, 64, 67, 0.15);\n",
              "      fill: #174EA6;\n",
              "    }\n",
              "\n",
              "    [theme=dark] .colab-df-convert {\n",
              "      background-color: #3B4455;\n",
              "      fill: #D2E3FC;\n",
              "    }\n",
              "\n",
              "    [theme=dark] .colab-df-convert:hover {\n",
              "      background-color: #434B5C;\n",
              "      box-shadow: 0px 1px 3px 1px rgba(0, 0, 0, 0.15);\n",
              "      filter: drop-shadow(0px 1px 2px rgba(0, 0, 0, 0.3));\n",
              "      fill: #FFFFFF;\n",
              "    }\n",
              "  </style>\n",
              "\n",
              "      <script>\n",
              "        const buttonEl =\n",
              "          document.querySelector('#df-101e1444-09cc-4966-94fe-210119815e11 button.colab-df-convert');\n",
              "        buttonEl.style.display =\n",
              "          google.colab.kernel.accessAllowed ? 'block' : 'none';\n",
              "\n",
              "        async function convertToInteractive(key) {\n",
              "          const element = document.querySelector('#df-101e1444-09cc-4966-94fe-210119815e11');\n",
              "          const dataTable =\n",
              "            await google.colab.kernel.invokeFunction('convertToInteractive',\n",
              "                                                     [key], {});\n",
              "          if (!dataTable) return;\n",
              "\n",
              "          const docLinkHtml = 'Like what you see? Visit the ' +\n",
              "            '<a target=\"_blank\" href=https://colab.research.google.com/notebooks/data_table.ipynb>data table notebook</a>'\n",
              "            + ' to learn more about interactive tables.';\n",
              "          element.innerHTML = '';\n",
              "          dataTable['output_type'] = 'display_data';\n",
              "          await google.colab.output.renderOutput(dataTable, element);\n",
              "          const docLink = document.createElement('div');\n",
              "          docLink.innerHTML = docLinkHtml;\n",
              "          element.appendChild(docLink);\n",
              "        }\n",
              "      </script>\n",
              "    </div>\n",
              "  </div>\n",
              "  "
            ]
          },
          "metadata": {},
          "execution_count": 56
        }
      ],
      "source": [
        "# user_id = int(np.random.choice(sample_df.userId.unique(), 1))\n",
        "user_id = 177984\n",
        "print(f'recommendation for client: {user_id}')\n",
        "movies = recommendationn_list[user_id]\n",
        "movie_dt.loc[movie_dt['movieId'].isin(movies)]"
      ]
    },
    {
      "cell_type": "markdown",
      "source": [
        "Нека пресметнем раличните RMSE грешки по-различните юзър групи по активност."
      ],
      "metadata": {
        "id": "eRVvoqVA_UJp"
      }
    },
    {
      "cell_type": "code",
      "execution_count": null,
      "metadata": {
        "id": "jYM0f2Qi9-zn",
        "colab": {
          "base_uri": "https://localhost:8080/"
        },
        "outputId": "ed270b82-c47a-4b00-f544-fa469d6a5d0e"
      },
      "outputs": [
        {
          "output_type": "stream",
          "name": "stdout",
          "text": [
            "RMSE: 1.2461\n",
            "RMSE: 1.1457\n",
            "RMSE: 1.0082\n",
            "RMSE: 0.9679\n",
            "RMSE: 0.9320\n",
            "RMSE: 0.8623\n"
          ]
        }
      ],
      "source": [
        "\n",
        "user_counts = sample_df.groupby('userId').size()\n",
        "active_levels = ['<10', '10-20', '20-50', '50-80', '80-150', '>150']\n",
        "\n",
        "user_counts_levels = dict.fromkeys(active_levels, None)\n",
        "user_counts_levels['<10'] = user_counts[user_counts < 10]\n",
        "user_counts_levels['10-20'] = user_counts[(user_counts >= 10) & (user_counts < 20)]\n",
        "user_counts_levels['20-50'] = user_counts[(user_counts >= 20) & (user_counts < 50)]\n",
        "user_counts_levels['50-80'] = user_counts[(user_counts >= 50) & (user_counts < 80)]\n",
        "user_counts_levels['80-150'] = user_counts[(user_counts >= 80) & (user_counts < 150)]\n",
        "user_counts_levels['>150'] = user_counts[user_counts >= 150]\n",
        "\n",
        "user_level_rmse = []\n",
        "for key in active_levels:\n",
        "    indices = user_counts_levels[key].index.tolist()\n",
        "    pred_df = sample_df[sample_df['userId'].isin(indices)]\n",
        "    rmse = get_nmf_rmse(pred_df, 14)\n",
        "    user_level_rmse.append(rmse)"
      ]
    },
    {
      "cell_type": "code",
      "execution_count": null,
      "metadata": {
        "id": "DqtPwWZT9-x8",
        "colab": {
          "base_uri": "https://localhost:8080/",
          "height": 455
        },
        "outputId": "6f971441-91f8-4de8-981e-f00d6b383187"
      },
      "outputs": [
        {
          "output_type": "execute_result",
          "data": {
            "text/plain": [
              "[Text(0, 0.5, 'RMSE'),\n",
              " Text(0.5, 0, 'User Count Level'),\n",
              " Text(0.5, 1.0, 'Number of User Rating and RMSE in NMF')]"
            ]
          },
          "metadata": {},
          "execution_count": 60
        },
        {
          "output_type": "display_data",
          "data": {
            "text/plain": [
              "<Figure size 576x432 with 1 Axes>"
            ],
            "image/png": "[encoded data removed]"
          },
          "metadata": {
            "needs_background": "light"
          }
        }
      ],
      "source": [
        "# user_level_rmse = [1.2398, 1.1411, 1.0097, 0.9617, 0.9261, 0.8583]\n",
        "cv_result_df3 = pd.DataFrame({'rmse': user_level_rmse, 'user_count_level': active_levels})\n",
        "\n",
        "fig, ax = plt.subplots(figsize=(8, 6))\n",
        "sns.set_style('whitegrid')\n",
        "sns.pointplot(x=cv_result_df3.user_count_level, y=cv_result_df3.rmse, ax=ax)\n",
        "ax.set(xlabel='User Count Level', ylabel='RMSE', title='Number of User Rating and RMSE in NMF')"
      ]
    },
    {
      "cell_type": "code",
      "execution_count": null,
      "metadata": {
        "id": "MT0YvlZw9-oD",
        "colab": {
          "base_uri": "https://localhost:8080/"
        },
        "outputId": "6285e2ed-cefc-4040-d9e1-c095f42764d5"
      },
      "outputs": [
        {
          "output_type": "execute_result",
          "data": {
            "text/plain": [
              "27374"
            ]
          },
          "metadata": {},
          "execution_count": 61
        }
      ],
      "source": [
        "user_df = sample_df.loc[sample_df['userId'].isin(user_ids)]\n",
        "movies = set(user_df['movieId'])\n",
        "len(movies)"
      ]
    },
    {
      "cell_type": "markdown",
      "source": [
        "nDCG оценка"
      ],
      "metadata": {
        "id": "G9sOo1LdBcPM"
      }
    },
    {
      "cell_type": "code",
      "source": [
        "\n",
        "np.random.seed(123)\n",
        "userid_random = np.random.choice(sample_df['userId'], 100, replace=False)\n",
        "rel_list = []\n",
        "for user in userid_random:\n",
        "    recommended = recommendationn_list[user]\n",
        "    rated_movie = sample_df.loc[sample_df['userId'] == user]\n",
        "    rated_movie_ids = rated_movie['movieId'].tolist()\n",
        "    rel = []\n",
        "    for index, item in enumerate(recommended):\n",
        "        if item in rated_movie_ids:\n",
        "            movie_rating = rated_movie.loc[rated_movie['movieId'] == item, 'rating'].item()\n",
        "            if movie_rating >= 4:\n",
        "                rel.append(2)\n",
        "            elif movie_rating >= 2 and movie_rating < 4:\n",
        "                rel.append(1)\n",
        "            else:\n",
        "                rel.append(0)\n",
        "    rel_list.append(rel)\n",
        "ndcg_sum = 0\n",
        "for r in rel_list:\n",
        "    dcg = 0\n",
        "    idcg = 0\n",
        "    for i, value in enumerate(r):\n",
        "        dcg += value/np.log(i+2)\n",
        "    r.sort(reverse=True)\n",
        "    for i, value in enumerate(r): \n",
        "        idcg += value/np.log(i+2)\n",
        "    ndcg = 0\n",
        "    if idcg != 0:\n",
        "      ndcg = dcg/idcg\n",
        "    ndcg_sum += ndcg\n",
        "\n",
        "print(ndcg_sum/len(rel_list))"
      ],
      "metadata": {
        "colab": {
          "base_uri": "https://localhost:8080/"
        },
        "id": "WuiXUR8Akify",
        "outputId": "e672191d-e0fd-4b9f-b6cb-5a78382b559d"
      },
      "execution_count": null,
      "outputs": [
        {
          "output_type": "stream",
          "name": "stdout",
          "text": [
            "0.5410677935442871\n"
          ]
        }
      ]
    },
    {
      "cell_type": "markdown",
      "metadata": {
        "id": "CNarZWJh_n5c"
      },
      "source": [
        "#Hybrid system"
      ]
    },
    {
      "cell_type": "markdown",
      "source": [
        "Поради рънтайм ограничения няма да използваме целият дейтасет, а на случаен принцип ще изберем 10% от потребителите и ще имплментираме switching модел, в който потребителите биват насочeни към различни препоръки зависимост от профила им.\n",
        "\n",
        "В нашият хибриден модел ще използваме три различни алгоритъма в зависимост от потрбителския профил:\n",
        "- за нови потребители (cold-start), препоръчваме top-k филми с най-висок рейтинг и най-голям брой рейтинги.\n",
        "- за потребители, които са оценили по-малко от 50 филма, препоръчваме само с NCF\n",
        "- за потрбители, оценили между 50 и 150 филма, препоръчваме с NCF и ANN, като NCF има по-голяма тежест\n",
        "- за потребители с повече от 150 рейтинга на филми , препоръчваме отново с двата модела като имат равна тежест\n",
        "\n",
        "Тъй като моделът ни главно се фокусира върху съществуващи потребители, препоръчваме популярни и най-високо рейтнати филми за нови потребители с цел простота. Наблюдавахме поведението на NCF и АNN модела върху потребители с различни нива на участие и открихме, че NCF моделът се представя по-добре от всички други модели, когато потребителският профил е ограничен. Поради тази причина даваме повече тежест при препоръки за потребители, които са оценили по-малко от 150 филма."
      ],
      "metadata": {
        "id": "I6J1R5DLB5jF"
      }
    },
    {
      "cell_type": "code",
      "execution_count": null,
      "metadata": {
        "id": "FMmGTdTP_xVT"
      },
      "outputs": [],
      "source": [
        "rating_dt = pd.read_csv('drive/MyDrive/RecSys-Datasets/ml-latest-27mil-ratings/ratings.csv')\n",
        "movie_dt = pd.read_csv('drive/MyDrive/RecSys-Datasets/ml-latest-27mil-ratings/movies.csv')"
      ]
    },
    {
      "cell_type": "code",
      "execution_count": null,
      "metadata": {
        "id": "OKmm8gwn_xSt"
      },
      "outputs": [],
      "source": [
        "# This is the Ensemble method that combines NCF DL model with MF-ANN model.\n",
        "# The ensemble recommender loads and takes recommendations from two pre-trained model,\n",
        "#    and make recommendation based on user's profile by feeding the user into different model,\n",
        "#    or add weights to each recommendation to make the final recommendation\n",
        "\n",
        "class EnsembleRecommender():\n",
        "    def __init__(self,rating_df,movie_df, rating_matrix, item_vector):\n",
        "        # class initializer input: - rating_df  a user rating dataframe, containing 'userIds', 'movieIds', 'rating'\n",
        "        #                          - movie_df   a movie info dataframe, containing 'movieIds', 'title', 'genre'\n",
        "        #                          - userId     a single userId that the model is recommending for\n",
        "        #                          - rating_martrix    a user-movie matrix\n",
        "        #                          - item_vector       the vector representation of each movie learned by MF\n",
        "        #\n",
        "        # initialize the variables for recommendation functions\n",
        "        self.rating_df = rating_df\n",
        "        self.movie_df = movie_df\n",
        "        self.user_ids = rating_df['userId'].unique()\n",
        "        self.movie_ids = rating_df['movieId'].unique()\n",
        "        self.user2user_encoded = {x: i for i, x in enumerate(self.user_ids)}\n",
        "        self.movie2movie_encoded = {x: i for i, x in enumerate(self.movie_ids)}\n",
        "        self.movie_encoded2movie = {i: x for i, x in enumerate(self.movie_ids)}\n",
        "        self.rating_matrix = rating_matrix\n",
        "        self.item_vector = item_vector\n",
        "        \n",
        "\n",
        "    def NCF_recommendation(self,userId,dcg_eval, top_k=20):\n",
        "        # make recommendation based on NCF model\n",
        "        # input: - top_k  the number of recommendations made\n",
        "        #        - userId     a single userId that the model is recommending for\n",
        "        # output: a dataframe containing index as 'movieId','prediction','title','genre'\n",
        "        \n",
        "        # load the pre-trained NCF model\n",
        "        model =  tf.keras.models.load_model('drive/MyDrive/Rec-Sys-models/dl_model.h5')\n",
        "        \n",
        "        # get the encoded userId\n",
        "        client_encoded = self.user2user_encoded[userId]\n",
        "        \n",
        "        # get user rated movies\n",
        "        movie_watched = self.rating_df[self.rating_df['userId'] == userId]['movieId'].values\n",
        "        \n",
        "        # get the movies user have not rated in which the NCF  will recommend \n",
        "        movie_poll_encoded = []\n",
        "        if dcg_eval:\n",
        "          for item in self.movie_ids:\n",
        "              movie_poll_encoded.append(self.movie2movie_encoded[item])\n",
        "        else:\n",
        "          for item in self.movie_ids:\n",
        "              if not np.isin(item, movie_watched):\n",
        "                  movie_poll_encoded.append(self.movie2movie_encoded[item])\n",
        "\n",
        "        \n",
        "        # encode the unrated movies into a dataframe\n",
        "        d = {'user_encoded': [client_encoded] * len(movie_poll_encoded), 'movie_encoded' : movie_poll_encoded}\n",
        "        client_df = pd.DataFrame(d)\n",
        "        \n",
        "        # use the model to predict user's rating on these movies\n",
        "        ratings = model.predict([client_df['user_encoded'], client_df['movie_encoded']])\n",
        "        \n",
        "        # sort the movies according to the predicted ratings and take top k\n",
        "        top_ratings_idx = ratings.flatten().argsort()[-top_k:][::-1]\n",
        "        top_ratings = ratings[top_ratings_idx].flatten()\n",
        "        recommend_movieId = [self.movie_encoded2movie.get(movie_poll_encoded[x]) for x in top_ratings_idx]\n",
        "        \n",
        "        # format the output for better user experience\n",
        "        top_movie_rec = pd.DataFrame({'movieId': recommend_movieId, 'prediction': top_ratings}).set_index('movieId')\n",
        "        top_movie_rec = top_movie_rec.join(self.movie_df.set_index('movieId'))\n",
        "        \n",
        "        return top_movie_rec[['title','genres']]\n",
        "    \n",
        "    \n",
        "    # make recommendation based on MF-ANN model\n",
        "    def get_rated_movies(self,userId,threshold=2):    \n",
        "        # input:  userid, a rating threshold, movies that are rated below threshold\n",
        "        # will not be counted \n",
        "        # output: a list of high-scored movies that are rated by givern user, a list of corresponding ratings\n",
        "        #\n",
        "        all_rates = self.rating_df[self.rating_df['userId'] == userId]\n",
        "        high_rates = all_rates[all_rates['rating'] >= threshold]['rating'].values\n",
        "        high_rate_movie = all_rates[all_rates['rating'] >= threshold]['movieId'].values\n",
        "        return high_rate_movie, high_rates\n",
        "\n",
        "    \n",
        "    def ann(self, metric, num_trees):\n",
        "        # Implement Approximate Nearest Neighborhood to find similar items, save it in 'rating.ann' \n",
        "        # input: target movie, rating matrix, item_vectors, metric (can be \"angular\", \"euclidean\", \"manhattan\", \"hamming\")\n",
        "        #        number of trees(More trees gives higher precision when querying)\n",
        "        # output: save it in 'rating.ann' \n",
        "        #\n",
        "        # construct a dictionary where movied id contains its vector representation \n",
        "        rating_dictionary = {self.movie_ids[i]: self.item_vectors[i] for i in range(len(self.movie_ids))} \n",
        "        # ann method\n",
        "        f = len(self.item_vectors[1])\n",
        "        t = AnnoyIndex(f, metric)  # Length of item vector that will be indexed\n",
        "        for key in rating_dictionary:\n",
        "            t.add_item(key, rating_dictionary.get(key))\n",
        "        t.build(num_trees) # 10 trees\n",
        "        t.save('rating.ann')\n",
        "\n",
        "    \n",
        "    def ANN_recommendation(self,userId, dimension = 14, metric = 'angular',\n",
        "                           num_tree=20, threshold=2, top_n=10):\n",
        "        # use the trained ANN model to recommend the nearest movies to user's rated movies\n",
        "        # input: - dimension,metric,\n",
        "        #          num_tree,threshold,   learned parameter from ANN cv\n",
        "        #          top_n   \n",
        "        # output: a dataframe containing index as 'movieId','title','genre'\n",
        "        #\n",
        "        v = self.item_vector\n",
        "        #ann(metric, num_tree) \n",
        "        f = len(v[1])\n",
        "        u = AnnoyIndex(f, metric)\n",
        "        filename = 'rating' + str(num_tree) + '.ann'\n",
        "        u.load('drive/MyDrive/Rec-Sys-models/nmf_model/' + filename)\n",
        "        # u.load('rating.ann')\n",
        "        \n",
        "        # construct the recommendation for the user\n",
        "        high_rate_movie, rate = self.get_rated_movies(userId,threshold=threshold)\n",
        "        movielist = []\n",
        "        distancelist = []\n",
        "        \n",
        "        if len(high_rate_movie) > 1:\n",
        "            # find neighborhood of each movies in the high rated movie set\n",
        "            for movieid in high_rate_movie:\n",
        "                movie, dist = u.get_nns_by_item(movieid, top_n, include_distances=True)\n",
        "                movielist.extend(movie[1:])\n",
        "                \n",
        "                # get the weighted distance based on rating scores\n",
        "                weighted_dist = (np.array(dist[1:])/rate[np.where(high_rate_movie == movieid)]).tolist()\n",
        "                distancelist.extend(weighted_dist)  \n",
        "                \n",
        "            #if more than 20 movies are chosen to recommend to user, choose 20 nearest item for this user\n",
        "            if len(movielist) > 20:\n",
        "                sorted_recommend = np.array(movielist)[np.array(distancelist).argsort()]\n",
        "                movielist = sorted_recommend[:20]\n",
        "        \n",
        "        # construct a dataframe for final output\n",
        "        top_movie_rec = self.movie_df.loc[self.movie_df['movieId'].isin(movielist)].set_index('movieId')\n",
        "        \n",
        "        return top_movie_rec\n",
        "    \n",
        "    \n",
        "    def Popular_recommendation(self, top_k = 20):\n",
        "        # recommend only the most popular movies to the user\n",
        "        # define popularity as: at least 1000 reviews, \n",
        "        #                       at least 4.0 average rating\n",
        "        # output: a dataframe containing the top_k most popular movies\n",
        "        #\n",
        "        # calculate the average rating and number of reviews for each movie\n",
        "        grouped_rating = self.rating_df.groupby('movieId')['rating'].mean()\n",
        "        grouped_count = self.rating_df.groupby('movieId')['movieId'].count()\n",
        "        \n",
        "        # form them into datasets\n",
        "        df_grouped = pd.DataFrame(grouped_count)\n",
        "        df_grouped.columns = ['count']\n",
        "\n",
        "        df_group_avg = pd.DataFrame(grouped_rating)\n",
        "        df_group_avg.columns = ['avg_rating']\n",
        "        \n",
        "        # join two datasets and order by count and avg_rating\n",
        "        df_grouped = df_grouped.join(df_group_avg, on ='movieId')\n",
        "        df_grouped.sort_values(by=['count','avg_rating'], ascending=False)\n",
        "        \n",
        "        # get the top_k movies\n",
        "        top_k_rec = df_grouped.loc[df_grouped['count'] > 1000].loc[df_grouped['avg_rating']>4.0][:top_k]\n",
        "        \n",
        "        # construct a dataframe for final output\n",
        "        top_movie_rec = self.movie_df.loc[self.movie_df['movieId'].isin(top_k_rec.index.values)].set_index('movieId')\n",
        "        \n",
        "        return top_movie_rec\n",
        "    \n",
        "    def User_Classification(self,userId):\n",
        "        # classify users based on the number of movies they have rated to decide how to recommend\n",
        "        # input: - userId     a single userId that the model is recommending for\n",
        "        # output: the classification of user's rating record with value '0','1-50','51-150','151'\n",
        "        #\n",
        "        if userId not in self.user_ids:\n",
        "            return '0'\n",
        "        else:\n",
        "            num_of_rated_movies = len(self.rating_df.loc[self.rating_df.userId == userId]['movieId'].unique())\n",
        "            if 1 < num_of_rated_movies < 50:\n",
        "                return '1-50'\n",
        "            elif 51 < num_of_rated_movies < 150:\n",
        "                return '51-150'\n",
        "            else:\n",
        "                return '151'\n",
        "    \n",
        "    \n",
        "    def Recommend(self, userId, dcg_eval):\n",
        "        # if the user have not rated any movies, recommend the most popular movies\n",
        "        # if the user have rated 1 - 50 movies, recommend with NCF model only\n",
        "        # if the user have rated 51 - 150 movies, recommend with both NCF and ANN model, with more weights on NCF model\n",
        "        # if the user have rated more than 151 movies, recommend with both NCF and ANN model, with equal weights\n",
        "        # input: - userId     a single userId that the model is recommending for\n",
        "        # output: the comprehensive recommendation for the specific user\n",
        "        # \n",
        "        classification = self.User_Classification(userId)\n",
        "        \n",
        "        if classification == '0':\n",
        "            return self.Popular_recommendation()\n",
        "        elif classification == '1-50':\n",
        "            return self.NCF_recommendation(userId, dcg_eval)\n",
        "        elif classification == '51-150':\n",
        "            return self.NCF_recommendation(userId, dcg_eval)[:15].append(self.ANN_recommendation(userId)[:5])\n",
        "        else:\n",
        "            return self.NCF_recommendation(userId, dcg_eval)[:10].append(self.ANN_recommendation(userId)[:10])"
      ]
    },
    {
      "cell_type": "code",
      "execution_count": null,
      "metadata": {
        "id": "_XUAT4o1_xQN"
      },
      "outputs": [],
      "source": [
        "user_ids = rating_dt[\"userId\"].unique().tolist() \n",
        "num_all_user = len(user_ids)\n",
        "\n",
        "# randomly select 10% users from rating dataset \n",
        "np.random.seed(123)\n",
        "rand_userid = np.random.choice(user_ids, size = int(num_all_user * 0.1), replace=False)\n",
        "sample_df = rating_dt.loc[rating_dt['userId'].isin(rand_userid)]"
      ]
    },
    {
      "cell_type": "code",
      "execution_count": null,
      "metadata": {
        "id": "mKsX5PQl_xNh"
      },
      "outputs": [],
      "source": [
        "# pivot movie, user, rating dataframe into compressed matrix\n",
        "def movie_use_matrix_pivot(df_):\n",
        "    mu_matrix = df_.pivot(index = 'userId', \n",
        "                          columns = 'movieId', \n",
        "                          values = 'rating').fillna(0)\n",
        "    # compress original matrix\n",
        "    mu_matrix_cp = csr_matrix(mu_matrix.values)\n",
        "    return mu_matrix, mu_matrix_cp\n",
        "# get rating matrix\n",
        "rating_matrix, rating_matrix_cp = movie_use_matrix_pivot(sample_df)"
      ]
    },
    {
      "cell_type": "code",
      "execution_count": null,
      "metadata": {
        "id": "JgBeVkN3_xFK"
      },
      "outputs": [],
      "source": [
        "filename = 'drive/MyDrive/Rec-Sys-models/nmf_model/nmf_model.sav'\n",
        "loaded_model = pickle.load(open(filename, 'rb'))\n",
        "item_vector = loaded_model.components_.T"
      ]
    },
    {
      "cell_type": "code",
      "execution_count": null,
      "metadata": {
        "id": "a0UTFiiDAOwY"
      },
      "outputs": [],
      "source": [
        "Ensemble = EnsembleRecommender(sample_df, movie_dt,rating_matrix,item_vector )"
      ]
    },
    {
      "cell_type": "code",
      "execution_count": null,
      "metadata": {
        "id": "fG_iJLWGAOnx",
        "colab": {
          "base_uri": "https://localhost:8080/",
          "height": 700
        },
        "outputId": "17cf5ac5-649d-4625-edf7-2b98950a3290"
      },
      "outputs": [
        {
          "output_type": "execute_result",
          "data": {
            "text/plain": [
              "                                                     title  \\\n",
              "movieId                                                      \n",
              "159817                                 Planet Earth (2006)   \n",
              "3030                                        Yojimbo (1961)   \n",
              "40412                              Dead Man's Shoes (2004)   \n",
              "670                 World of Apu, The (Apur Sansar) (1959)   \n",
              "7925     Hidden Fortress, The (Kakushi-toride no san-ak...   \n",
              "65188    Dear Zachary: A Letter to a Son About His Fath...   \n",
              "912                                      Casablanca (1942)   \n",
              "3022                                   General, The (1926)   \n",
              "170705                             Band of Brothers (2001)   \n",
              "7327                                        Persona (1966)   \n",
              "93326                                This Means War (2012)   \n",
              "100727                                      Heroine (2012)   \n",
              "102716   Fast & Furious 6 (Fast and the Furious 6, The)...   \n",
              "102903                               Now You See Me (2013)   \n",
              "103249                                  World War Z (2013)   \n",
              "103755                                        Turbo (2013)   \n",
              "105608                           Sunshine on Leith (2013)    \n",
              "107707                                        Dhoom (2004)   \n",
              "108190                                    Divergent (2014)   \n",
              "110746                                  Hatchet III (2013)   \n",
              "\n",
              "                                              genres  \n",
              "movieId                                               \n",
              "159817                                   Documentary  \n",
              "3030                                Action|Adventure  \n",
              "40412                                 Crime|Thriller  \n",
              "670                                            Drama  \n",
              "7925                                Action|Adventure  \n",
              "65188                                    Documentary  \n",
              "912                                    Drama|Romance  \n",
              "3022                                      Comedy|War  \n",
              "170705                              Action|Drama|War  \n",
              "7327                                           Drama  \n",
              "93326                          Action|Comedy|Romance  \n",
              "100727                                         Drama  \n",
              "102716                    Action|Crime|Thriller|IMAX  \n",
              "102903                        Crime|Mystery|Thriller  \n",
              "103249                      Action|Drama|Horror|IMAX  \n",
              "103755   Adventure|Animation|Children|Comedy|Fantasy  \n",
              "105608                                       Musical  \n",
              "107707                  Action|Crime|Musical|Romance  \n",
              "108190                 Adventure|Romance|Sci-Fi|IMAX  \n",
              "110746                                 Comedy|Horror  "
            ],
            "text/html": [
              "\n",
              "  <div id=\"df-8cf88ac1-8166-4e2a-b156-7be1f6cc2017\">\n",
              "    <div class=\"colab-df-container\">\n",
              "      <div>\n",
              "<style scoped>\n",
              "    .dataframe tbody tr th:only-of-type {\n",
              "        vertical-align: middle;\n",
              "    }\n",
              "\n",
              "    .dataframe tbody tr th {\n",
              "        vertical-align: top;\n",
              "    }\n",
              "\n",
              "    .dataframe thead th {\n",
              "        text-align: right;\n",
              "    }\n",
              "</style>\n",
              "<table border=\"1\" class=\"dataframe\">\n",
              "  <thead>\n",
              "    <tr style=\"text-align: right;\">\n",
              "      <th></th>\n",
              "      <th>title</th>\n",
              "      <th>genres</th>\n",
              "    </tr>\n",
              "    <tr>\n",
              "      <th>movieId</th>\n",
              "      <th></th>\n",
              "      <th></th>\n",
              "    </tr>\n",
              "  </thead>\n",
              "  <tbody>\n",
              "    <tr>\n",
              "      <th>159817</th>\n",
              "      <td>Planet Earth (2006)</td>\n",
              "      <td>Documentary</td>\n",
              "    </tr>\n",
              "    <tr>\n",
              "      <th>3030</th>\n",
              "      <td>Yojimbo (1961)</td>\n",
              "      <td>Action|Adventure</td>\n",
              "    </tr>\n",
              "    <tr>\n",
              "      <th>40412</th>\n",
              "      <td>Dead Man's Shoes (2004)</td>\n",
              "      <td>Crime|Thriller</td>\n",
              "    </tr>\n",
              "    <tr>\n",
              "      <th>670</th>\n",
              "      <td>World of Apu, The (Apur Sansar) (1959)</td>\n",
              "      <td>Drama</td>\n",
              "    </tr>\n",
              "    <tr>\n",
              "      <th>7925</th>\n",
              "      <td>Hidden Fortress, The (Kakushi-toride no san-ak...</td>\n",
              "      <td>Action|Adventure</td>\n",
              "    </tr>\n",
              "    <tr>\n",
              "      <th>65188</th>\n",
              "      <td>Dear Zachary: A Letter to a Son About His Fath...</td>\n",
              "      <td>Documentary</td>\n",
              "    </tr>\n",
              "    <tr>\n",
              "      <th>912</th>\n",
              "      <td>Casablanca (1942)</td>\n",
              "      <td>Drama|Romance</td>\n",
              "    </tr>\n",
              "    <tr>\n",
              "      <th>3022</th>\n",
              "      <td>General, The (1926)</td>\n",
              "      <td>Comedy|War</td>\n",
              "    </tr>\n",
              "    <tr>\n",
              "      <th>170705</th>\n",
              "      <td>Band of Brothers (2001)</td>\n",
              "      <td>Action|Drama|War</td>\n",
              "    </tr>\n",
              "    <tr>\n",
              "      <th>7327</th>\n",
              "      <td>Persona (1966)</td>\n",
              "      <td>Drama</td>\n",
              "    </tr>\n",
              "    <tr>\n",
              "      <th>93326</th>\n",
              "      <td>This Means War (2012)</td>\n",
              "      <td>Action|Comedy|Romance</td>\n",
              "    </tr>\n",
              "    <tr>\n",
              "      <th>100727</th>\n",
              "      <td>Heroine (2012)</td>\n",
              "      <td>Drama</td>\n",
              "    </tr>\n",
              "    <tr>\n",
              "      <th>102716</th>\n",
              "      <td>Fast &amp; Furious 6 (Fast and the Furious 6, The)...</td>\n",
              "      <td>Action|Crime|Thriller|IMAX</td>\n",
              "    </tr>\n",
              "    <tr>\n",
              "      <th>102903</th>\n",
              "      <td>Now You See Me (2013)</td>\n",
              "      <td>Crime|Mystery|Thriller</td>\n",
              "    </tr>\n",
              "    <tr>\n",
              "      <th>103249</th>\n",
              "      <td>World War Z (2013)</td>\n",
              "      <td>Action|Drama|Horror|IMAX</td>\n",
              "    </tr>\n",
              "    <tr>\n",
              "      <th>103755</th>\n",
              "      <td>Turbo (2013)</td>\n",
              "      <td>Adventure|Animation|Children|Comedy|Fantasy</td>\n",
              "    </tr>\n",
              "    <tr>\n",
              "      <th>105608</th>\n",
              "      <td>Sunshine on Leith (2013)</td>\n",
              "      <td>Musical</td>\n",
              "    </tr>\n",
              "    <tr>\n",
              "      <th>107707</th>\n",
              "      <td>Dhoom (2004)</td>\n",
              "      <td>Action|Crime|Musical|Romance</td>\n",
              "    </tr>\n",
              "    <tr>\n",
              "      <th>108190</th>\n",
              "      <td>Divergent (2014)</td>\n",
              "      <td>Adventure|Romance|Sci-Fi|IMAX</td>\n",
              "    </tr>\n",
              "    <tr>\n",
              "      <th>110746</th>\n",
              "      <td>Hatchet III (2013)</td>\n",
              "      <td>Comedy|Horror</td>\n",
              "    </tr>\n",
              "  </tbody>\n",
              "</table>\n",
              "</div>\n",
              "      <button class=\"colab-df-convert\" onclick=\"convertToInteractive('df-8cf88ac1-8166-4e2a-b156-7be1f6cc2017')\"\n",
              "              title=\"Convert this dataframe to an interactive table.\"\n",
              "              style=\"display:none;\">\n",
              "        \n",
              "  <svg xmlns=\"http://www.w3.org/2000/svg\" height=\"24px\"viewBox=\"0 0 24 24\"\n",
              "       width=\"24px\">\n",
              "    <path d=\"M0 0h24v24H0V0z\" fill=\"none\"/>\n",
              "    <path d=\"M18.56 5.44l.94 2.06.94-2.06 2.06-.94-2.06-.94-.94-2.06-.94 2.06-2.06.94zm-11 1L8.5 8.5l.94-2.06 2.06-.94-2.06-.94L8.5 2.5l-.94 2.06-2.06.94zm10 10l.94 2.06.94-2.06 2.06-.94-2.06-.94-.94-2.06-.94 2.06-2.06.94z\"/><path d=\"M17.41 7.96l-1.37-1.37c-.4-.4-.92-.59-1.43-.59-.52 0-1.04.2-1.43.59L10.3 9.45l-7.72 7.72c-.78.78-.78 2.05 0 2.83L4 21.41c.39.39.9.59 1.41.59.51 0 1.02-.2 1.41-.59l7.78-7.78 2.81-2.81c.8-.78.8-2.07 0-2.86zM5.41 20L4 18.59l7.72-7.72 1.47 1.35L5.41 20z\"/>\n",
              "  </svg>\n",
              "      </button>\n",
              "      \n",
              "  <style>\n",
              "    .colab-df-container {\n",
              "      display:flex;\n",
              "      flex-wrap:wrap;\n",
              "      gap: 12px;\n",
              "    }\n",
              "\n",
              "    .colab-df-convert {\n",
              "      background-color: #E8F0FE;\n",
              "      border: none;\n",
              "      border-radius: 50%;\n",
              "      cursor: pointer;\n",
              "      display: none;\n",
              "      fill: #1967D2;\n",
              "      height: 32px;\n",
              "      padding: 0 0 0 0;\n",
              "      width: 32px;\n",
              "    }\n",
              "\n",
              "    .colab-df-convert:hover {\n",
              "      background-color: #E2EBFA;\n",
              "      box-shadow: 0px 1px 2px rgba(60, 64, 67, 0.3), 0px 1px 3px 1px rgba(60, 64, 67, 0.15);\n",
              "      fill: #174EA6;\n",
              "    }\n",
              "\n",
              "    [theme=dark] .colab-df-convert {\n",
              "      background-color: #3B4455;\n",
              "      fill: #D2E3FC;\n",
              "    }\n",
              "\n",
              "    [theme=dark] .colab-df-convert:hover {\n",
              "      background-color: #434B5C;\n",
              "      box-shadow: 0px 1px 3px 1px rgba(0, 0, 0, 0.15);\n",
              "      filter: drop-shadow(0px 1px 2px rgba(0, 0, 0, 0.3));\n",
              "      fill: #FFFFFF;\n",
              "    }\n",
              "  </style>\n",
              "\n",
              "      <script>\n",
              "        const buttonEl =\n",
              "          document.querySelector('#df-8cf88ac1-8166-4e2a-b156-7be1f6cc2017 button.colab-df-convert');\n",
              "        buttonEl.style.display =\n",
              "          google.colab.kernel.accessAllowed ? 'block' : 'none';\n",
              "\n",
              "        async function convertToInteractive(key) {\n",
              "          const element = document.querySelector('#df-8cf88ac1-8166-4e2a-b156-7be1f6cc2017');\n",
              "          const dataTable =\n",
              "            await google.colab.kernel.invokeFunction('convertToInteractive',\n",
              "                                                     [key], {});\n",
              "          if (!dataTable) return;\n",
              "\n",
              "          const docLinkHtml = 'Like what you see? Visit the ' +\n",
              "            '<a target=\"_blank\" href=https://colab.research.google.com/notebooks/data_table.ipynb>data table notebook</a>'\n",
              "            + ' to learn more about interactive tables.';\n",
              "          element.innerHTML = '';\n",
              "          dataTable['output_type'] = 'display_data';\n",
              "          await google.colab.output.renderOutput(dataTable, element);\n",
              "          const docLink = document.createElement('div');\n",
              "          docLink.innerHTML = docLinkHtml;\n",
              "          element.appendChild(docLink);\n",
              "        }\n",
              "      </script>\n",
              "    </div>\n",
              "  </div>\n",
              "  "
            ]
          },
          "metadata": {},
          "execution_count": 51
        }
      ],
      "source": [
        "# user 14 has more than 150 ratings\n",
        "Ensemble.Recommend(14, False)"
      ]
    },
    {
      "cell_type": "code",
      "source": [
        "rel_list = []\n",
        "userid_random = np.random.choice(rand_userid, 100, replace=False)\n",
        "for user in userid_random:\n",
        "    user_predictions = Ensemble.Recommend(user, True)\n",
        "    recommended = []\n",
        "    rate = []\n",
        "    rel = []    \n",
        "    for movieId, row in user_predictions.iterrows():\n",
        "        rating_in_df = sample_df.loc[(sample_df['userId'] == user) & (sample_df['movieId'] == movieId)]\n",
        "        if not rating_in_df.empty:\n",
        "          if rating_in_df['rating'].item() >= float(4):\n",
        "              rel.append(2)\n",
        "          elif rating_in_df['rating'].item() >= float(2) and rating_in_df['rating'].item() < float(4):\n",
        "              rel.append(1)\n",
        "          else:\n",
        "              rel.append(0)\n",
        "    rel_list.append(rel)\n",
        "\n",
        "dcg_sum = 0\n",
        "ndcg_sum = 0\n",
        "\n",
        "for r in rel_list:\n",
        "    dcg = 0\n",
        "    idcg = 0\n",
        "    for i, value in enumerate(r):\n",
        "        dcg += value/np.log(i+2)\n",
        "    r.sort(reverse=True)\n",
        "    for i, value in enumerate(r): \n",
        "        idcg += value/np.log(i+2)\n",
        "    ndcg = 0\n",
        "    if idcg != 0:\n",
        "      ndcg = dcg/idcg\n",
        "    ndcg_sum += ndcg\n",
        "\n",
        "print(ndcg_sum/len(rel_list))"
      ],
      "metadata": {
        "colab": {
          "base_uri": "https://localhost:8080/"
        },
        "id": "x9cKBpJbHURN",
        "outputId": "0b119c9a-a56f-4d04-a286-fa2f58724659"
      },
      "execution_count": null,
      "outputs": [
        {
          "output_type": "stream",
          "name": "stdout",
          "text": [
            "0.7977724250769785\n"
          ]
        }
      ]
    },
    {
      "cell_type": "markdown",
      "source": [
        "| nDCG20      | value |\n",
        "| ----------- | ----------- |\n",
        "| Hybrid      | 0.79777       |\n",
        "| NCF   | 0.9636       |\n",
        "| NMF-ANN   | 0.5410        |\n",
        "| CF   | 0.9275       |"
      ],
      "metadata": {
        "id": "CeX4ldkUkQht"
      }
    }
  ],
  "metadata": {
    "colab": {
      "collapsed_sections": [
        "WH5TteqzLZXk",
        "RBUl8JHdLZXo",
        "oDZ_VGi8tDQU",
        "eSwrjfhE0Xrn",
        "mgzziANR8hBt"
      ],
      "machine_shape": "hm",
      "name": "Rec-Systems-Project.ipynb",
      "provenance": [],
      "include_colab_link": true
    },
    "gpuClass": "standard",
    "kernelspec": {
      "display_name": "Python 3",
      "language": "python",
      "name": "python3"
    },
    "language_info": {
      "codemirror_mode": {
        "name": "ipython",
        "version": 3
      },
      "file_extension": ".py",
      "mimetype": "text/x-python",
      "name": "python",
      "nbconvert_exporter": "python",
      "pygments_lexer": "ipython3",
      "version": "3.6.6"
    },
    "accelerator": "GPU"
  },
  "nbformat": 4,
  "nbformat_minor": 0
}